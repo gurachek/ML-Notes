{
 "cells": [
  {
   "cell_type": "code",
   "execution_count": 9,
   "metadata": {},
   "outputs": [],
   "source": [
    "import sklearn.datasets as ds\n",
    "from sklearn.model_selection import train_test_split\n",
    "\n",
    "\n",
    "iris = ds.load_iris()\n",
    "\n",
    "X_train, X_test, y_train, y_test = train_test_split(iris.data, iris.target)\n",
    "\n",
    "def input_train():\n",
    "    features = {'SepalLength': X_train[:,0],\n",
    "               'SepalWidth' : X_train[:,1],\n",
    "               'PetalLength' : X_train[:,2],\n",
    "               'PetalWidth': X_train[:,3]}\n",
    "    labels = y_train\n",
    "    return features, labels\n",
    "\n",
    "def input_fn():\n",
    "    dataset = tf.data.Dataset.from_tensor_slices\n"
   ]
  }
 ],
 "metadata": {
  "kernelspec": {
   "display_name": "Python 3",
   "language": "python",
   "name": "python3"
  },
  "language_info": {
   "codemirror_mode": {
    "name": "ipython",
    "version": 3
   },
   "file_extension": ".py",
   "mimetype": "text/x-python",
   "name": "python",
   "nbconvert_exporter": "python",
   "pygments_lexer": "ipython3",
   "version": "3.6.3"
  }
 },
 "nbformat": 4,
 "nbformat_minor": 2
}
