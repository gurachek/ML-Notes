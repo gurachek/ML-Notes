{
 "cells": [
  {
   "cell_type": "markdown",
   "metadata": {},
   "source": [
    "https://github.com/keras-team/keras/blob/master/examples/cifar10_cnn.py"
   ]
  },
  {
   "cell_type": "code",
   "execution_count": 1,
   "metadata": {},
   "outputs": [
    {
     "name": "stdout",
     "output_type": "stream",
     "text": [
      "Tensorflow  1.8.0\n",
      "Keras  2.2.0\n"
     ]
    },
    {
     "name": "stderr",
     "output_type": "stream",
     "text": [
      "Using TensorFlow backend.\n"
     ]
    }
   ],
   "source": [
    "import tensorflow as tf\n",
    "import keras\n",
    "from keras.datasets import cifar10\n",
    "from keras.models import Sequential\n",
    "from keras.layers import Dense, Dropout, Activation, Flatten\n",
    "from keras.layers import Conv2D, MaxPooling2D\n",
    "from keras.preprocessing.image import ImageDataGenerator\n",
    "import os\n",
    "print(\"Tensorflow \",tf.__version__)\n",
    "print(\"Keras \",keras.__version__)"
   ]
  },
  {
   "cell_type": "code",
   "execution_count": 15,
   "metadata": {},
   "outputs": [
    {
     "name": "stdout",
     "output_type": "stream",
     "text": [
      "(50000, 32, 32, 3)\n",
      "(50000, 1)\n",
      "(10000, 32, 32, 3)\n"
     ]
    }
   ],
   "source": [
    "batch_size = 32\n",
    "num_classes = 10\n",
    "epochs = 22\n",
    "data_augmentation = True\n",
    "num_predictions = 20\n",
    "save_dir = os.path.join(os.getcwd(), 'saved_models')\n",
    "model_name = 'keras_cifar10_cnn.h5'\n",
    "\n",
    "(x_train, y_train), (x_test, y_test) = cifar10.load_data()\n",
    "print(x_train.shape)\n",
    "print (y_train.shape)\n",
    "print(x_test.shape)"
   ]
  },
  {
   "cell_type": "code",
   "execution_count": 16,
   "metadata": {},
   "outputs": [
    {
     "name": "stdout",
     "output_type": "stream",
     "text": [
      "[[6]\n",
      " [9]\n",
      " [9]]\n"
     ]
    }
   ],
   "source": [
    "print(y_train[:3])"
   ]
  },
  {
   "cell_type": "code",
   "execution_count": 17,
   "metadata": {},
   "outputs": [
    {
     "name": "stdout",
     "output_type": "stream",
     "text": [
      "[[0. 0. 0. 0. 0. 0. 1. 0. 0. 0.]\n",
      " [0. 0. 0. 0. 0. 0. 0. 0. 0. 1.]\n",
      " [0. 0. 0. 0. 0. 0. 0. 0. 0. 1.]]\n"
     ]
    }
   ],
   "source": [
    "y_train = keras.utils.to_categorical(y_train, num_classes)\n",
    "y_test = keras.utils.to_categorical(y_test, num_classes)\n",
    "print(y_train[:3])"
   ]
  },
  {
   "cell_type": "code",
   "execution_count": 18,
   "metadata": {},
   "outputs": [],
   "source": [
    "model = Sequential()\n",
    "model.add(Conv2D(32,3, padding = 'same', input_shape = x_train.shape[1:]))\n",
    "model.add(Activation('relu'))\n",
    "model.add(Conv2D(32,3))\n",
    "model.add(Activation('relu'))\n",
    "model.add(MaxPooling2D(pool_size=(2,2)))\n",
    "model.add(Dropout(0.2))\n",
    "\n",
    "model.add(Conv2D(64, (3, 3), padding='same'))\n",
    "model.add(Activation('relu'))\n",
    "model.add(Conv2D(64, (3, 3)))\n",
    "model.add(Activation('relu'))\n",
    "model.add(MaxPooling2D(pool_size=(2, 2)))\n",
    "model.add(Dropout(0.25))\n",
    "\n",
    "model.add(Flatten())\n",
    "model.add(Dense(512))\n",
    "model.add(Activation('relu'))\n",
    "model.add(Dropout(0.5))\n",
    "model.add(Dense(num_classes))\n",
    "model.add(Activation('softmax'))\n",
    "\n",
    "ops = keras.optimizers.rmsprop(lr = 0.0001, decay  = 1e-6)\n",
    "\n",
    "model.compile(loss = 'categorical_crossentropy', \n",
    "             optimizer = ops,\n",
    "             metrics = ['accuracy'])"
   ]
  },
  {
   "cell_type": "code",
   "execution_count": 19,
   "metadata": {
    "collapsed": true
   },
   "outputs": [],
   "source": [
    "x_train = x_train.astype('float32')\n",
    "x_test = x_test.astype('float32')\n",
    "x_train /= 255\n",
    "x_test /= 255\n",
    "\n",
    "datagen = ImageDataGenerator(featurewise_center=False,  # set input mean to 0 over the dataset\n",
    "        samplewise_center=False,  # set each sample mean to 0\n",
    "        featurewise_std_normalization=False,  # divide inputs by std of the dataset\n",
    "        samplewise_std_normalization=False,  # divide each input by its std\n",
    "        zca_whitening=False,  # apply ZCA whitening\n",
    "        zca_epsilon=1e-06,  # epsilon for ZCA whitening\n",
    "        rotation_range=0,  # randomly rotate images in the range (degrees, 0 to 180)\n",
    "        width_shift_range=0.1,  # randomly shift images horizontally (fraction of total width)\n",
    "        height_shift_range=0.1,  # randomly shift images vertically (fraction of total height)\n",
    "        shear_range=0.,  # set range for random shear\n",
    "        zoom_range=0.,  # set range for random zoom\n",
    "        channel_shift_range=0.,  # set range for random channel shifts\n",
    "        fill_mode='nearest',  # set mode for filling points outside the input boundaries\n",
    "        cval=0.,  # value used for fill_mode = \"constant\"\n",
    "        horizontal_flip=True,  # randomly flip images\n",
    "        vertical_flip=False,  # randomly flip images\n",
    "        rescale=None,  # set rescaling factor (applied before any other transformation)\n",
    "        preprocessing_function=None,  # set function that will be applied on each input\n",
    "        data_format=None,  # image data format, either \"channels_first\" or \"channels_last\"\n",
    "        validation_split=0.0)  # fraction of images reserved for validation (strictly between 0 an)\n",
    "\n",
    "datagen.fit(x_train)"
   ]
  },
  {
   "cell_type": "code",
   "execution_count": 20,
   "metadata": {},
   "outputs": [
    {
     "name": "stdout",
     "output_type": "stream",
     "text": [
      "Epoch 1/22\n",
      "1563/1563 [==============================] - 34s 22ms/step - loss: 1.8514 - acc: 0.3158 - val_loss: 1.6194 - val_acc: 0.4152\n",
      "Epoch 2/22\n",
      "1563/1563 [==============================] - 26s 17ms/step - loss: 1.5885 - acc: 0.4199 - val_loss: 1.4507 - val_acc: 0.4726\n",
      "Epoch 3/22\n",
      "1563/1563 [==============================] - 27s 17ms/step - loss: 1.4748 - acc: 0.4637 - val_loss: 1.3920 - val_acc: 0.4967\n",
      "Epoch 4/22\n",
      "1563/1563 [==============================] - 28s 18ms/step - loss: 1.3927 - acc: 0.4981 - val_loss: 1.2129 - val_acc: 0.5681\n",
      "Epoch 5/22\n",
      "1563/1563 [==============================] - 28s 18ms/step - loss: 1.3261 - acc: 0.5217 - val_loss: 1.1837 - val_acc: 0.5761\n",
      "Epoch 6/22\n",
      "1563/1563 [==============================] - 28s 18ms/step - loss: 1.2664 - acc: 0.5496 - val_loss: 1.1647 - val_acc: 0.5855\n",
      "Epoch 7/22\n",
      "1563/1563 [==============================] - 28s 18ms/step - loss: 1.2179 - acc: 0.5636 - val_loss: 1.0614 - val_acc: 0.6238\n",
      "Epoch 8/22\n",
      "1563/1563 [==============================] - 28s 18ms/step - loss: 1.1703 - acc: 0.5858 - val_loss: 1.0272 - val_acc: 0.6383\n",
      "Epoch 9/22\n",
      "1563/1563 [==============================] - 28s 18ms/step - loss: 1.1316 - acc: 0.5979 - val_loss: 0.9599 - val_acc: 0.6630\n",
      "Epoch 10/22\n",
      "1563/1563 [==============================] - 28s 18ms/step - loss: 1.1016 - acc: 0.6089 - val_loss: 0.9718 - val_acc: 0.6592\n",
      "Epoch 11/22\n",
      "1563/1563 [==============================] - 28s 18ms/step - loss: 1.0744 - acc: 0.6220 - val_loss: 0.9568 - val_acc: 0.6621\n",
      "Epoch 12/22\n",
      "1563/1563 [==============================] - 28s 18ms/step - loss: 1.0454 - acc: 0.6303 - val_loss: 0.8962 - val_acc: 0.6838\n",
      "Epoch 13/22\n",
      "1563/1563 [==============================] - 28s 18ms/step - loss: 1.0157 - acc: 0.6424 - val_loss: 0.9160 - val_acc: 0.6818\n",
      "Epoch 14/22\n",
      "1563/1563 [==============================] - 28s 18ms/step - loss: 0.9988 - acc: 0.6492 - val_loss: 0.9186 - val_acc: 0.6824\n",
      "Epoch 15/22\n",
      "1563/1563 [==============================] - 28s 18ms/step - loss: 0.9798 - acc: 0.6533 - val_loss: 0.8698 - val_acc: 0.7009\n",
      "Epoch 16/22\n",
      "1563/1563 [==============================] - 28s 18ms/step - loss: 0.9610 - acc: 0.6625 - val_loss: 0.8252 - val_acc: 0.7149\n",
      "Epoch 17/22\n",
      "1563/1563 [==============================] - 28s 18ms/step - loss: 0.9470 - acc: 0.6655 - val_loss: 0.8383 - val_acc: 0.7073\n",
      "Epoch 18/22\n",
      "1563/1563 [==============================] - 28s 18ms/step - loss: 0.9337 - acc: 0.6726 - val_loss: 0.8287 - val_acc: 0.7143\n",
      "Epoch 19/22\n",
      "1563/1563 [==============================] - 28s 18ms/step - loss: 0.9163 - acc: 0.6794 - val_loss: 0.8543 - val_acc: 0.7095\n",
      "Epoch 20/22\n",
      "1563/1563 [==============================] - 28s 18ms/step - loss: 0.9096 - acc: 0.6830 - val_loss: 0.8559 - val_acc: 0.7074\n",
      "Epoch 21/22\n",
      "1563/1563 [==============================] - 28s 18ms/step - loss: 0.8948 - acc: 0.6880 - val_loss: 0.8800 - val_acc: 0.6954\n",
      "Epoch 22/22\n",
      "1563/1563 [==============================] - 28s 18ms/step - loss: 0.8878 - acc: 0.6907 - val_loss: 0.7732 - val_acc: 0.7307\n"
     ]
    },
    {
     "data": {
      "text/plain": [
       "<keras.callbacks.History at 0x24256c7bef0>"
      ]
     },
     "execution_count": 20,
     "metadata": {},
     "output_type": "execute_result"
    }
   ],
   "source": [
    "model.fit_generator(datagen.flow(x_train, y_train, batch_size = batch_size),\n",
    "                   epochs = epochs,\n",
    "                   validation_data = (x_test, y_test),\n",
    "                   workers = 4)"
   ]
  },
  {
   "cell_type": "code",
   "execution_count": 21,
   "metadata": {},
   "outputs": [
    {
     "name": "stdout",
     "output_type": "stream",
     "text": [
      "Saved trained model at C:\\Users\\Harrison\\Documents\\GitHub\\ML-Notes\\3. Deep Learning Notes\\Keras Exercises\\Keras Examples\\saved_models\\keras_cifar10_cnn.h5 \n"
     ]
    }
   ],
   "source": [
    "if not os.path.isdir(save_dir):\n",
    "    os.makedirs(save_dir)\n",
    "model_path = os.path.join(save_dir, model_name)\n",
    "model.save(model_path)\n",
    "print('Saved trained model at %s ' % model_path)"
   ]
  },
  {
   "cell_type": "code",
   "execution_count": 22,
   "metadata": {},
   "outputs": [
    {
     "name": "stdout",
     "output_type": "stream",
     "text": [
      "10000/10000 [==============================] - 1s 149us/step\n",
      "Test loss: 0.7732314324378967\n",
      "Test accuracy: 0.7307\n"
     ]
    }
   ],
   "source": [
    "# Score trained model.\n",
    "scores = model.evaluate(x_test, y_test, verbose=1)\n",
    "print('Test loss:', scores[0])\n",
    "print('Test accuracy:', scores[1])"
   ]
  }
 ],
 "metadata": {
  "kernelspec": {
   "display_name": "Python [conda env:tensorflow]",
   "language": "python",
   "name": "conda-env-tensorflow-py"
  },
  "language_info": {
   "codemirror_mode": {
    "name": "ipython",
    "version": 3
   },
   "file_extension": ".py",
   "mimetype": "text/x-python",
   "name": "python",
   "nbconvert_exporter": "python",
   "pygments_lexer": "ipython3",
   "version": "3.5.4"
  }
 },
 "nbformat": 4,
 "nbformat_minor": 2
}
