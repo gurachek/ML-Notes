{
 "cells": [
  {
   "cell_type": "markdown",
   "metadata": {},
   "source": [
    "# Cifar10 CNN Implementation\n",
    "\n",
    "Code taken from the following repository.\n",
    "https://github.com/keras-team/keras/blob/master/examples/cifar10_cnn.py"
   ]
  },
  {
   "cell_type": "code",
   "execution_count": 1,
   "metadata": {},
   "outputs": [
    {
     "name": "stdout",
     "output_type": "stream",
     "text": [
      "Tensorflow  1.8.0\n",
      "Keras  2.2.0\n"
     ]
    },
    {
     "name": "stderr",
     "output_type": "stream",
     "text": [
      "Using TensorFlow backend.\n"
     ]
    }
   ],
   "source": [
    "import time\n",
    "import numpy as np\n",
    "import matplotlib.pyplot as plt\n",
    "import tensorflow as tf\n",
    "import keras\n",
    "\n",
    "from keras.datasets import cifar10\n",
    "\n",
    "from keras.models import Sequential\n",
    "\n",
    "from keras.layers import  Dropout, Activation, Flatten\n",
    "\n",
    "from keras.layers import Conv2D, MaxPooling2D, Dense\n",
    "\n",
    "from keras.preprocessing.image import ImageDataGenerator\n",
    "\n",
    "import os\n",
    "\n",
    "print(\"Tensorflow \",tf.__version__)\n",
    "print(\"Keras \",keras.__version__)"
   ]
  },
  {
   "cell_type": "code",
   "execution_count": 2,
   "metadata": {},
   "outputs": [
    {
     "name": "stdout",
     "output_type": "stream",
     "text": [
      "(50000, 32, 32, 3)\n",
      "(50000, 1)\n",
      "(10000, 32, 32, 3)\n"
     ]
    }
   ],
   "source": [
    "batch_size = 32\n",
    "num_classes = 10\n",
    "epochs = 22\n",
    "data_augmentation = True\n",
    "num_predictions = 20\n",
    "\n",
    "save_dir = os.path.join(os.getcwd(), 'saved_models')\n",
    "model_name = 'keras_cifar10_cnn.h5'\n",
    "\n",
    "#import the dataset\n",
    "(x_train, y_train), (x_test, y_test) = cifar10.load_data()\n",
    "\n",
    "#train set is 50,000 3-channel images that are 32 by 32 pixels\n",
    "print(x_train.shape)\n",
    "\n",
    "#labels are values 0-9 for the 10 diffeent image objects\n",
    "print (y_train.shape)\n",
    "\n",
    "#10,000 test images with the same format\n",
    "print(x_test.shape)"
   ]
  },
  {
   "cell_type": "code",
   "execution_count": 3,
   "metadata": {},
   "outputs": [
    {
     "name": "stdout",
     "output_type": "stream",
     "text": [
      "cat?\n"
     ]
    },
    {
     "data": {
      "image/png": "[encoded data removed]",
      "text/plain": [
       "<Figure size 432x288 with 1 Axes>"
      ]
     },
     "metadata": {},
     "output_type": "display_data"
    },
    {
     "name": "stdout",
     "output_type": "stream",
     "text": [
      "truck\n"
     ]
    },
    {
     "data": {
      "image/png": "[encoded data removed]",
      "text/plain": [
       "<Figure size 432x288 with 1 Axes>"
      ]
     },
     "metadata": {},
     "output_type": "display_data"
    }
   ],
   "source": [
    "print(\"cat?\")\n",
    "plt.imshow(x_train[0])\n",
    "plt.axis('off')\n",
    "plt.show()\n",
    "print(\"truck\")\n",
    "plt.imshow(x_train[1])\n",
    "plt.axis(\"off\")\n",
    "plt.show()"
   ]
  },
  {
   "cell_type": "code",
   "execution_count": 4,
   "metadata": {},
   "outputs": [],
   "source": [
    "#convert class label data to one hot encoding\n",
    "y_train = keras.utils.to_categorical(y_train, num_classes)\n",
    "y_test = keras.utils.to_categorical(y_test, num_classes)"
   ]
  },
  {
   "cell_type": "code",
   "execution_count": 5,
   "metadata": {},
   "outputs": [
    {
     "name": "stdout",
     "output_type": "stream",
     "text": [
      "_________________________________________________________________\n",
      "Layer (type)                 Output Shape              Param #   \n",
      "=================================================================\n",
      "conv2d_1 (Conv2D)            (None, 32, 32, 32)        896       \n",
      "_________________________________________________________________\n",
      "activation_1 (Activation)    (None, 32, 32, 32)        0         \n",
      "_________________________________________________________________\n",
      "conv2d_2 (Conv2D)            (None, 30, 30, 32)        9248      \n",
      "_________________________________________________________________\n",
      "activation_2 (Activation)    (None, 30, 30, 32)        0         \n",
      "_________________________________________________________________\n",
      "max_pooling2d_1 (MaxPooling2 (None, 15, 15, 32)        0         \n",
      "_________________________________________________________________\n",
      "dropout_1 (Dropout)          (None, 15, 15, 32)        0         \n",
      "_________________________________________________________________\n",
      "conv2d_3 (Conv2D)            (None, 15, 15, 64)        18496     \n",
      "_________________________________________________________________\n",
      "activation_3 (Activation)    (None, 15, 15, 64)        0         \n",
      "_________________________________________________________________\n",
      "conv2d_4 (Conv2D)            (None, 13, 13, 64)        36928     \n",
      "_________________________________________________________________\n",
      "activation_4 (Activation)    (None, 13, 13, 64)        0         \n",
      "_________________________________________________________________\n",
      "max_pooling2d_2 (MaxPooling2 (None, 6, 6, 64)          0         \n",
      "_________________________________________________________________\n",
      "dropout_2 (Dropout)          (None, 6, 6, 64)          0         \n",
      "_________________________________________________________________\n",
      "flatten_1 (Flatten)          (None, 2304)              0         \n",
      "_________________________________________________________________\n",
      "dense_1 (Dense)              (None, 512)               1180160   \n",
      "_________________________________________________________________\n",
      "activation_5 (Activation)    (None, 512)               0         \n",
      "_________________________________________________________________\n",
      "dropout_3 (Dropout)          (None, 512)               0         \n",
      "_________________________________________________________________\n",
      "dense_2 (Dense)              (None, 10)                5130      \n",
      "_________________________________________________________________\n",
      "activation_6 (Activation)    (None, 10)                0         \n",
      "=================================================================\n",
      "Total params: 1,250,858\n",
      "Trainable params: 1,250,858\n",
      "Non-trainable params: 0\n",
      "_________________________________________________________________\n"
     ]
    }
   ],
   "source": [
    "#initialize the sequential model\n",
    "model = Sequential()\n",
    "\n",
    "model.add(Conv2D(32, 3, padding = 'same', input_shape = x_train.shape[1:]))\n",
    "model.add(Activation('relu'))\n",
    "\n",
    "model.add(Conv2D(32, 3))\n",
    "model.add(Activation('relu'))\n",
    "\n",
    "model.add(MaxPooling2D(pool_size=(2,2)))\n",
    "#drop 20% of the feature maps\n",
    "model.add(Dropout(0.25))\n",
    "\n",
    "\n",
    "#-------------------------------------------\n",
    "model.add(Conv2D(64, (3, 3), padding='same'))\n",
    "model.add(Activation('relu'))\n",
    "\n",
    "model.add(Conv2D(64, (3, 3)))\n",
    "model.add(Activation('relu'))\n",
    "\n",
    "model.add(MaxPooling2D(pool_size=(2, 2)))\n",
    "model.add(Dropout(0.25))\n",
    "\n",
    "\n",
    "#--------------------------------------\n",
    "#flattens feature maps to vector array\n",
    "model.add(Flatten())\n",
    "\n",
    "#each feature map now has 512 pixels\n",
    "model.add(Dense(512))\n",
    "model.add(Activation('relu'))\n",
    "model.add(Dropout(0.5))\n",
    "model.add(Dense(num_classes))\n",
    "model.add(Activation('softmax'))\n",
    "\n",
    "\n",
    "\n",
    "#inintialize the optimizer, here we have root mean square error as cost function\n",
    "ops = keras.optimizers.rmsprop(lr = 0.0001, decay  = 1e-6)\n",
    "\n",
    "#compiles the network into C\n",
    "model.compile(loss = 'categorical_crossentropy', \n",
    "             optimizer = ops,\n",
    "             metrics = ['accuracy'])\n",
    "\n",
    "#see the layer summary below\n",
    "model.summary()"
   ]
  },
  {
   "cell_type": "code",
   "execution_count": 6,
   "metadata": {},
   "outputs": [],
   "source": [
    "x_train = x_train.astype('float32')\n",
    "x_test = x_test.astype('float32')\n",
    "x_train /= 255\n",
    "x_test /= 255\n",
    "\n",
    "datagen = ImageDataGenerator(featurewise_center=False,  # set input mean to 0 over the dataset\n",
    "        samplewise_center=False,  # set each sample mean to 0\n",
    "        featurewise_std_normalization=False,  # divide inputs by std of the dataset\n",
    "        samplewise_std_normalization=False,  # divide each input by its std\n",
    "        zca_whitening=False,  # apply ZCA whitening\n",
    "        zca_epsilon=1e-06,  # epsilon for ZCA whitening\n",
    "        rotation_range=0,  # randomly rotate images in the range (degrees, 0 to 180)\n",
    "        width_shift_range=0.1,  # randomly shift images horizontally (fraction of total width)\n",
    "        height_shift_range=0.1,  # randomly shift images vertically (fraction of total height)\n",
    "        shear_range=0.,  # set range for random shear\n",
    "        zoom_range=0.,  # set range for random zoom\n",
    "        channel_shift_range=0.,  # set range for random channel shifts\n",
    "        fill_mode='nearest',  # set mode for filling points outside the input boundaries\n",
    "        cval=0.,  # value used for fill_mode = \"constant\"\n",
    "        horizontal_flip=True,  # randomly flip images\n",
    "        vertical_flip=False,  # randomly flip images\n",
    "        rescale=None,  # set rescaling factor (applied before any other transformation)\n",
    "        preprocessing_function=None,  # set function that will be applied on each input\n",
    "        data_format=None,  # image data format, either \"channels_first\" or \"channels_last\"\n",
    "        validation_split=0.0)  # fraction of images reserved for validation (strictly between 0 an)\n",
    "\n",
    "datagen.fit(x_train)"
   ]
  },
  {
   "cell_type": "code",
   "execution_count": 7,
   "metadata": {},
   "outputs": [
    {
     "name": "stdout",
     "output_type": "stream",
     "text": [
      "Epoch 1/22\n",
      "1563/1563 [==============================] - 16s 11ms/step - loss: 1.8916 - acc: 0.3030 - val_loss: 1.5606 - val_acc: 0.4357\n",
      "Epoch 2/22\n",
      "1563/1563 [==============================] - 14s 9ms/step - loss: 1.5933 - acc: 0.4195 - val_loss: 1.4038 - val_acc: 0.4917\n",
      "Epoch 3/22\n",
      "1563/1563 [==============================] - 14s 9ms/step - loss: 1.4777 - acc: 0.4676 - val_loss: 1.3342 - val_acc: 0.5215\n",
      "Epoch 4/22\n",
      "1563/1563 [==============================] - 14s 9ms/step - loss: 1.3862 - acc: 0.5024 - val_loss: 1.1986 - val_acc: 0.5757\n",
      "Epoch 5/22\n",
      "1563/1563 [==============================] - 14s 9ms/step - loss: 1.3201 - acc: 0.5282 - val_loss: 1.1679 - val_acc: 0.5875\n",
      "Epoch 6/22\n",
      "1563/1563 [==============================] - 14s 9ms/step - loss: 1.2612 - acc: 0.5496 - val_loss: 1.1136 - val_acc: 0.6099\n",
      "Epoch 7/22\n",
      "1563/1563 [==============================] - 14s 9ms/step - loss: 1.2126 - acc: 0.5688 - val_loss: 1.1584 - val_acc: 0.5934\n",
      "Epoch 8/22\n",
      "1563/1563 [==============================] - 14s 9ms/step - loss: 1.1698 - acc: 0.5864 - val_loss: 1.0087 - val_acc: 0.6461\n",
      "Epoch 9/22\n",
      "1563/1563 [==============================] - 14s 9ms/step - loss: 1.1337 - acc: 0.6006 - val_loss: 1.0674 - val_acc: 0.6211\n",
      "Epoch 10/22\n",
      "1563/1563 [==============================] - 14s 9ms/step - loss: 1.1012 - acc: 0.6118 - val_loss: 1.0134 - val_acc: 0.6453\n",
      "Epoch 11/22\n",
      "1563/1563 [==============================] - 14s 9ms/step - loss: 1.0733 - acc: 0.6204 - val_loss: 0.9967 - val_acc: 0.6485\n",
      "Epoch 12/22\n",
      "1563/1563 [==============================] - 14s 9ms/step - loss: 1.0484 - acc: 0.6310 - val_loss: 0.8977 - val_acc: 0.6864\n",
      "Epoch 13/22\n",
      "1563/1563 [==============================] - 14s 9ms/step - loss: 1.0218 - acc: 0.6385 - val_loss: 0.8734 - val_acc: 0.6979\n",
      "Epoch 14/22\n",
      "1563/1563 [==============================] - 14s 9ms/step - loss: 1.0022 - acc: 0.6491 - val_loss: 0.8692 - val_acc: 0.6949\n",
      "Epoch 15/22\n",
      "1563/1563 [==============================] - 14s 9ms/step - loss: 0.9853 - acc: 0.6552 - val_loss: 0.8675 - val_acc: 0.6943\n",
      "Epoch 16/22\n",
      "1563/1563 [==============================] - 14s 9ms/step - loss: 0.9679 - acc: 0.6604 - val_loss: 0.8526 - val_acc: 0.6967\n",
      "Epoch 17/22\n",
      "1563/1563 [==============================] - 14s 9ms/step - loss: 0.9556 - acc: 0.6670 - val_loss: 0.9250 - val_acc: 0.6772\n",
      "Epoch 18/22\n",
      "1563/1563 [==============================] - 14s 9ms/step - loss: 0.9336 - acc: 0.6730 - val_loss: 0.8368 - val_acc: 0.7059\n",
      "Epoch 19/22\n",
      "1563/1563 [==============================] - 14s 9ms/step - loss: 0.9285 - acc: 0.6770 - val_loss: 0.7937 - val_acc: 0.7244\n",
      "Epoch 20/22\n",
      "1563/1563 [==============================] - 14s 9ms/step - loss: 0.9176 - acc: 0.6811 - val_loss: 0.7875 - val_acc: 0.7284\n",
      "Epoch 21/22\n",
      "1563/1563 [==============================] - 14s 9ms/step - loss: 0.9013 - acc: 0.6867 - val_loss: 0.7861 - val_acc: 0.7233\n",
      "Epoch 22/22\n",
      "1563/1563 [==============================] - 14s 9ms/step - loss: 0.8970 - acc: 0.6893 - val_loss: 0.7628 - val_acc: 0.7364\n"
     ]
    },
    {
     "data": {
      "text/plain": [
       "<keras.callbacks.History at 0x1e5ac919d30>"
      ]
     },
     "execution_count": 7,
     "metadata": {},
     "output_type": "execute_result"
    }
   ],
   "source": [
    "t = time.process_time()\n",
    "\n",
    "model.fit_generator(datagen.flow(x_train, y_train, batch_size = batch_size),\n",
    "                   epochs = epochs,\n",
    "                   validation_data = (x_test, y_test) , workers = 4)"
   ]
  },
  {
   "cell_type": "code",
   "execution_count": 8,
   "metadata": {},
   "outputs": [
    {
     "name": "stdout",
     "output_type": "stream",
     "text": [
      "Elapsed Time:  1107.53125\n"
     ]
    }
   ],
   "source": [
    "print(\"Elapsed Time: \", time.process_time()-t)"
   ]
  },
  {
   "cell_type": "code",
   "execution_count": 9,
   "metadata": {},
   "outputs": [
    {
     "name": "stdout",
     "output_type": "stream",
     "text": [
      "Saved trained model at C:\\Users\\harri\\Documents\\GitHub\\ML-Notes\\3. Deep Learning Notes\\Keras Exercises\\Keras Examples\\saved_models\\keras_cifar10_cnn.h5 \n"
     ]
    }
   ],
   "source": [
    "if not os.path.isdir(save_dir):\n",
    "    os.makedirs(save_dir)\n",
    "model_path = os.path.join(save_dir, model_name)\n",
    "model.save(model_path)\n",
    "print('Saved trained model at %s ' % model_path)"
   ]
  },
  {
   "cell_type": "code",
   "execution_count": 10,
   "metadata": {},
   "outputs": [
    {
     "name": "stdout",
     "output_type": "stream",
     "text": [
      "10000/10000 [==============================] - 1s 85us/step\n",
      "Test loss: 0.7628070287704468\n",
      "Test accuracy: 0.7364\n"
     ]
    }
   ],
   "source": [
    "# Score trained model.\n",
    "scores = model.evaluate(x_test, y_test, verbose=1)\n",
    "print('Test loss: ', scores[0])\n",
    "print('Test accuracy: ', scores[1])"
   ]
  }
 ],
 "metadata": {
  "kernelspec": {
   "display_name": "Python [conda env:tensorflow]",
   "language": "python",
   "name": "conda-env-tensorflow-py"
  },
  "language_info": {
   "codemirror_mode": {
    "name": "ipython",
    "version": 3
   },
   "file_extension": ".py",
   "mimetype": "text/x-python",
   "name": "python",
   "nbconvert_exporter": "python",
   "pygments_lexer": "ipython3",
   "version": "3.5.4"
  }
 },
 "nbformat": 4,
 "nbformat_minor": 2
}
