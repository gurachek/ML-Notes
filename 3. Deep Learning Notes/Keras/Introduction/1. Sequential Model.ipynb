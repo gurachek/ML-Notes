{
 "cells": [
  {
   "cell_type": "markdown",
   "metadata": {},
   "source": [
    "## The Sequential Model\n",
    "The sequential model is a linear stack of layers,"
   ]
  },
  {
   "cell_type": "code",
   "execution_count": 1,
   "metadata": {},
   "outputs": [
    {
     "name": "stderr",
     "output_type": "stream",
     "text": [
      "Using TensorFlow backend.\n"
     ]
    }
   ],
   "source": [
    "import tensorflow as tf\n",
    "import keras"
   ]
  },
  {
   "cell_type": "code",
   "execution_count": 4,
   "metadata": {},
   "outputs": [],
   "source": [
    "#instantiate the model\n",
    "model = keras.models.Sequential()\n",
    "\n",
    "#add to the model with the .add method to tack on layers\n",
    "model.add(keras.layers.Dense(10,activation = 'relu',  input_shape=[3]))"
   ]
  },
  {
   "cell_type": "markdown",
   "metadata": {},
   "source": [
    "### Specify the input shape\n",
    "\n",
    "The first layer in the model NEEDS the input_shape kwarg, all of the other layers can automatically detect the input shape.\n",
    "\n",
    "### Compilation\n",
    "Compilation configures the learning process. Use the .compile method which receives three arguments.\n",
    "1. optimizer- string identifier or an optimizer class\n",
    "2. loss function - string or loss class or an objective function.\n",
    "3. list of metrics - for classification CAN BE CUSTOM"
   ]
  },
  {
   "cell_type": "code",
   "execution_count": null,
   "metadata": {
    "collapsed": true
   },
   "outputs": [],
   "source": [
    "# For a multi-class classification problem\n",
    "model.compile(optimizer='rmsprop',\n",
    "              loss='categorical_crossentropy',\n",
    "              metrics=['accuracy'])\n",
    "\n",
    "# For a binary classification problem\n",
    "model.compile(optimizer='rmsprop',\n",
    "              loss='binary_crossentropy',\n",
    "              metrics=['accuracy'])\n",
    "\n",
    "# For a mean squared error regression problem\n",
    "model.compile(optimizer='rmsprop',\n",
    "              loss='mse')\n",
    "\n",
    "# For custom metrics\n",
    "import keras.backend as K\n",
    "\n",
    "def mean_pred(y_true, y_pred):\n",
    "    return K.mean(y_pred)\n",
    "\n",
    "model.compile(optimizer='rmsprop',\n",
    "              loss='binary_crossentropy',\n",
    "              metrics=['accuracy', mean_pred])"
   ]
  },
  {
   "cell_type": "markdown",
   "metadata": {},
   "source": [
    "# Examples\n",
    "\n",
    "### MLP for multi-class softmax"
   ]
  },
  {
   "cell_type": "code",
   "execution_count": 5,
   "metadata": {},
   "outputs": [
    {
     "name": "stdout",
     "output_type": "stream",
     "text": [
      "Epoch 1/20\n",
      "10000/10000 [==============================] - 2s 209us/step - loss: 2.3950 - acc: 0.0959\n",
      "Epoch 2/20\n",
      "10000/10000 [==============================] - 0s 26us/step - loss: 2.3457 - acc: 0.0970\n",
      "Epoch 3/20\n",
      "10000/10000 [==============================] - 0s 26us/step - loss: 2.3335 - acc: 0.0990\n",
      "Epoch 4/20\n",
      "10000/10000 [==============================] - 0s 25us/step - loss: 2.3251 - acc: 0.0992\n",
      "Epoch 5/20\n",
      "10000/10000 [==============================] - 0s 26us/step - loss: 2.3209 - acc: 0.1016\n",
      "Epoch 6/20\n",
      "10000/10000 [==============================] - 0s 26us/step - loss: 2.3177 - acc: 0.0980\n",
      "Epoch 7/20\n",
      "10000/10000 [==============================] - 0s 30us/step - loss: 2.3170 - acc: 0.0991\n",
      "Epoch 8/20\n",
      "10000/10000 [==============================] - 0s 29us/step - loss: 2.3155 - acc: 0.0994\n",
      "Epoch 9/20\n",
      "10000/10000 [==============================] - 0s 28us/step - loss: 2.3116 - acc: 0.0980\n",
      "Epoch 10/20\n",
      "10000/10000 [==============================] - 0s 29us/step - loss: 2.3108 - acc: 0.1022\n",
      "Epoch 11/20\n",
      "10000/10000 [==============================] - 0s 26us/step - loss: 2.3099 - acc: 0.0998\n",
      "Epoch 12/20\n",
      "10000/10000 [==============================] - 0s 26us/step - loss: 2.3086 - acc: 0.0993\n",
      "Epoch 13/20\n",
      "10000/10000 [==============================] - 0s 26us/step - loss: 2.3090 - acc: 0.0950\n",
      "Epoch 14/20\n",
      "10000/10000 [==============================] - 0s 30us/step - loss: 2.3074 - acc: 0.0987\n",
      "Epoch 15/20\n",
      "10000/10000 [==============================] - 0s 29us/step - loss: 2.3064 - acc: 0.1004\n",
      "Epoch 16/20\n",
      "10000/10000 [==============================] - 0s 29us/step - loss: 2.3077 - acc: 0.1040\n",
      "Epoch 17/20\n",
      "10000/10000 [==============================] - 0s 29us/step - loss: 2.3068 - acc: 0.1039\n",
      "Epoch 18/20\n",
      "10000/10000 [==============================] - 0s 29us/step - loss: 2.3069 - acc: 0.1048\n",
      "Epoch 19/20\n",
      "10000/10000 [==============================] - 0s 29us/step - loss: 2.3064 - acc: 0.1015\n",
      "Epoch 20/20\n",
      "10000/10000 [==============================] - 0s 29us/step - loss: 2.3063 - acc: 0.1005\n"
     ]
    },
    {
     "data": {
      "text/plain": [
       "<keras.callbacks.History at 0x1339fec5fd0>"
      ]
     },
     "execution_count": 5,
     "metadata": {},
     "output_type": "execute_result"
    }
   ],
   "source": [
    "import numpy as np\n",
    "\n",
    "X_train = np.random.random((10000,20))\n",
    "y_train = keras.utils.to_categorical(np.random.randint(10, size=(10000,1)), num_classes=10)\n",
    "\n",
    "X_test = np.random.random((1000,20))\n",
    "y_test = keras.utils.to_categorical(np.random.randint(10, size=(1000,1)), num_classes=10)\n",
    "\n",
    "\n",
    "model = keras.models.Sequential()\n",
    "\n",
    "model.add(keras.layers.Dense(30, input_shape = [20,], activation = 'relu'))\n",
    "model.add(keras.layers.Dropout(0.3))\n",
    "model.add(keras.layers.Dense(30, activation = 'relu'))\n",
    "model.add(keras.layers.Dropout(0.3))\n",
    "model.add(keras.layers.Dense(10, activation ='softmax'))\n",
    "\n",
    "model.compile(loss = 'categorical_crossentropy',\n",
    "             optimizer = 'sgd',\n",
    "             metrics = ['accuracy'])\n",
    "\n",
    "model.fit(X_train, y_train, \n",
    "          epochs =20,\n",
    "          batch_size = 128)"
   ]
  },
  {
   "cell_type": "code",
   "execution_count": 6,
   "metadata": {},
   "outputs": [
    {
     "name": "stdout",
     "output_type": "stream",
     "text": [
      "1000/1000 [==============================] - 0s 84us/step\n"
     ]
    },
    {
     "data": {
      "text/plain": [
       "[2.303669075012207, 0.103]"
      ]
     },
     "execution_count": 6,
     "metadata": {},
     "output_type": "execute_result"
    }
   ],
   "source": [
    "model.evaluate(X_test, y_test)"
   ]
  },
  {
   "cell_type": "markdown",
   "metadata": {},
   "source": [
    "### Sequence Classification"
   ]
  },
  {
   "cell_type": "code",
   "execution_count": null,
   "metadata": {
    "collapsed": true
   },
   "outputs": [],
   "source": []
  }
 ],
 "metadata": {
  "kernelspec": {
   "display_name": "Python [conda env:tensorflow]",
   "language": "python",
   "name": "conda-env-tensorflow-py"
  },
  "language_info": {
   "codemirror_mode": {
    "name": "ipython",
    "version": 3
   },
   "file_extension": ".py",
   "mimetype": "text/x-python",
   "name": "python",
   "nbconvert_exporter": "python",
   "pygments_lexer": "ipython3",
   "version": "3.5.4"
  }
 },
 "nbformat": 4,
 "nbformat_minor": 2
}
