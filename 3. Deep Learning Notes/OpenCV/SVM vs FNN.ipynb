{
 "cells": [
  {
   "cell_type": "code",
   "execution_count": 1,
   "metadata": {
    "scrolled": true
   },
   "outputs": [
    {
     "name": "stderr",
     "output_type": "stream",
     "text": [
      "Using TensorFlow backend.\n"
     ]
    }
   ],
   "source": [
    "from keras.applications.vgg16 import VGG16\n",
    "from keras.models import Model, Sequential\n",
    "from keras.layers import Dense, Dropout, Conv2D, MaxPooling2D, Input, Flatten, Activation\n",
    "from keras.preprocessing import image\n",
    "from keras.utils import to_categorical\n",
    "import numpy as np"
   ]
  },
  {
   "cell_type": "markdown",
   "metadata": {},
   "source": [
    "## Training a KNN for Image Classification"
   ]
  },
  {
   "cell_type": "code",
   "execution_count": 2,
   "metadata": {},
   "outputs": [],
   "source": [
    "from sklearn.neighbors import KNeighborsClassifier\n",
    "from keras.datasets import cifar10\n",
    "\n",
    "(x_train, y_train), (x_test, y_test) = cifar10.load_data()\n",
    "x_train = x_train.astype('float32')\n",
    "x_test = x_test.astype('float32')\n",
    "x_train  /= 255\n",
    "x_test /= 255\n",
    "y_train = to_categorical(y_train)\n",
    "y_test = to_categorical(y_test)\n",
    "\n",
    "knn = KNeighborsClassifier()"
   ]
  },
  {
   "cell_type": "raw",
   "metadata": {},
   "source": [
    "knn.fit(X_train, y_train)\n",
    "y_prefrom keras.datasets import cifar10\n",
    "\n",
    "(x_train, y_train), (x_test, y_test) = cifar10.load_data() = knn.predict(X_test)\n",
    "print(np.mean(y_pred==y_test))"
   ]
  },
  {
   "cell_type": "markdown",
   "metadata": {},
   "source": [
    "## CNN"
   ]
  },
  {
   "cell_type": "code",
   "execution_count": 3,
   "metadata": {},
   "outputs": [],
   "source": [
    "inputs = Input(shape = (32,32,3))\n",
    "x = Conv2D(32,3, activation = \"relu\", padding = \"same\")(inputs)\n",
    "x = Conv2D(32, 3, activation = \"relu\", padding = \"same\")(x)\n",
    "x = MaxPooling2D()(x)\n",
    "x = Dropout(0.2)(x)\n",
    "\n",
    "x = Conv2D(32, 3, activation = \"relu\", padding = \"same\")(x)\n",
    "x = Conv2D(32, 3, activation = \"relu\", padding = \"same\")(x)\n",
    "x = MaxPooling2D()(x)\n",
    "x = Dropout(0.2)(x)\n",
    "\n",
    "x = Flatten()(x)\n",
    "x = Dense(300, activation = \"relu\")(x)\n",
    "\n",
    "predictions = Dense(10, activation = \"softmax\")(x)"
   ]
  },
  {
   "cell_type": "code",
   "execution_count": 4,
   "metadata": {},
   "outputs": [
    {
     "name": "stdout",
     "output_type": "stream",
     "text": [
      "_________________________________________________________________\n",
      "Layer (type)                 Output Shape              Param #   \n",
      "=================================================================\n",
      "input_1 (InputLayer)         (None, 32, 32, 3)         0         \n",
      "_________________________________________________________________\n",
      "conv2d_1 (Conv2D)            (None, 32, 32, 32)        896       \n",
      "_________________________________________________________________\n",
      "conv2d_2 (Conv2D)            (None, 32, 32, 32)        9248      \n",
      "_________________________________________________________________\n",
      "max_pooling2d_1 (MaxPooling2 (None, 16, 16, 32)        0         \n",
      "_________________________________________________________________\n",
      "dropout_1 (Dropout)          (None, 16, 16, 32)        0         \n",
      "_________________________________________________________________\n",
      "conv2d_3 (Conv2D)            (None, 16, 16, 32)        9248      \n",
      "_________________________________________________________________\n",
      "conv2d_4 (Conv2D)            (None, 16, 16, 32)        9248      \n",
      "_________________________________________________________________\n",
      "max_pooling2d_2 (MaxPooling2 (None, 8, 8, 32)          0         \n",
      "_________________________________________________________________\n",
      "dropout_2 (Dropout)          (None, 8, 8, 32)          0         \n",
      "_________________________________________________________________\n",
      "flatten_1 (Flatten)          (None, 2048)              0         \n",
      "_________________________________________________________________\n",
      "dense_1 (Dense)              (None, 300)               614700    \n",
      "_________________________________________________________________\n",
      "dense_2 (Dense)              (None, 10)                3010      \n",
      "=================================================================\n",
      "Total params: 646,350\n",
      "Trainable params: 646,350\n",
      "Non-trainable params: 0\n",
      "_________________________________________________________________\n"
     ]
    }
   ],
   "source": [
    "model = Model(inputs = inputs, outputs=predictions)\n",
    "\n",
    "model.compile(optimizer = \"rmsprop\",\n",
    "             loss = \"categorical_crossentropy\",\n",
    "             metrics = [\"accuracy\"])\n",
    "model.summary()"
   ]
  },
  {
   "cell_type": "code",
   "execution_count": 5,
   "metadata": {
    "scrolled": false
   },
   "outputs": [
    {
     "name": "stdout",
     "output_type": "stream",
     "text": [
      "Epoch 1/20\n",
      "50000/50000 [==============================] - 8s 155us/step - loss: 1.6502 - acc: 0.4041\n",
      "Epoch 2/20\n",
      "50000/50000 [==============================] - 5s 106us/step - loss: 1.2341 - acc: 0.5608\n",
      "Epoch 3/20\n",
      "50000/50000 [==============================] - 5s 107us/step - loss: 1.0476 - acc: 0.6297\n",
      "Epoch 4/20\n",
      "50000/50000 [==============================] - 5s 107us/step - loss: 0.9158 - acc: 0.6783\n",
      "Epoch 5/20\n",
      "50000/50000 [==============================] - 5s 107us/step - loss: 0.8148 - acc: 0.7144\n",
      "Epoch 6/20\n",
      "50000/50000 [==============================] - 5s 106us/step - loss: 0.7209 - acc: 0.7494\n",
      "Epoch 7/20\n",
      "50000/50000 [==============================] - 5s 107us/step - loss: 0.6426 - acc: 0.7761\n",
      "Epoch 8/20\n",
      "50000/50000 [==============================] - 5s 107us/step - loss: 0.5749 - acc: 0.7992\n",
      "Epoch 9/20\n",
      "50000/50000 [==============================] - 5s 107us/step - loss: 0.5192 - acc: 0.8197\n",
      "Epoch 10/20\n",
      "50000/50000 [==============================] - 5s 107us/step - loss: 0.4607 - acc: 0.8393\n",
      "Epoch 11/20\n",
      "50000/50000 [==============================] - 5s 107us/step - loss: 0.4136 - acc: 0.8554\n",
      "Epoch 12/20\n",
      "50000/50000 [==============================] - 5s 107us/step - loss: 0.3713 - acc: 0.8696\n",
      "Epoch 13/20\n",
      "50000/50000 [==============================] - 5s 107us/step - loss: 0.3362 - acc: 0.8813\n",
      "Epoch 14/20\n",
      "50000/50000 [==============================] - 5s 109us/step - loss: 0.3035 - acc: 0.8931\n",
      "Epoch 15/20\n",
      "50000/50000 [==============================] - 5s 108us/step - loss: 0.2776 - acc: 0.9033\n",
      "Epoch 16/20\n",
      "50000/50000 [==============================] - 5s 108us/step - loss: 0.2551 - acc: 0.9106\n",
      "Epoch 17/20\n",
      "50000/50000 [==============================] - 5s 108us/step - loss: 0.2352 - acc: 0.9181\n",
      "Epoch 18/20\n",
      "50000/50000 [==============================] - 5s 106us/step - loss: 0.2170 - acc: 0.9239\n",
      "Epoch 19/20\n",
      "50000/50000 [==============================] - 5s 106us/step - loss: 0.2001 - acc: 0.9303\n",
      "Epoch 20/20\n",
      "50000/50000 [==============================] - 5s 106us/step - loss: 0.1936 - acc: 0.9315\n"
     ]
    },
    {
     "data": {
      "text/plain": [
       "<keras.callbacks.History at 0x18d2f2d6630>"
      ]
     },
     "execution_count": 5,
     "metadata": {},
     "output_type": "execute_result"
    }
   ],
   "source": [
    "model.fit(x_train, y_train, epochs = 20, batch_size = 120)"
   ]
  },
  {
   "cell_type": "code",
   "execution_count": 6,
   "metadata": {},
   "outputs": [
    {
     "name": "stdout",
     "output_type": "stream",
     "text": [
      "0.75\n"
     ]
    }
   ],
   "source": [
    "vec_out = Model(inputs = inputs, outputs = model.layers[9].output)\n",
    "preds = np.argmax(model.predict(x_test), axis = 1)\n",
    "y_test = np.argmax(y_test, axis = 1)\n",
    "\n",
    "print(np.mean(np.mean(preds==y_test)))"
   ]
  },
  {
   "cell_type": "code",
   "execution_count": 7,
   "metadata": {},
   "outputs": [],
   "source": [
    "from sklearn.svm import SVC\n",
    "X_train = vec_out.predict(x_train)\n",
    "X_test = vec_out.predict(x_test)\n",
    "linear = SVC()"
   ]
  },
  {
   "cell_type": "code",
   "execution_count": null,
   "metadata": {},
   "outputs": [],
   "source": [
    "linear.fit(X_train, np.argmax(y_train, axis = 1))\n",
    "pred = linear.predict(X_test)\n",
    "pred = np.argmax(pred, axis=1)"
   ]
  },
  {
   "cell_type": "code",
   "execution_count": null,
   "metadata": {},
   "outputs": [],
   "source": [
    "print(np.mean(np.mean(pred==y_test)))"
   ]
  }
 ],
 "metadata": {
  "kernelspec": {
   "display_name": "Python [conda env:tensorflow]",
   "language": "python",
   "name": "conda-env-tensorflow-py"
  },
  "language_info": {
   "codemirror_mode": {
    "name": "ipython",
    "version": 3
   },
   "file_extension": ".py",
   "mimetype": "text/x-python",
   "name": "python",
   "nbconvert_exporter": "python",
   "pygments_lexer": "ipython3",
   "version": "3.5.4"
  }
 },
 "nbformat": 4,
 "nbformat_minor": 2
}
