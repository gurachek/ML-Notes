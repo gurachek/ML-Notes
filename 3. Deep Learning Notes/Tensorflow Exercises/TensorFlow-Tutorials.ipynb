{
 "cells": [
  {
   "cell_type": "markdown",
   "metadata": {},
   "source": [
    "\n",
    "# TensorFlow Tutorials\n",
    "\n",
    "https://github.com/nlintz/TensorFlow-Tutorials"
   ]
  },
  {
   "cell_type": "code",
   "execution_count": 1,
   "metadata": {
    "collapsed": true
   },
   "outputs": [],
   "source": [
    "import numpy as np\n",
    "import pandas as pd\n",
    "import matplotlib.pyplot as plt\n",
    "import seaborn as sns\n",
    "\n",
    "\n",
    "import tensorflow as tf"
   ]
  },
  {
   "cell_type": "markdown",
   "metadata": {},
   "source": [
    "## 0.0 Multiplication"
   ]
  },
  {
   "cell_type": "code",
   "execution_count": 2,
   "metadata": {
    "scrolled": true
   },
   "outputs": [
    {
     "name": "stdout",
     "output_type": "stream",
     "text": [
      "a = 2 & b = 7: y = 14.0\n",
      "a = 3 & b = 5: y = 15.0\n"
     ]
    }
   ],
   "source": [
    "a = tf.placeholder(\"float\")\n",
    "b = tf.placeholder(\"float\")\n",
    "\n",
    "y = tf.multiply(a,b)\n",
    "\n",
    "with tf.Session() as sess:\n",
    "    print( \"a = 2 & b = 7: y =\", sess.run(y, feed_dict = {a: 2, b: 7}))\n",
    "    print(\"a = 3 & b = 5: y =\", sess.run(y, feed_dict={a:3, b:5}))"
   ]
  },
  {
   "cell_type": "markdown",
   "metadata": {},
   "source": [
    "## 0.1 Linear Regression\n"
   ]
  },
  {
   "cell_type": "code",
   "execution_count": 3,
   "metadata": {
    "scrolled": true
   },
   "outputs": [
    {
     "data": {
      "image/png": "[encoded data removed]",
      "text/plain": [
       "<Figure size 432x288 with 1 Axes>"
      ]
     },
     "metadata": {},
     "output_type": "display_data"
    }
   ],
   "source": [
    "xx = np.linspace(-1,1,100)\n",
    "yy = 2 * xx + np.random.randn(*xx.shape)*0.33\n",
    "plt.scatter(xx, yy)\n",
    "plt.show()"
   ]
  },
  {
   "cell_type": "code",
   "execution_count": 4,
   "metadata": {},
   "outputs": [
    {
     "name": "stdout",
     "output_type": "stream",
     "text": [
      "w =  1.9264151\n"
     ]
    },
    {
     "data": {
      "image/png": "[encoded data removed]",
      "text/plain": [
       "<Figure size 432x288 with 1 Axes>"
      ]
     },
     "metadata": {},
     "output_type": "display_data"
    }
   ],
   "source": [
    "def model(X, w):\n",
    "    #multiplies X by the single weight coefficient --> y = X * w \n",
    "    return tf.multiply(X, w)\n",
    "\n",
    "def LinearRegression(xx, yy, epochs = 100, viz = True):\n",
    "    #single weight linear regression y = x*w\n",
    "    X = tf.placeholder(\"float\")   # initialize x variable\n",
    "    Y = tf.placeholder(\"float\")   # initialize y variable\n",
    "    w = tf.Variable(0.0, name = \"weights\")  # shared variable initialization. IDK what this is yet. \n",
    "    \n",
    "    y_model = model(X,w)\n",
    "    cost = (tf.square(Y-y_model))\n",
    "    train_optimizer = tf.train.GradientDescentOptimizer(0.01).minimize(cost)\n",
    "    with tf.Session() as sess:\n",
    "        tf.global_variables_initializer().run()\n",
    "        \n",
    "        for i in range (epochs):\n",
    "            for (x, y) in zip(xx, yy):\n",
    "                sess.run(train_optimizer, feed_dict = {X:x, Y:y})\n",
    "                       \n",
    "        #Visualization Section        \n",
    "        print('w = ', sess.run(w))\n",
    "        if viz:\n",
    "            plt.figure()\n",
    "            plt.scatter(xx, yy)\n",
    "            yyy = xx*sess.run(w)\n",
    "            plt.scatter(xx, yyy, c = 'r')\n",
    "            plt.show()\n",
    "        \n",
    "LinearRegression(xx,yy)"
   ]
  },
  {
   "cell_type": "markdown",
   "metadata": {},
   "source": [
    "## 0.2 Logistic Regression"
   ]
  },
  {
   "cell_type": "code",
   "execution_count": 5,
   "metadata": {
    "collapsed": true
   },
   "outputs": [],
   "source": [
    "from tensorflow.examples.tutorials.mnist import input_data"
   ]
  },
  {
   "cell_type": "code",
   "execution_count": null,
   "metadata": {
    "collapsed": true
   },
   "outputs": [],
   "source": [
    "def init_weights(shape):\n",
    "    return tf.Variable(tf.random_normal(shape, stddev = 0.01))\n",
    "def model(X,w):\n",
    "    return tf.matmul(X, w)\n",
    "mnist = input_data.read_data_sets(\"MNIST_data/\", one_hot = True)\n"
   ]
  }
 ],
 "metadata": {
  "kernelspec": {
   "display_name": "Python [conda env:tensorflow]",
   "language": "python",
   "name": "conda-env-tensorflow-py"
  },
  "language_info": {
   "codemirror_mode": {
    "name": "ipython",
    "version": 3
   },
   "file_extension": ".py",
   "mimetype": "text/x-python",
   "name": "python",
   "nbconvert_exporter": "python",
   "pygments_lexer": "ipython3",
   "version": "3.5.4"
  }
 },
 "nbformat": 4,
 "nbformat_minor": 2
}
