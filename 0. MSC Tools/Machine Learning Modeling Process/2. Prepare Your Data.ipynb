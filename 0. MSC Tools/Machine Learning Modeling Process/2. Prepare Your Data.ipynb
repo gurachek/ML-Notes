{
 "cells": [
  {
   "cell_type": "markdown",
   "metadata": {},
   "source": [
    "# How to Prepare Your Data\n",
    "\n",
    "https://machinelearningmastery.com/how-to-prepare-data-for-machine-learning/\n",
    "\n",
    "\n",
    "- Step 1: Select Data\n",
    "- Step 2: Preprocess Data\n",
    "- Step 3: Transform Data\n",
    "\n",
    "\n",
    "## Step 1: Select Data\n",
    "\n",
    "What data is actually needed to address the goal or question. Make assumptions about the data and record these assumptions to make sure your model isnt made on shifting sand. Everything that you assume to be true about your data, whether it be intuition or something else should be treated with a scientific criticism.\n",
    "\n",
    "What data do I need to have?\n",
    "\n",
    "What data do I want have that I don't?\n",
    "\n",
    "What data do I not need?\n",
    "\n",
    "## Step 2: Preprocess Data\n",
    "\n",
    "Formatting - computer files\n",
    "\n",
    "Cleaning - removal or filling of missing data\n",
    "\n",
    "Sampling - If we have a lot of data, break off a piece to work with on your preliminary investigation\n",
    "\n",
    "\n",
    "## Step 3: Transform Data\n",
    "\n",
    "Scaling - Use a standard scaler to reduce the effect of data being exaggerated because it is bigger than other features.\n",
    "\n",
    "Decomposition - Break apart features into component parts if they are more useful than the whole\n",
    "\n",
    "Aggregation - Put together data if it is more useful as a whole\n",
    "\n",
    "\n",
    "**~~~~~~~~~~~~~~~~~~~~~~~~~~~~~~~~~~~~~~~~~~~~~~~~~~~~~~~~~~~~~~~~~~~~**"
   ]
  },
  {
   "cell_type": "markdown",
   "metadata": {},
   "source": [
    "# Model Selection: Identify Outliers\n",
    "\n",
    "\n",
    "https://machinelearningmastery.com/how-to-identify-outliers-in-your-data/\n",
    "\n",
    "\n",
    "\n",
    "Outliers in input data can skew the training process.\n",
    "\n",
    "\n",
    "## Outlier Modeling\n",
    "\n",
    "Some examples of outlier detection methods:\n",
    "\n",
    "- Extreme Value Analysis: Determine the tails of data distributions.\n",
    "- Linear Models: Data that has a high residual from a decomposition regression\n",
    "- Proximity Based Models: Data outside of common clusters\n",
    "\n",
    "\n",
    "\n",
    "## Get Started\n",
    "\n",
    "Pick your poison, but make a stepwise process to check for outliers in the data.\n",
    "\n",
    "Extreme Value Analysis -> clustering methods -> Projection methods\n",
    "\n",
    "### 1. Extreme Value Analysis\n",
    "\n",
    "Visualize the data with scatterplots and histograms and box plots while looking for extreme values. This will only be useful for 1-2 dimensional analysis.\n",
    "\n",
    "Look for values 3 standard deviations from the mean\n",
    "\n",
    "Filter out outliers and assess model performance.\n",
    "\n",
    "\n",
    "### 2. Proximity Methods (Clustering)\n",
    "\n",
    "Identify the natural clusters of the data (K means). Mark the cluster centroids. I dentify data instances that are exceptionally far from cluster centroids. (percentage distance?) \n",
    "\n",
    "Filter out thes outliers and assess model performance\n",
    "\n",
    "\n",
    "### 3. Projection Methods \n",
    "\n",
    "Summarize your data to 2 dimensions with linear decomposition techniques (pca, LDA, SOM?). Then visualize the new mapping and identify outliers by hand.\n",
    "\n",
    "Fiter out and assess\n",
    "\n",
    "\n",
    "\n",
    "\n",
    "\n",
    "\n",
    "\n",
    "# Data Preperation\n",
    "\n",
    "- Add attributes - Categorize non numeric features, transform attributes mathematically to take advantage of possible linear relationships, and impute missing data with k nearest neighbor (ie averaging)\n",
    "\n",
    "- Remove Attributes - Project into lower subspace(PCA, LDA), Spatial sign projection (map onto multidim sphere), identify and remove highly correlated attributes\n",
    "\n",
    "- Transform Attributes - Center and scale (standardize), Remove skew, binning\n",
    "\n",
    "\n",
    "# Feature Selection\n",
    "\n",
    "https://machinelearningmastery.com/an-introduction-to-feature-selection/\n",
    "\n",
    "Used to remove irrelevent features that only add noise to your model. Reduces complexity of model, improves performance, blah blah blah\n",
    "\n",
    "## Feature Selection Algorithms:\n",
    "\n",
    "### Filter Methods (SelectKBest)\n",
    "\n",
    "Assign a statistical score to each attribute and rank them. Greedy method, not necessarily the best combination of features. Info gain, chi square, correlation coeff scores.\n",
    "\n",
    "### Wrapper Methods (RFE)\n",
    "\n",
    "Combinations of attributes are tested and compared, search method through different subspaces. best fit, random hill.\n",
    "\n",
    "### Embedded Methods (SelectFromModel)\n",
    "\n",
    "Learn best contributing features during fitting. The algorithm selects features by itself L1 Regularization\n",
    "\n",
    "\n",
    "\n",
    "## Feature Selection Traps\n",
    "\n",
    "https://stats.stackexchange.com/questions/2306/feature-selection-for-final-model-when-performing-cross-validation-in-machine\n",
    "\n",
    "*The cross-validation is only used to estimate the predictive performance of the single model trained on the whole dataset. It is VITAL in using cross-validation that in each fold you repeat the entire procedure used to fit the primary model, as otherwise you can end up with a substantial optimistic bias in performance.\"*\n",
    "\n",
    "https://stats.stackexchange.com/questions/27750/feature-selection-and-cross-validation\n",
    "\n",
    "*If you perform feature selection on all of the data and then cross-validate, then the test data in each fold of the cross-validation procedure was also used to choose the features and this is what biases the performance analysis.\"*\n",
    "\n",
    "We chose our features based on performance on a testing set which is resampled during cross val. We know it will overperform during CV.\n",
    "If we perform feature selection before model evaluation, we run the possibility of selecting features that fit the test data by random chance\n",
    "\n",
    "**PERFORM FEATURE SELECTION INDEPENDENTLY WITHIN EACH FOLD OF CROSS VALIDATION.**\n",
    "\n",
    "\n",
    "\n",
    "***\"The key idea is that cross-validation is a way of estimating the generalisation performance of a process for building a model, so you need to repeat the whole process in each fold. Otherwise you will end up with a biased estimate, or an under-estimate of the variance of the estimate (or both).\"***"
   ]
  },
  {
   "cell_type": "markdown",
   "metadata": {},
   "source": [
    "# Feature Selection in SKLEARN\n",
    "\n",
    "https://machinelearningmastery.com/feature-selection-in-python-with-scikit-learn/\n",
    "\n"
   ]
  },
  {
   "cell_type": "markdown",
   "metadata": {},
   "source": [
    "\n",
    "## 1. Recursive Feature Elimination (RFE) \n",
    "\n",
    "A feature selection algorithm that recursively removes attributes and builds a model on the features that remain. Accuracy is used to identify which attributes contribute the most to model accuracy/performance.\n",
    "\n",
    "http://scikit-learn.org/stable/modules/generated/sklearn.feature_selection.RFE.html#sklearn.feature_selection.RFE\n",
    "\n",
    "\n",
    "*\"Given an external estimator that assigns weights to features (e.g., the coefficients of a linear model), the goal of recursive feature elimination (RFE) is to select features by recursively considering smaller and smaller sets of features.\"*"
   ]
  },
  {
   "cell_type": "code",
   "execution_count": 1,
   "metadata": {},
   "outputs": [
    {
     "name": "stdout",
     "output_type": "stream",
     "text": [
      "Selected Features:  ['sepal width (cm)' 'petal width (cm)']\n",
      "[3 1 2 1]\n"
     ]
    }
   ],
   "source": [
    "from sklearn import datasets\n",
    "from sklearn.feature_selection import RFE\n",
    "from sklearn.linear_model import LogisticRegression\n",
    "import numpy as np\n",
    "\n",
    "iris = datasets.load_iris()\n",
    "X = iris.data\n",
    "y = iris.target\n",
    "l = LogisticRegression()\n",
    "\n",
    "\n",
    "# Create the RFE model and choose 2 attributes\n",
    "rfe = RFE(l, 2)\n",
    "rfe.fit(iris.data, iris.target)\n",
    "\n",
    "#Summarize selected features\n",
    "print('Selected Features: ', np.array(iris.feature_names)[rfe.support_])\n",
    "print(rfe.ranking_)"
   ]
  },
  {
   "cell_type": "markdown",
   "metadata": {},
   "source": [
    "### RFE Cross Validation (Best Combo of Features?)\n",
    "\n",
    "*sklearn.feature_selection.RFECV(estimator, step=1, cv=None, scoring=None, verbose=0, n_jobs=1)[source]¶*\n",
    "\n",
    "\n",
    "Feature ranking with recursive feature elimination and cross val selection of the best number of features. Will also fit a model on the best combination.\n",
    "\n",
    "http://scikit-learn.org/stable/modules/generated/sklearn.feature_selection.RFECV.html#sklearn.feature_selection.RFECV\n",
    "\n",
    "#### Attributes:\n",
    "n_features_ : int\n",
    "\n",
    "The number of selected features with cross-validation.\n",
    "\n",
    "support_ : array of shape [n_features]\n",
    "\n",
    "The mask of selected features.\n",
    "\n",
    "ranking_ : array of shape [n_features]\n",
    "\n",
    "The feature ranking, such that ranking_[i] corresponds to the ranking position of the i-th feature. Selected (i.e., estimated best) features are assigned rank 1.\n",
    "\n",
    "grid_scores_ : array of shape [n_subsets_of_features]\n",
    "\n",
    "The cross-validation scores such that grid_scores_[i] corresponds to the CV score of the i-th subset of features.\n",
    "\n",
    "estimator_ : object\n",
    "\n",
    "The external estimator fit on the reduced dataset."
   ]
  },
  {
   "cell_type": "code",
   "execution_count": 2,
   "metadata": {},
   "outputs": [
    {
     "name": "stdout",
     "output_type": "stream",
     "text": [
      "Optimal number of Features:  4 \n",
      "\n",
      " [ 0.85333333  0.94        0.95333333  0.96      ]\n",
      "Feature Rankings:  [1 1 1 1]\n"
     ]
    },
    {
     "data": {
      "image/png": "[encoded data removed]",
      "text/plain": [
       "<matplotlib.figure.Figure at 0x1f8ea2664a8>"
      ]
     },
     "metadata": {},
     "output_type": "display_data"
    }
   ],
   "source": [
    "import matplotlib.pyplot as plt\n",
    "%matplotlib inline\n",
    "from sklearn.feature_selection import RFECV\n",
    "from sklearn.model_selection import StratifiedKFold\n",
    "l = LogisticRegression()\n",
    "\n",
    "#Instatiate\n",
    "r = RFECV(l,cv = StratifiedKFold(5), scoring = 'accuracy')\n",
    "r.fit(X, y)\n",
    "\n",
    "print('Optimal number of Features: ', r.n_features_, '\\n\\n', r.grid_scores_)\n",
    "print('Feature Rankings: ', r.ranking_)\n",
    "\n",
    "plt.figure()\n",
    "plt.plot(range(1, len(r.grid_scores_)+1), r.grid_scores_)\n",
    "plt.xticks([1,2,3,4])\n",
    "plt.xlabel('# of features')\n",
    "plt.ylabel('Classifier Accuracy')\n",
    "plt.title('KFold Feature Selection: Iris Dataset')\n",
    "plt.show()\n",
    "\n"
   ]
  },
  {
   "cell_type": "markdown",
   "metadata": {},
   "source": [
    "## 2. Univariate Feature Selection (Wrapper)\n",
    "Selects the best features based on individual feature statistical measures. In Sklearn feature selection routines as objects with univariate scoring methods. Fits and transforms the dataset to be selected.\n",
    "\n",
    "\n",
    "### SelectKBest\n",
    "\n",
    "Takes a statistical test as scoring parameter, and k the number of features to select. Then we transform the data set with these parameters as our decision process.\n",
    "\n",
    "\n",
    "http://scikit-learn.org/stable/modules/generated/sklearn.feature_selection.SelectKBest.html#sklearn.feature_selection.SelectKBest"
   ]
  },
  {
   "cell_type": "code",
   "execution_count": 3,
   "metadata": {
    "collapsed": true
   },
   "outputs": [],
   "source": [
    "from sklearn.feature_selection import SelectKBest\n",
    "from sklearn.feature_selection import chi2\n",
    "\n",
    "X_new = SelectKBest(chi2, k=2).fit_transform(X, y)"
   ]
  },
  {
   "cell_type": "markdown",
   "metadata": {},
   "source": [
    "## 3. Select From Model (Embedded)\n",
    "\n",
    "A Meta-transformer that takes as input any classifier that has a ranking system for feature importance (*coef_* or $ feature_ importances_ $) after fitting.\n",
    "\n",
    "\n",
    "\n",
    "Features are selected by clearance of a provided threshold. This method can be used to draw feature selection conclusions from L1 regularization and ensemble tree methods.\n",
    "\n",
    "\n",
    "\"In particular, sparse estimators useful for this purpose are the linear_model.Lasso for regression, and of linear_model.LogisticRegression and svm.LinearSVC for classification:\"\n",
    "\n",
    "\n",
    "http://scikit-learn.org/stable/modules/generated/sklearn.feature_selection.SelectFromModel.html#sklearn.feature_selection.SelectFromModel\n",
    "\n",
    "*sklearn.feature_selection.SelectFromModel(estimator, threshold=None, prefit=False, norm_order=1)¶*\n",
    "\n",
    "With Logistic and SVM the C parameter controls regularization and therefore sparsity of features. Lower C means fewer features."
   ]
  },
  {
   "cell_type": "code",
   "execution_count": 4,
   "metadata": {},
   "outputs": [
    {
     "name": "stdout",
     "output_type": "stream",
     "text": [
      "Logistic Regression Features Selected:  (150, 2)\n"
     ]
    },
    {
     "data": {
      "image/png": "[encoded data removed]",
      "text/plain": [
       "<matplotlib.figure.Figure at 0x1f8eb80d278>"
      ]
     },
     "metadata": {},
     "output_type": "display_data"
    },
    {
     "name": "stdout",
     "output_type": "stream",
     "text": [
      "Random Forest Features Selected:  (150, 2)\n"
     ]
    },
    {
     "data": {
      "image/png": "[encoded data removed]",
      "text/plain": [
       "<matplotlib.figure.Figure at 0x1f8eb8896d8>"
      ]
     },
     "metadata": {},
     "output_type": "display_data"
    }
   ],
   "source": [
    "from sklearn.feature_selection import SelectFromModel\n",
    "from sklearn.ensemble import RandomForestClassifier\n",
    "\n",
    "feat_labels = iris.feature_names \n",
    "l = LogisticRegression(C = 0.01, penalty = 'l1',)\n",
    "model = SelectFromModel(l)\n",
    "\n",
    "l.fit(X, y)\n",
    "print('Logistic Regression Features Selected: ',model.fit_transform(X, y).shape)\n",
    "plt.figure()\n",
    "plt.bar([1,2,3,4], np.sum(l.coef_, axis =0)*-1)\n",
    "plt.xticks([1,2,3,4], feat_labels , rotation =90)\n",
    "plt.ylabel('Feature Importance')\n",
    "plt.title('Logistic Regression Feature Importance')\n",
    "plt.show()\n",
    "X_l1 = model.fit_transform(X, y)\n",
    "\n",
    "\n",
    "\n",
    "t = RandomForestClassifier()\n",
    "model = SelectFromModel(t)\n",
    "print('Random Forest Features Selected: ', model.fit_transform(X,y).shape)\n",
    "\n",
    "t.fit(X, y)\n",
    "plt.figure()\n",
    "plt.bar([1,2,3,4], t.feature_importances_)\n",
    "plt.xticks([1,2,3,4], feat_labels, rotation =90)\n",
    "plt.ylabel('Feature Importance')\n",
    "plt.title('Tree Ensemble Feature Importance')\n",
    "plt.show()\n",
    "\n",
    "X_rf = model.fit_transform(X, y)"
   ]
  },
  {
   "cell_type": "markdown",
   "metadata": {},
   "source": [
    "## Feature Selection as Part of a Pipeline\n",
    "\n",
    "http://scikit-learn.org/stable/modules/generated/sklearn.pipeline.Pipeline.html#sklearn.pipeline.Pipeline\n",
    "\n",
    "*sklearn.pipeline.Pipeline(steps, memory=None)*\n",
    "\n",
    "Sequentially apply a list of transformations and a final estimator. Intermediate steps must be transformation objects.\n",
    "\n",
    "*\"The purpose of the pipeline is to assemble several steps that can be cross validated together while setting different parameters. It enables setting parameters of the various steps using their names and the parameter name seperated by '__\". *\n",
    "\n",
    "steps : list\n",
    "\n",
    "List of (name, transform) tuples (implementing fit/transform) that are chained, in the order in which they are chained, with the last object an estimator.\n"
   ]
  },
  {
   "cell_type": "code",
   "execution_count": 5,
   "metadata": {
    "scrolled": true
   },
   "outputs": [
    {
     "data": {
      "text/plain": [
       "Pipeline(memory=None,\n",
       "     steps=[('feature_selection', SelectFromModel(estimator=LogisticRegression(C=1.0, class_weight=None, dual=False, fit_intercept=True,\n",
       "          intercept_scaling=1, max_iter=100, multi_class='ovr', n_jobs=1,\n",
       "          penalty='l1', random_state=None, solver='liblinear', tol=0.0001,\n",
       "          verbose=0...n_jobs=1,\n",
       "            oob_score=False, random_state=None, verbose=0,\n",
       "            warm_start=False))])"
      ]
     },
     "execution_count": 5,
     "metadata": {},
     "output_type": "execute_result"
    }
   ],
   "source": [
    "from sklearn.pipeline import Pipeline\n",
    "clf = Pipeline([\n",
    "  ('feature_selection', SelectFromModel(LogisticRegression(penalty=\"l1\"))),\n",
    "  ('classification', RandomForestClassifier())\n",
    "])\n",
    "\n",
    "clf.set_params(classification__n_estimators=12)\n",
    "clf.fit(X, y)"
   ]
  },
  {
   "cell_type": "markdown",
   "metadata": {},
   "source": [
    "# Feature Engineering\n",
    "\n",
    "https://machinelearningmastery.com/discover-feature-engineering-how-to-engineer-features-and-how-to-get-good-at-it/\n",
    "\n",
    "https://www.quora.com/What-are-some-general-tips-on-feature-selection-and-engineering-that-every-data-scientist-should-know\n",
    "\n",
    "## Importance of Feature Engineering\n",
    "\n",
    "**\"The results you achieve are a factor of the model you choose, the data you have available and the features you prepared.\"  **\n",
    "\n",
    "Good Features means flexibility and less complex models, performing better despite limitations of the model chosen.\n",
    "\n",
    "With good features, you are closer to the underlying problem and a representation of all the data you have available and could use to best characterize that underlying problem.\n",
    "\n",
    "\n",
    "*\"Feature engineering is the process of transforming raw data into features that better represent the underlying problem to the predictive models, resulting in improved model accuracy on unseen data. \"*\n",
    "\n",
    "\n",
    "## Subproblems of Feature Engineering\n",
    "\n",
    "\n",
    "\n",
    "Meaningful discriminates between features and attributes. Features are attributes that are useful to your problem (contested definition)\n",
    "\n",
    "### Feature Importance\n",
    " A precursor to selecting features. Usually assign scores to each feature and ranked. Include highest scores into the training set and move onto model selection. Feature importance can show correlations inbetween dependent and independent variables.\n",
    " \n",
    "### Feature Extraction\n",
    " \n",
    " automatically reducing the dimensionality of very voluminous attributes. Sort of synonamous with **Dimensionality Reduction**. PCA, Edge Detection, Unsupervised clustering als\n",
    " \n",
    "### Feature Selection\n",
    "\n",
    "https://www.quora.com/How-valuable-do-you-think-feature-selection-is-in-machine-learning-Which-do-you-think-improves-accuracy-more-feature-selection-or-feature-engineering\n",
    "\n",
    "Irrelevent attributes need to be removed. FS selects features that are most informational to the model.\n",
    "\n",
    "### Feature Construction\n",
    "\n",
    "Making new features from existing data.\n",
    "\n",
    "### Feature Learning\n",
    "\n",
    "Automatic identification and use of features in raw data. Allows models to learn abstract representations of features, (Decision planes, weights, etc.)\n",
    "\n",
    "How the model interprets data in a feature space into a new representation in a different decision space.\n",
    "\n",
    "\n",
    "## Process of Feature Engineering\n",
    "\n",
    "\n",
    "\n",
    "### Machine Learning Process\n",
    "\n",
    "Applied Machine Learning \n",
    "\n",
    "- problem definition - what is the end goal? \n",
    "- data selection -what datasets might be useful/ how do i get them in an actionable form? Maybe Scraping, put it into a database...\n",
    "- data preprocessing - format data, clean (NaN fill/remove), sample it.\n",
    "- Transform Data -Feature Engineering\n",
    "- Model Data - Create models evaluate and tweek.\n",
    "- Prepare Results\n",
    "\n",
    "\n",
    "*\"We can see that feature engineering is followed by modeling.\n",
    "\n",
    "It suggests a strong interaction with modeling, reminding us of the interplay of devising features and testing them against the coalface of our test harness and final performance measures\"*\n",
    "\n",
    "\n",
    "### Iterative Feature Engineering Process\n",
    "\n",
    "\n"
   ]
  }
 ],
 "metadata": {
  "kernelspec": {
   "display_name": "Python 3",
   "language": "python",
   "name": "python3"
  },
  "language_info": {
   "codemirror_mode": {
    "name": "ipython",
    "version": 3
   },
   "file_extension": ".py",
   "mimetype": "text/x-python",
   "name": "python",
   "nbconvert_exporter": "python",
   "pygments_lexer": "ipython3",
   "version": "3.6.3"
  }
 },
 "nbformat": 4,
 "nbformat_minor": 2
}
