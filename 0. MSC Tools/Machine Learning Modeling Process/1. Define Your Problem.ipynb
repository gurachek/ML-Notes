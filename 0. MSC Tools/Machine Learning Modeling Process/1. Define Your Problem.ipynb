{
 "cells": [
  {
   "cell_type": "markdown",
   "metadata": {},
   "source": [
    "# Define Your Problem\n",
    "\n",
    "https://machinelearningmastery.com/how-to-define-your-machine-learning-problem/\n",
    "\n",
    "- What is the problem?\n",
    "- Why does it need to be solved?\n",
    "- How do I solve the problem?\n",
    "\n",
    "\n",
    "\n",
    "\n",
    "## What is the Problem?\n",
    "\n",
    "Create an informal and formal description to really nail down what aspects of a model are your end goal. What resources you have, What is your end goal for prediction?\n",
    "\n",
    "Need a Task for a classifier to perform.\n",
    "\n",
    "Need an EXPERIENCE that your model can learn from (ie a dataset). Exposure to the experience will make your model better at the task.\n",
    "\n",
    "Need a PERFORMANCE metric to tell if the model is learning. Their is no learning without a defined metric for smartness/success.\n",
    "\n",
    "\n",
    "\n",
    "Think of other problems that you have done before that might relate to this particular problem.\n",
    "\n",
    "\n",
    "## Why does the problem need to be solved?\n",
    "\n",
    "What is your objective for going through the effort of doing this project. Is it knowledge, to improve a metric of some kind?\n",
    "How can we improve the usefulness of our solution to others. How do we put out the best product possible?\n",
    "\n",
    "\n",
    "## How do I solve the problem?\n",
    "\n",
    "This is more of a mental exercise that might mimic the thought process of a particular model. What information might be useful. How would you hard code an answer to this?\n",
    "\n",
    "Think about what experiments you might need to perform to solve the problem, these might in themselves provide new interesting information about your data.\n",
    "\n",
    "Builds out important domain knowledge that will help  in the implementation of a mode.\n",
    "\n",
    "\n"
   ]
  },
  {
   "cell_type": "markdown",
   "metadata": {},
   "source": [
    "# Summary\n",
    "\n",
    "Step 1: What is the problem? Describe the problem informally and formally and list assumptions and similar problems.\n",
    "\n",
    "Step 2: Why does the problem need to be solve? List your motivation for solving the problem, the benefits a solution provides and how the solution will be used.\n",
    "\n",
    "Step 3: How would I solve the problem? Describe how the problem would be solved manually to flush domain knowledge."
   ]
  }
 ],
 "metadata": {
  "kernelspec": {
   "display_name": "Python 3",
   "language": "python",
   "name": "python3"
  },
  "language_info": {
   "codemirror_mode": {
    "name": "ipython",
    "version": 3
   },
   "file_extension": ".py",
   "mimetype": "text/x-python",
   "name": "python",
   "nbconvert_exporter": "python",
   "pygments_lexer": "ipython3",
   "version": "3.6.3"
  }
 },
 "nbformat": 4,
 "nbformat_minor": 2
}
