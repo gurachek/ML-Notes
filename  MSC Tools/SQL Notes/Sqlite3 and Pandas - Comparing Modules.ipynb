{
 "cells": [
  {
   "cell_type": "markdown",
   "metadata": {},
   "source": [
    "# Playing with Sqlite3"
   ]
  },
  {
   "cell_type": "code",
   "execution_count": 2,
   "metadata": {
    "collapsed": true
   },
   "outputs": [],
   "source": [
    "import sqlite3 as sql\n",
    "\n",
    "\n",
    "#start with a connection object\n",
    "conn = sql.connect('example.db')\n",
    "\n",
    "# create a cursor object and use its execute method to run SQL commands\n",
    "c = conn.cursor()"
   ]
  },
  {
   "cell_type": "code",
   "execution_count": 1,
   "metadata": {},
   "outputs": [
    {
     "ename": "OperationalError",
     "evalue": "table names already exists",
     "output_type": "error",
     "traceback": [
      "\u001b[1;31m---------------------------------------------------------------------------\u001b[0m",
      "\u001b[1;31mOperationalError\u001b[0m                          Traceback (most recent call last)",
      "\u001b[1;32m<ipython-input-1-fe13a70c45f2>\u001b[0m in \u001b[0;36m<module>\u001b[1;34m()\u001b[0m\n\u001b[0;32m     10\u001b[0m \u001b[1;31m#execute a sql command\u001b[0m\u001b[1;33m\u001b[0m\u001b[1;33m\u001b[0m\u001b[0m\n\u001b[0;32m     11\u001b[0m c.execute('''CREATE TABLE names (name text, dob text, salary real, favcolor text)\n\u001b[1;32m---> 12\u001b[1;33m ''')\n\u001b[0m",
      "\u001b[1;31mOperationalError\u001b[0m: table names already exists"
     ]
    }
   ],
   "source": [
    "#execute a sql command\n",
    "c.execute('''CREATE TABLE names (name text, dob text, salary real, favcolor text)\n",
    "''')"
   ]
  },
  {
   "cell_type": "code",
   "execution_count": 3,
   "metadata": {},
   "outputs": [],
   "source": [
    "#insert into table\n",
    "c.execute(\"\"\" INSERT INTO names VALUES ('harrison', '4/25/1995', 100000, 'blue')\"\"\")\n",
    "\n",
    "# Commit the changes\n",
    "conn.commit()\n",
    "\n",
    "#close the connection\n",
    "conn.close()"
   ]
  },
  {
   "cell_type": "code",
   "execution_count": 4,
   "metadata": {
    "collapsed": true
   },
   "outputs": [],
   "source": [
    "#reopen the connection to see if changes are still there\n",
    "conn2 = sql.connect(\"example.db\")\n",
    "c = conn2.cursor()"
   ]
  },
  {
   "cell_type": "markdown",
   "metadata": {},
   "source": [
    "You should not assemble your query using python's string operations. Use parameter substitution instead\n",
    "\n",
    "Put ? as a placeholder wherever you want to  use a value, and then provide a tuple of values in the .execute() method's seconf argument,"
   ]
  },
  {
   "cell_type": "code",
   "execution_count": 7,
   "metadata": {},
   "outputs": [
    {
     "data": {
      "text/plain": [
       "[('harrison', '4/25/1995', 100000.0, 'blue'),\n",
       " ('harrison', '4/25/1995', 100000.0, 'blue'),\n",
       " ('harrison', '4/25/1995', 100000.0, 'blue'),\n",
       " ('harrison', '4/25/1995', 100000.0, 'blue')]"
      ]
     },
     "execution_count": 7,
     "metadata": {},
     "output_type": "execute_result"
    }
   ],
   "source": [
    "#use a python tuple object and insert into a SQL query\n",
    "names = (\"harrison\",)\n",
    "c.execute(\"SELECT * FROM names WHERE name=?\", names)\n",
    "c.fetchall()"
   ]
  },
  {
   "cell_type": "code",
   "execution_count": 8,
   "metadata": {},
   "outputs": [
    {
     "name": "stdout",
     "output_type": "stream",
     "text": [
      "('huckle', '11/11/2016', 0.0, 'red')\n"
     ]
    }
   ],
   "source": [
    "#inserting many examples with parameter substitution\n",
    "inserts = [('huckle', '11/11/2016', 0, 'red'),\n",
    "('chicken', '629836', 182098, 'green')]\n",
    "\n",
    "#insert into the db with the cursor object\n",
    "c.executemany(\"INSERT INTO names VALUES (?,?,?,?)\", inserts)\n",
    "\n",
    "conn2.commit()\n",
    "\n",
    "c.execute(\"SELECT * FROM names WHERE name='huckle'\")\n",
    "print(c.fetchone())"
   ]
  },
  {
   "cell_type": "code",
   "execution_count": 9,
   "metadata": {},
   "outputs": [
    {
     "name": "stdout",
     "output_type": "stream",
     "text": [
      "('huckle', '11/11/2016', 0.0, 'red')\n",
      "('harrison', '4/25/1995', 100000.0, 'blue')\n",
      "('harrison', '4/25/1995', 100000.0, 'blue')\n",
      "('harrison', '4/25/1995', 100000.0, 'blue')\n",
      "('harrison', '4/25/1995', 100000.0, 'blue')\n",
      "('chicken', '629836', 182098.0, 'green')\n"
     ]
    }
   ],
   "source": [
    "for row in c.execute(\"SELECT * FROM names ORDER BY salary\"):\n",
    "    print(row)"
   ]
  },
  {
   "cell_type": "code",
   "execution_count": 10,
   "metadata": {
    "collapsed": true
   },
   "outputs": [],
   "source": [
    "conn2.close()"
   ]
  },
  {
   "cell_type": "markdown",
   "metadata": {},
   "source": [
    "# SQL vs Pandas\n",
    "\n",
    "Data is not synonymous with relational database. (Tables that look like excel files). We can have CSV files, plain text,  Parquet, and more.\n",
    "\n",
    "Pandas is particularly geared towards structured data\n",
    "\n",
    "### The anatomy of a SQL query\n",
    "\n",
    "SELECT ... FROM ... WHERE\n",
    "\n",
    "GROUP BY ... HAVING\n",
    "\n",
    "ORDER BY ..."
   ]
  },
  {
   "cell_type": "code",
   "execution_count": 11,
   "metadata": {},
   "outputs": [],
   "source": [
    "conn = sql.connect(\"example.db\")\n",
    "c = conn.cursor()"
   ]
  },
  {
   "cell_type": "code",
   "execution_count": 12,
   "metadata": {},
   "outputs": [
    {
     "data": {
      "text/plain": [
       "[('harrison', '4/25/1995', 100000.0, 'blue'),\n",
       " ('harrison', '4/25/1995', 100000.0, 'blue'),\n",
       " ('harrison', '4/25/1995', 100000.0, 'blue'),\n",
       " ('harrison', '4/25/1995', 100000.0, 'blue'),\n",
       " ('chicken', '629836', 182098.0, 'green')]"
      ]
     },
     "execution_count": 12,
     "metadata": {},
     "output_type": "execute_result"
    }
   ],
   "source": [
    "c.execute(\"SELECT * FROM names WHERE name='harrison' OR favcolor='green'\")\n",
    "c.fetchall()"
   ]
  },
  {
   "cell_type": "code",
   "execution_count": 14,
   "metadata": {},
   "outputs": [
    {
     "data": {
      "text/plain": [
       "[('huckle', '11/11/2016', 0.0, 'red'),\n",
       " ('chicken', '629836', 182098.0, 'green')]"
      ]
     },
     "execution_count": 14,
     "metadata": {},
     "output_type": "execute_result"
    }
   ],
   "source": [
    "c.execute(\"SELECT * FROM names WHERE favcolor IN ('green', 'red')\")\n",
    "c.fetchall()"
   ]
  },
  {
   "cell_type": "code",
   "execution_count": 15,
   "metadata": {},
   "outputs": [
    {
     "data": {
      "text/plain": [
       "[('chicken', '629836', 182098.0, 'green'),\n",
       " ('harrison', '4/25/1995', 100000.0, 'blue'),\n",
       " ('huckle', '11/11/2016', 0.0, 'red')]"
      ]
     },
     "execution_count": 15,
     "metadata": {},
     "output_type": "execute_result"
    }
   ],
   "source": [
    "c.execute(\"SELECT * FROM names GROUP BY name\")\n",
    "c.fetchall()"
   ]
  },
  {
   "cell_type": "code",
   "execution_count": 19,
   "metadata": {},
   "outputs": [
    {
     "data": {
      "text/plain": [
       "[('chicken', '629836', 182098.0, 'green'),\n",
       " ('harrison', '4/25/1995', 100000.0, 'blue'),\n",
       " ('huckle', '11/11/2016', 0.0, 'red')]"
      ]
     },
     "execution_count": 19,
     "metadata": {},
     "output_type": "execute_result"
    }
   ],
   "source": [
    "c.execute(\"SELECT * FROM names GROUP BY name ORDER BY salary DESC\")\n",
    "c.fetchall()"
   ]
  },
  {
   "cell_type": "code",
   "execution_count": 21,
   "metadata": {},
   "outputs": [
    {
     "data": {
      "text/plain": [
       "[('chicken', '629836', 182098.0, 'green', 6)]"
      ]
     },
     "execution_count": 21,
     "metadata": {},
     "output_type": "execute_result"
    }
   ],
   "source": [
    "c.execute(\"SELECT *, COUNT(*) FROM names\")\n",
    "c.fetchall()"
   ]
  },
  {
   "cell_type": "markdown",
   "metadata": {},
   "source": [
    "### Aggregate Functions"
   ]
  },
  {
   "cell_type": "code",
   "execution_count": 25,
   "metadata": {},
   "outputs": [],
   "source": [
    "c.execute(\"SELECT MAX(salary) FROM names\")\n",
    "c.fetchall()\n",
    "conn.close()"
   ]
  },
  {
   "cell_type": "markdown",
   "metadata": {},
   "source": [
    "### SQL Into Pandas"
   ]
  },
  {
   "cell_type": "code",
   "execution_count": 31,
   "metadata": {},
   "outputs": [
    {
     "data": {
      "text/html": [
       "<div>\n",
       "<style scoped>\n",
       "    .dataframe tbody tr th:only-of-type {\n",
       "        vertical-align: middle;\n",
       "    }\n",
       "\n",
       "    .dataframe tbody tr th {\n",
       "        vertical-align: top;\n",
       "    }\n",
       "\n",
       "    .dataframe thead th {\n",
       "        text-align: right;\n",
       "    }\n",
       "</style>\n",
       "<table border=\"1\" class=\"dataframe\">\n",
       "  <thead>\n",
       "    <tr style=\"text-align: right;\">\n",
       "      <th></th>\n",
       "      <th>name</th>\n",
       "      <th>dob</th>\n",
       "      <th>salary</th>\n",
       "      <th>favcolor</th>\n",
       "    </tr>\n",
       "  </thead>\n",
       "  <tbody>\n",
       "    <tr>\n",
       "      <th>0</th>\n",
       "      <td>harrison</td>\n",
       "      <td>4/25/1995</td>\n",
       "      <td>100000.0</td>\n",
       "      <td>blue</td>\n",
       "    </tr>\n",
       "    <tr>\n",
       "      <th>1</th>\n",
       "      <td>harrison</td>\n",
       "      <td>4/25/1995</td>\n",
       "      <td>100000.0</td>\n",
       "      <td>blue</td>\n",
       "    </tr>\n",
       "    <tr>\n",
       "      <th>2</th>\n",
       "      <td>harrison</td>\n",
       "      <td>4/25/1995</td>\n",
       "      <td>100000.0</td>\n",
       "      <td>blue</td>\n",
       "    </tr>\n",
       "    <tr>\n",
       "      <th>3</th>\n",
       "      <td>harrison</td>\n",
       "      <td>4/25/1995</td>\n",
       "      <td>100000.0</td>\n",
       "      <td>blue</td>\n",
       "    </tr>\n",
       "    <tr>\n",
       "      <th>4</th>\n",
       "      <td>huckle</td>\n",
       "      <td>11/11/2016</td>\n",
       "      <td>0.0</td>\n",
       "      <td>red</td>\n",
       "    </tr>\n",
       "    <tr>\n",
       "      <th>5</th>\n",
       "      <td>chicken</td>\n",
       "      <td>629836</td>\n",
       "      <td>182098.0</td>\n",
       "      <td>green</td>\n",
       "    </tr>\n",
       "  </tbody>\n",
       "</table>\n",
       "</div>"
      ],
      "text/plain": [
       "       name         dob    salary favcolor\n",
       "0  harrison   4/25/1995  100000.0     blue\n",
       "1  harrison   4/25/1995  100000.0     blue\n",
       "2  harrison   4/25/1995  100000.0     blue\n",
       "3  harrison   4/25/1995  100000.0     blue\n",
       "4    huckle  11/11/2016       0.0      red\n",
       "5   chicken      629836  182098.0    green"
      ]
     },
     "execution_count": 31,
     "metadata": {},
     "output_type": "execute_result"
    }
   ],
   "source": [
    "import pandas as pd\n",
    "conn = sql.connect('example.db')\n",
    "\n",
    "df = pd.read_sql('select * from names', conn)\n",
    "\n",
    "df"
   ]
  }
 ],
 "metadata": {
  "kernelspec": {
   "display_name": "Python [conda env:py36]",
   "language": "python",
   "name": "conda-env-py36-py"
  },
  "language_info": {
   "codemirror_mode": {
    "name": "ipython",
    "version": 3
   },
   "file_extension": ".py",
   "mimetype": "text/x-python",
   "name": "python",
   "nbconvert_exporter": "python",
   "pygments_lexer": "ipython3",
   "version": "3.6.5"
  }
 },
 "nbformat": 4,
 "nbformat_minor": 2
}
