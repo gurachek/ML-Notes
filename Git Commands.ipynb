{
 "cells": [
  {
   "cell_type": "markdown",
   "metadata": {},
   "source": [
    "# git commands"
   ]
  },
  {
   "cell_type": "markdown",
   "metadata": {},
   "source": [
    "### Command Prompts\n",
    "1. cd\n",
    "change directory\n",
    "2. dir\n",
    "directory listing\n"
   ]
  },
  {
   "cell_type": "markdown",
   "metadata": {},
   "source": [
    "1. git clone https://github.com/harrisonjansma/ML-Notes.git\n",
    "\n",
    "Based on whatever link is provided from github.com. Will clone the repository and creat a folder in your current working directory\n",
    "\n",
    "2. git status\n",
    "shows what the differences are between current working directory and the sky github\n",
    "\n",
    "3. git add filename.py\n",
    "adds the file to include what will be committed\n",
    "\n",
    "4. git commit -m \"message thing\"\n",
    "commits the files but is still local\n",
    "\n",
    "5. git push\n",
    "pushes machine files to github.com\n",
    "\n",
    "6. git pull\n",
    "pulls down the most current version of the file"
   ]
  },
  {
   "cell_type": "markdown",
   "metadata": {},
   "source": []
  },
  {
   "cell_type": "markdown",
   "metadata": {},
   "source": []
  },
  {
   "cell_type": "markdown",
   "metadata": {},
   "source": []
  },
  {
   "cell_type": "markdown",
   "metadata": {},
   "source": []
  }
 ],
 "metadata": {
  "kernelspec": {
   "display_name": "Python 3",
   "language": "python",
   "name": "python3"
  },
  "language_info": {
   "codemirror_mode": {
    "name": "ipython",
    "version": 3
   },
   "file_extension": ".py",
   "mimetype": "text/x-python",
   "name": "python",
   "nbconvert_exporter": "python",
   "pygments_lexer": "ipython3",
   "version": "3.6.3"
  }
 },
 "nbformat": 4,
 "nbformat_minor": 2
}
