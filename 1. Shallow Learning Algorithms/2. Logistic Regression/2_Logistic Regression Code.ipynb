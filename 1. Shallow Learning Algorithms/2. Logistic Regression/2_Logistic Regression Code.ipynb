{
 "cells": [
  {
   "cell_type": "markdown",
   "metadata": {},
   "source": [
    "# Logistic Regression"
   ]
  },
  {
   "cell_type": "code",
   "execution_count": 1,
   "metadata": {
    "collapsed": true
   },
   "outputs": [],
   "source": [
    "import matplotlib.pyplot as plt\n",
    "%matplotlib inline\n",
    "from IPython.core.display import HTML\n",
    "\n",
    "HTML(\"\"\"\n",
    "<style>\n",
    " {\n",
    "    display: table-cell;\n",
    "    text-align: center;\n",
    "   .output_png vertical-align: middle;\n",
    "}\n",
    "</style>\n",
    "\"\"\")\n",
    "import pandas as pd\n",
    "import numpy as np\n",
    "df = pd.read_csv('https://spark-public.s3.amazonaws.com/dataanalysis/loansData.csv')\n",
    "\n",
    "\n",
    "# Remove % sign from DtI Ratio and interest rate\n",
    "df['Debt.To.Income.Ratio'] = df['Debt.To.Income.Ratio'].apply(lambda x: x[:-1]).astype('float64')\n",
    "df['Interest.Rate'] = df['Interest.Rate'].apply(lambda x: x[:-1]).astype('float64')\n",
    "\n",
    "#Bucket categorical variables as float. Float type will allow easy removal of outliers\n",
    "from sklearn.preprocessing import LabelEncoder\n",
    "le = LabelEncoder()\n",
    "df.State = le.fit_transform(df.State).astype('float64')\n",
    "df['Home.Ownership'] = le.fit_transform(df['Home.Ownership']).astype('float64')\n",
    "\n",
    "\n",
    "#extract float val from string\n",
    "def numonly(string):\n",
    "    res = ''\n",
    "    for x in string:\n",
    "        if x.isdigit():\n",
    "            res = res+x\n",
    "    return int(res)\n",
    "df.loc[:,'Loan.Length'] = df['Loan.Length'].apply(numonly).astype('float64')\n",
    "\n",
    "#average te FICO Range/ convert to float\n",
    "def noline(string):\n",
    "    x = string.split('-')\n",
    "    c = 0\n",
    "    for y in x:\n",
    "        y=int(y)\n",
    "        c+=y\n",
    "    return c/2\n",
    "df.loc[:,'FICO.Range'] = df['FICO.Range'].apply(noline).astype('float64')\n",
    "\n",
    "\n",
    "#delete superfluous features\n",
    "del df['Loan.Purpose']\n",
    "del df['Employment.Length']\n",
    "\n",
    "\n",
    "#drop NaN values and remove outliers\n",
    "df = df.dropna()\n",
    "from scipy import stats\n",
    "df = df[(np.abs(stats.zscore(df)) < 3).all(axis=1)]"
   ]
  },
  {
   "cell_type": "code",
   "execution_count": 2,
   "metadata": {},
   "outputs": [
    {
     "data": {
      "text/html": [
       "<div>\n",
       "<style>\n",
       "    .dataframe thead tr:only-child th {\n",
       "        text-align: right;\n",
       "    }\n",
       "\n",
       "    .dataframe thead th {\n",
       "        text-align: left;\n",
       "    }\n",
       "\n",
       "    .dataframe tbody tr th {\n",
       "        vertical-align: top;\n",
       "    }\n",
       "</style>\n",
       "<table border=\"1\" class=\"dataframe\">\n",
       "  <thead>\n",
       "    <tr style=\"text-align: right;\">\n",
       "      <th></th>\n",
       "      <th>Amount.Requested</th>\n",
       "      <th>Amount.Funded.By.Investors</th>\n",
       "      <th>Interest.Rate</th>\n",
       "      <th>Loan.Length</th>\n",
       "      <th>Debt.To.Income.Ratio</th>\n",
       "      <th>State</th>\n",
       "      <th>Home.Ownership</th>\n",
       "      <th>Monthly.Income</th>\n",
       "      <th>FICO.Range</th>\n",
       "      <th>Open.CREDIT.Lines</th>\n",
       "      <th>Revolving.CREDIT.Balance</th>\n",
       "      <th>Inquiries.in.the.Last.6.Months</th>\n",
       "    </tr>\n",
       "  </thead>\n",
       "  <tbody>\n",
       "    <tr>\n",
       "      <th>81174</th>\n",
       "      <td>20000</td>\n",
       "      <td>20000.0</td>\n",
       "      <td>8.90</td>\n",
       "      <td>36.0</td>\n",
       "      <td>14.90</td>\n",
       "      <td>36.0</td>\n",
       "      <td>0.0</td>\n",
       "      <td>6541.67</td>\n",
       "      <td>737.0</td>\n",
       "      <td>14.0</td>\n",
       "      <td>14272.0</td>\n",
       "      <td>2.0</td>\n",
       "    </tr>\n",
       "    <tr>\n",
       "      <th>99592</th>\n",
       "      <td>19200</td>\n",
       "      <td>19200.0</td>\n",
       "      <td>12.12</td>\n",
       "      <td>36.0</td>\n",
       "      <td>28.36</td>\n",
       "      <td>38.0</td>\n",
       "      <td>0.0</td>\n",
       "      <td>4583.33</td>\n",
       "      <td>717.0</td>\n",
       "      <td>12.0</td>\n",
       "      <td>11140.0</td>\n",
       "      <td>1.0</td>\n",
       "    </tr>\n",
       "    <tr>\n",
       "      <th>80059</th>\n",
       "      <td>35000</td>\n",
       "      <td>35000.0</td>\n",
       "      <td>21.98</td>\n",
       "      <td>60.0</td>\n",
       "      <td>23.81</td>\n",
       "      <td>4.0</td>\n",
       "      <td>0.0</td>\n",
       "      <td>11500.00</td>\n",
       "      <td>692.0</td>\n",
       "      <td>14.0</td>\n",
       "      <td>21977.0</td>\n",
       "      <td>1.0</td>\n",
       "    </tr>\n",
       "    <tr>\n",
       "      <th>15825</th>\n",
       "      <td>10000</td>\n",
       "      <td>9975.0</td>\n",
       "      <td>9.99</td>\n",
       "      <td>36.0</td>\n",
       "      <td>14.30</td>\n",
       "      <td>15.0</td>\n",
       "      <td>0.0</td>\n",
       "      <td>3833.33</td>\n",
       "      <td>697.0</td>\n",
       "      <td>10.0</td>\n",
       "      <td>9346.0</td>\n",
       "      <td>0.0</td>\n",
       "    </tr>\n",
       "    <tr>\n",
       "      <th>33182</th>\n",
       "      <td>12000</td>\n",
       "      <td>12000.0</td>\n",
       "      <td>11.71</td>\n",
       "      <td>36.0</td>\n",
       "      <td>18.78</td>\n",
       "      <td>27.0</td>\n",
       "      <td>4.0</td>\n",
       "      <td>3195.00</td>\n",
       "      <td>697.0</td>\n",
       "      <td>11.0</td>\n",
       "      <td>14469.0</td>\n",
       "      <td>0.0</td>\n",
       "    </tr>\n",
       "  </tbody>\n",
       "</table>\n",
       "</div>"
      ],
      "text/plain": [
       "       Amount.Requested  Amount.Funded.By.Investors  Interest.Rate  \\\n",
       "81174             20000                     20000.0           8.90   \n",
       "99592             19200                     19200.0          12.12   \n",
       "80059             35000                     35000.0          21.98   \n",
       "15825             10000                      9975.0           9.99   \n",
       "33182             12000                     12000.0          11.71   \n",
       "\n",
       "       Loan.Length  Debt.To.Income.Ratio  State  Home.Ownership  \\\n",
       "81174         36.0                 14.90   36.0             0.0   \n",
       "99592         36.0                 28.36   38.0             0.0   \n",
       "80059         60.0                 23.81    4.0             0.0   \n",
       "15825         36.0                 14.30   15.0             0.0   \n",
       "33182         36.0                 18.78   27.0             4.0   \n",
       "\n",
       "       Monthly.Income  FICO.Range  Open.CREDIT.Lines  \\\n",
       "81174         6541.67       737.0               14.0   \n",
       "99592         4583.33       717.0               12.0   \n",
       "80059        11500.00       692.0               14.0   \n",
       "15825         3833.33       697.0               10.0   \n",
       "33182         3195.00       697.0               11.0   \n",
       "\n",
       "       Revolving.CREDIT.Balance  Inquiries.in.the.Last.6.Months  \n",
       "81174                   14272.0                             2.0  \n",
       "99592                   11140.0                             1.0  \n",
       "80059                   21977.0                             1.0  \n",
       "15825                    9346.0                             0.0  \n",
       "33182                   14469.0                             0.0  "
      ]
     },
     "execution_count": 2,
     "metadata": {},
     "output_type": "execute_result"
    }
   ],
   "source": [
    "df.head()"
   ]
  },
  {
   "cell_type": "markdown",
   "metadata": {},
   "source": [
    "### Derive the probablility that the interest rate is less than 14%"
   ]
  },
  {
   "cell_type": "code",
   "execution_count": 3,
   "metadata": {},
   "outputs": [
    {
     "data": {
      "text/html": [
       "<div>\n",
       "<style>\n",
       "    .dataframe thead tr:only-child th {\n",
       "        text-align: right;\n",
       "    }\n",
       "\n",
       "    .dataframe thead th {\n",
       "        text-align: left;\n",
       "    }\n",
       "\n",
       "    .dataframe tbody tr th {\n",
       "        vertical-align: top;\n",
       "    }\n",
       "</style>\n",
       "<table border=\"1\" class=\"dataframe\">\n",
       "  <thead>\n",
       "    <tr style=\"text-align: right;\">\n",
       "      <th></th>\n",
       "      <th>Interest.Rate</th>\n",
       "      <th>FICO.Range</th>\n",
       "      <th>Loan.Length</th>\n",
       "      <th>Monthly.Income</th>\n",
       "      <th>Amount.Requested</th>\n",
       "      <th>Claff</th>\n",
       "    </tr>\n",
       "  </thead>\n",
       "  <tbody>\n",
       "    <tr>\n",
       "      <th>81174</th>\n",
       "      <td>8.90</td>\n",
       "      <td>737.0</td>\n",
       "      <td>36.0</td>\n",
       "      <td>6541.67</td>\n",
       "      <td>20000</td>\n",
       "      <td>True</td>\n",
       "    </tr>\n",
       "    <tr>\n",
       "      <th>99592</th>\n",
       "      <td>12.12</td>\n",
       "      <td>717.0</td>\n",
       "      <td>36.0</td>\n",
       "      <td>4583.33</td>\n",
       "      <td>19200</td>\n",
       "      <td>True</td>\n",
       "    </tr>\n",
       "    <tr>\n",
       "      <th>80059</th>\n",
       "      <td>21.98</td>\n",
       "      <td>692.0</td>\n",
       "      <td>60.0</td>\n",
       "      <td>11500.00</td>\n",
       "      <td>35000</td>\n",
       "      <td>False</td>\n",
       "    </tr>\n",
       "    <tr>\n",
       "      <th>15825</th>\n",
       "      <td>9.99</td>\n",
       "      <td>697.0</td>\n",
       "      <td>36.0</td>\n",
       "      <td>3833.33</td>\n",
       "      <td>10000</td>\n",
       "      <td>True</td>\n",
       "    </tr>\n",
       "    <tr>\n",
       "      <th>33182</th>\n",
       "      <td>11.71</td>\n",
       "      <td>697.0</td>\n",
       "      <td>36.0</td>\n",
       "      <td>3195.00</td>\n",
       "      <td>12000</td>\n",
       "      <td>True</td>\n",
       "    </tr>\n",
       "  </tbody>\n",
       "</table>\n",
       "</div>"
      ],
      "text/plain": [
       "       Interest.Rate  FICO.Range  Loan.Length  Monthly.Income  \\\n",
       "81174           8.90       737.0         36.0         6541.67   \n",
       "99592          12.12       717.0         36.0         4583.33   \n",
       "80059          21.98       692.0         60.0        11500.00   \n",
       "15825           9.99       697.0         36.0         3833.33   \n",
       "33182          11.71       697.0         36.0         3195.00   \n",
       "\n",
       "       Amount.Requested  Claff  \n",
       "81174             20000   True  \n",
       "99592             19200   True  \n",
       "80059             35000  False  \n",
       "15825             10000   True  \n",
       "33182             12000   True  "
      ]
     },
     "execution_count": 3,
     "metadata": {},
     "output_type": "execute_result"
    }
   ],
   "source": [
    "imp = df.loc[:,['Interest.Rate', 'FICO.Range', 'Loan.Length', 'Monthly.Income', 'Amount.Requested']]\n",
    "imp[\"Claff\"] =imp['Interest.Rate']<=14\n",
    "imp.head()"
   ]
  },
  {
   "cell_type": "markdown",
   "metadata": {},
   "source": [
    "## Stats Models API\n",
    "works like scikit learn but provides more information.\n",
    "\n",
    "has a useful .predict(X) and .summary() method"
   ]
  },
  {
   "cell_type": "markdown",
   "metadata": {},
   "source": [
    "### Quick Scatter"
   ]
  },
  {
   "cell_type": "code",
   "execution_count": 4,
   "metadata": {},
   "outputs": [
    {
     "data": {
      "text/plain": [
       "<matplotlib.collections.PathCollection at 0x1b81ea05ac8>"
      ]
     },
     "execution_count": 4,
     "metadata": {},
     "output_type": "execute_result"
    },
    {
     "data": {
      "image/png": "[encoded data removed]",
      "text/plain": [
       "<matplotlib.figure.Figure at 0x1b81ae3a588>"
      ]
     },
     "metadata": {},
     "output_type": "display_data"
    }
   ],
   "source": [
    "plt.scatter(imp['FICO.Range'], imp['Claff'])"
   ]
  },
  {
   "cell_type": "code",
   "execution_count": 5,
   "metadata": {},
   "outputs": [
    {
     "data": {
      "text/plain": [
       "<matplotlib.collections.PathCollection at 0x1b81ea9f320>"
      ]
     },
     "execution_count": 5,
     "metadata": {},
     "output_type": "execute_result"
    },
    {
     "data": {
      "image/png": "[encoded data removed]",
      "text/plain": [
       "<matplotlib.figure.Figure at 0x1b81cc50da0>"
      ]
     },
     "metadata": {},
     "output_type": "display_data"
    }
   ],
   "source": [
    "plt.scatter(imp['Amount.Requested'], imp['Claff'])"
   ]
  },
  {
   "cell_type": "markdown",
   "metadata": {},
   "source": [
    "## The Model"
   ]
  },
  {
   "cell_type": "code",
   "execution_count": 6,
   "metadata": {},
   "outputs": [
    {
     "name": "stderr",
     "output_type": "stream",
     "text": [
      "C:\\Users\\Harrison\\Anaconda3\\lib\\site-packages\\statsmodels\\compat\\pandas.py:56: FutureWarning: The pandas.core.datetools module is deprecated and will be removed in a future version. Please use the pandas.tseries module instead.\n",
      "  from pandas.core import datetools\n"
     ]
    },
    {
     "name": "stdout",
     "output_type": "stream",
     "text": [
      "Optimization terminated successfully.\n",
      "         Current function value: 0.373146\n",
      "         Iterations 8\n"
     ]
    }
   ],
   "source": [
    "import statsmodels.api as sm\n",
    "imp['intercept']=1\n",
    "ind_cols = ['FICO.Range','Amount.Requested', 'intercept']\n",
    "logit = sm.Logit(imp['Claff'], imp[ind_cols])\n",
    "results = logit.fit()"
   ]
  },
  {
   "cell_type": "code",
   "execution_count": 7,
   "metadata": {},
   "outputs": [
    {
     "data": {
      "text/plain": [
       "FICO.Range           0.085017\n",
       "Amount.Requested    -0.000168\n",
       "intercept          -56.944965\n",
       "dtype: float64"
      ]
     },
     "execution_count": 7,
     "metadata": {},
     "output_type": "execute_result"
    }
   ],
   "source": [
    "results.params"
   ]
  },
  {
   "cell_type": "markdown",
   "metadata": {},
   "source": [
    "### $z = -56.944 + 0.0850*FicoScore -0.000168*LoanAmount$\n",
    "\n",
    "\n",
    "Probability that loan has an interest rate less than 14%\n",
    "\n",
    "# $p(z) = \\frac{1}{1 + e^{-56.945 + 0.085*FicoScore + -0.000168*LoanAmount}}$"
   ]
  },
  {
   "cell_type": "code",
   "execution_count": 8,
   "metadata": {},
   "outputs": [
    {
     "data": {
      "text/html": [
       "<table class=\"simpletable\">\n",
       "<caption>Logit Regression Results</caption>\n",
       "<tr>\n",
       "  <th>Dep. Variable:</th>       <td>Claff</td>      <th>  No. Observations:  </th>  <td>  2376</td> \n",
       "</tr>\n",
       "<tr>\n",
       "  <th>Model:</th>               <td>Logit</td>      <th>  Df Residuals:      </th>  <td>  2373</td> \n",
       "</tr>\n",
       "<tr>\n",
       "  <th>Method:</th>               <td>MLE</td>       <th>  Df Model:          </th>  <td>     2</td> \n",
       "</tr>\n",
       "<tr>\n",
       "  <th>Date:</th>          <td>Sun, 25 Mar 2018</td> <th>  Pseudo R-squ.:     </th>  <td>0.4489</td> \n",
       "</tr>\n",
       "<tr>\n",
       "  <th>Time:</th>              <td>20:11:42</td>     <th>  Log-Likelihood:    </th> <td> -886.59</td>\n",
       "</tr>\n",
       "<tr>\n",
       "  <th>converged:</th>           <td>True</td>       <th>  LL-Null:           </th> <td> -1608.9</td>\n",
       "</tr>\n",
       "<tr>\n",
       "  <th> </th>                      <td> </td>        <th>  LLR p-value:       </th>  <td> 0.000</td> \n",
       "</tr>\n",
       "</table>\n",
       "<table class=\"simpletable\">\n",
       "<tr>\n",
       "          <td></td>            <th>coef</th>     <th>std err</th>      <th>z</th>      <th>P>|z|</th>  <th>[0.025</th>    <th>0.975]</th>  \n",
       "</tr>\n",
       "<tr>\n",
       "  <th>FICO.Range</th>       <td>    0.0850</td> <td>    0.004</td> <td>   23.076</td> <td> 0.000</td> <td>    0.078</td> <td>    0.092</td>\n",
       "</tr>\n",
       "<tr>\n",
       "  <th>Amount.Requested</th> <td>   -0.0002</td> <td> 1.02e-05</td> <td>  -16.507</td> <td> 0.000</td> <td>   -0.000</td> <td>   -0.000</td>\n",
       "</tr>\n",
       "<tr>\n",
       "  <th>intercept</th>        <td>  -56.9450</td> <td>    2.486</td> <td>  -22.907</td> <td> 0.000</td> <td>  -61.817</td> <td>  -52.073</td>\n",
       "</tr>\n",
       "</table>"
      ],
      "text/plain": [
       "<class 'statsmodels.iolib.summary.Summary'>\n",
       "\"\"\"\n",
       "                           Logit Regression Results                           \n",
       "==============================================================================\n",
       "Dep. Variable:                  Claff   No. Observations:                 2376\n",
       "Model:                          Logit   Df Residuals:                     2373\n",
       "Method:                           MLE   Df Model:                            2\n",
       "Date:                Sun, 25 Mar 2018   Pseudo R-squ.:                  0.4489\n",
       "Time:                        20:11:42   Log-Likelihood:                -886.59\n",
       "converged:                       True   LL-Null:                       -1608.9\n",
       "                                        LLR p-value:                     0.000\n",
       "====================================================================================\n",
       "                       coef    std err          z      P>|z|      [0.025      0.975]\n",
       "------------------------------------------------------------------------------------\n",
       "FICO.Range           0.0850      0.004     23.076      0.000       0.078       0.092\n",
       "Amount.Requested    -0.0002   1.02e-05    -16.507      0.000      -0.000      -0.000\n",
       "intercept          -56.9450      2.486    -22.907      0.000     -61.817     -52.073\n",
       "====================================================================================\n",
       "\"\"\""
      ]
     },
     "execution_count": 8,
     "metadata": {},
     "output_type": "execute_result"
    }
   ],
   "source": [
    "results.summary()"
   ]
  },
  {
   "cell_type": "markdown",
   "metadata": {},
   "source": [
    "## SciKit Learn"
   ]
  },
  {
   "cell_type": "code",
   "execution_count": 9,
   "metadata": {},
   "outputs": [
    {
     "data": {
      "text/plain": [
       "<matplotlib.collections.PathCollection at 0x1b81f864048>"
      ]
     },
     "execution_count": 9,
     "metadata": {},
     "output_type": "execute_result"
    },
    {
     "data": {
      "image/png": "[encoded data removed]",
      "text/plain": [
       "<matplotlib.figure.Figure at 0x1b81f799518>"
      ]
     },
     "metadata": {},
     "output_type": "display_data"
    }
   ],
   "source": [
    "from sklearn.linear_model import LinearRegression\n",
    "linreg = LinearRegression()\n",
    "linreg.fit(imp['FICO.Range'].values.reshape(-1,1), imp.Claff)\n",
    "y_pred = linreg.predict(imp['FICO.Range'].values.reshape(-1,1))\n",
    "plt.plot(imp['FICO.Range'], y_pred)\n",
    "plt.scatter(imp['FICO.Range'], imp['Claff'])"
   ]
  },
  {
   "cell_type": "code",
   "execution_count": 10,
   "metadata": {},
   "outputs": [
    {
     "data": {
      "text/plain": [
       "<matplotlib.collections.PathCollection at 0x1b81f8d7358>"
      ]
     },
     "execution_count": 10,
     "metadata": {},
     "output_type": "execute_result"
    },
    {
     "data": {
      "image/png": "[encoded data removed]",
      "text/plain": [
       "<matplotlib.figure.Figure at 0x1b818137d30>"
      ]
     },
     "metadata": {},
     "output_type": "display_data"
    }
   ],
   "source": [
    "from sklearn.linear_model import LogisticRegression, LogisticRegressionCV\n",
    "log = LogisticRegressionCV()\n",
    "log.fit(imp['FICO.Range'].values.reshape(-1,1), imp.Claff)\n",
    "y_pred = log.predict_proba(imp['FICO.Range'].values.reshape(-1,1))\n",
    "plt.plot(imp['FICO.Range'], y_pred)\n",
    "plt.scatter(imp['FICO.Range'], imp['Claff'])"
   ]
  },
  {
   "cell_type": "markdown",
   "metadata": {},
   "source": [
    "# Iris Dataset"
   ]
  },
  {
   "cell_type": "code",
   "execution_count": 11,
   "metadata": {},
   "outputs": [
    {
     "data": {
      "image/png": "[encoded data removed]",
      "text/plain": [
       "<matplotlib.figure.Figure at 0x1b81f8eec88>"
      ]
     },
     "metadata": {},
     "output_type": "display_data"
    }
   ],
   "source": [
    "from sklearn.datasets import load_iris\n",
    "import seaborn as sns\n",
    "\n",
    "iris = load_iris()\n",
    "X = iris.data[:,2:4]\n",
    "y = iris.target\n",
    "plt.scatter(X[:,0],X[:,1], c = y[:])\n",
    "sns.despine()"
   ]
  },
  {
   "cell_type": "code",
   "execution_count": 12,
   "metadata": {},
   "outputs": [
    {
     "data": {
      "image/png": "[encoded data removed]",
      "text/plain": [
       "<matplotlib.figure.Figure at 0x1b81ea7c208>"
      ]
     },
     "metadata": {},
     "output_type": "display_data"
    }
   ],
   "source": [
    "plt.scatter(X[:,0], y[:], c= y[:])\n",
    "sns.despine()"
   ]
  },
  {
   "cell_type": "code",
   "execution_count": 13,
   "metadata": {},
   "outputs": [
    {
     "data": {
      "image/png": "[encoded data removed]",
      "text/plain": [
       "<matplotlib.figure.Figure at 0x1b820b70320>"
      ]
     },
     "metadata": {},
     "output_type": "display_data"
    }
   ],
   "source": [
    "plt.scatter(X[:,1], y[:], c= y[:])\n",
    "sns.despine()"
   ]
  },
  {
   "cell_type": "markdown",
   "metadata": {},
   "source": [
    "Here we standardize our data and split our data"
   ]
  },
  {
   "cell_type": "code",
   "execution_count": 19,
   "metadata": {},
   "outputs": [],
   "source": [
    "from sklearn.model_selection import train_test_split\n",
    "X_train, X_test, y_train, y_test = train_test_split(X, y, test_size = 0.3, random_state=0)\n",
    "\n",
    "from sklearn.preprocessing import StandardScaler\n",
    "scale = StandardScaler()\n",
    "scale.fit(X_train)\n",
    "X_train_std = scale.transform(X_train)\n",
    "X_test_std = scale.transform(X_test)\n",
    "\n"
   ]
  },
  {
   "cell_type": "markdown",
   "metadata": {},
   "source": [
    "### The Logistic Model"
   ]
  },
  {
   "cell_type": "code",
   "execution_count": 21,
   "metadata": {
    "scrolled": true
   },
   "outputs": [
    {
     "data": {
      "image/png": "[encoded data removed]",
      "text/plain": [
       "<matplotlib.figure.Figure at 0x1b8211b5be0>"
      ]
     },
     "metadata": {},
     "output_type": "display_data"
    }
   ],
   "source": [
    "from sklearn.linear_model import LogisticRegression\n",
    "logr = LogisticRegression(C = 10000, random_state = 0)\n",
    "logr.fit(X_train_std, y_train)\n",
    "import VisualFuncs as vf\n",
    "\n",
    "\n",
    "vf.VDR(X_test_std, y_test, classifier = logr)"
   ]
  },
  {
   "cell_type": "markdown",
   "metadata": {},
   "source": [
    "### Predicting Class Probabilities"
   ]
  },
  {
   "cell_type": "code",
   "execution_count": 26,
   "metadata": {},
   "outputs": [
    {
     "data": {
      "text/plain": [
       "array([[  1.32305547e-14,   6.29676452e-02,   9.37032355e-01]])"
      ]
     },
     "execution_count": 26,
     "metadata": {},
     "output_type": "execute_result"
    }
   ],
   "source": [
    "logr.predict_proba(X_test_std[0,:].reshape(1,-1))"
   ]
  },
  {
   "cell_type": "code",
   "execution_count": 39,
   "metadata": {},
   "outputs": [
    {
     "data": {
      "text/plain": [
       "array([[  8.92125320e-13,   4.74463326e-01,   5.25536674e-01],\n",
       "       [  8.92125320e-13,   4.74463326e-01,   5.25536674e-01],\n",
       "       [  2.31701463e-12,   4.68445742e-01,   5.31554258e-01],\n",
       "       [  3.44893046e-13,   4.79706030e-01,   5.20293970e-01],\n",
       "       [  8.92125320e-13,   4.74463326e-01,   5.25536674e-01],\n",
       "       [  9.38777397e-15,   4.80251767e-01,   5.19748233e-01],\n",
       "       [  3.81072980e-13,   4.67682394e-01,   5.32317606e-01],\n",
       "       [  3.44893046e-13,   4.79706030e-01,   5.20293970e-01],\n",
       "       [  8.92125320e-13,   4.74463326e-01,   5.25536674e-01],\n",
       "       [  8.10680418e-13,   4.84082618e-01,   5.15917382e-01],\n",
       "       [  3.44893046e-13,   4.79706030e-01,   5.20293970e-01],\n",
       "       [  1.33695751e-13,   4.84024644e-01,   5.15975356e-01],\n",
       "       [  2.09435972e-12,   4.80302791e-01,   5.19697209e-01],\n",
       "       [  3.81811057e-11,   4.79675324e-01,   5.20324676e-01],\n",
       "       [  6.05980411e-12,   4.62443366e-01,   5.37556634e-01],\n",
       "       [  6.28245021e-14,   4.68020964e-01,   5.31979036e-01],\n",
       "       [  4.25808250e-13,   4.49306228e-01,   5.50693772e-01],\n",
       "       [  3.81072980e-13,   4.67682394e-01,   5.32317606e-01],\n",
       "       [  2.20627996e-14,   4.84261857e-01,   5.15738143e-01],\n",
       "       [  1.47031458e-13,   4.74438603e-01,   5.25561397e-01],\n",
       "       [  5.19288428e-14,   4.87490444e-01,   5.12509556e-01],\n",
       "       [  6.28245021e-14,   4.68020964e-01,   5.31979036e-01],\n",
       "       [  4.38788816e-11,   4.64319174e-01,   5.35680826e-01],\n",
       "       [  4.00167140e-15,   4.75281323e-01,   5.24718677e-01],\n",
       "       [  7.86715094e-15,   4.92392566e-01,   5.07607434e-01],\n",
       "       [  1.33695751e-13,   4.84024644e-01,   5.15975356e-01],\n",
       "       [  2.42540888e-14,   4.74823438e-01,   5.25176562e-01],\n",
       "       [  3.44893046e-13,   4.79706030e-01,   5.20293970e-01],\n",
       "       [  8.92125320e-13,   4.74463326e-01,   5.25536674e-01],\n",
       "       [  1.33695751e-13,   4.84024644e-01,   5.15975356e-01],\n",
       "       [  1.33695751e-13,   4.84024644e-01,   5.15975356e-01],\n",
       "       [  6.28245021e-14,   4.68020964e-01,   5.31979036e-01],\n",
       "       [  8.10680418e-13,   4.84082618e-01,   5.15917382e-01],\n",
       "       [  8.92125320e-13,   4.74463326e-01,   5.25536674e-01],\n",
       "       [  8.10680418e-13,   4.84082618e-01,   5.15917382e-01],\n",
       "       [  6.05980411e-12,   4.62443366e-01,   5.37556634e-01],\n",
       "       [  2.31701463e-12,   4.68445742e-01,   5.31554258e-01],\n",
       "       [  8.10680418e-13,   4.84082618e-01,   5.15917382e-01],\n",
       "       [  2.31701463e-12,   4.68445742e-01,   5.31554258e-01],\n",
       "       [  3.44893046e-13,   4.79706030e-01,   5.20293970e-01],\n",
       "       [  9.91414763e-13,   4.59550576e-01,   5.40449424e-01],\n",
       "       [  9.91414763e-13,   4.59550576e-01,   5.40449424e-01],\n",
       "       [  2.31701463e-12,   4.68445742e-01,   5.31554258e-01],\n",
       "       [  4.43840370e-15,   4.60896122e-01,   5.39103878e-01],\n",
       "       [  1.41484668e-15,   4.87941091e-01,   5.12058909e-01],\n",
       "       [  3.81072980e-13,   4.67682394e-01,   5.32317606e-01],\n",
       "       [  1.33695751e-13,   4.84024644e-01,   5.15975356e-01],\n",
       "       [  8.92125320e-13,   4.74463326e-01,   5.25536674e-01],\n",
       "       [  3.44893046e-13,   4.79706030e-01,   5.20293970e-01],\n",
       "       [  8.92125320e-13,   4.74463326e-01,   5.25536674e-01],\n",
       "       [  9.56858997e-31,   4.99896998e-01,   5.00103002e-01],\n",
       "       [  2.64159368e-30,   4.99783269e-01,   5.00216731e-01],\n",
       "       [  6.18035054e-32,   4.99921751e-01,   5.00078249e-01],\n",
       "       [  1.61960124e-27,   4.99515707e-01,   5.00484293e-01],\n",
       "       [  1.03309568e-30,   4.99831995e-01,   5.00168005e-01],\n",
       "       [  1.48145880e-29,   4.99864417e-01,   5.00135583e-01],\n",
       "       [  1.70611170e-31,   4.99835345e-01,   5.00164655e-01],\n",
       "       [  1.53937628e-23,   4.98577340e-01,   5.01422660e-01],\n",
       "       [  5.79401933e-30,   4.99894903e-01,   5.00105097e-01],\n",
       "       [  1.74948030e-27,   4.99210456e-01,   5.00789544e-01],\n",
       "       [  2.35226967e-24,   4.99144318e-01,   5.00855682e-01],\n",
       "       [  4.41703836e-29,   4.99534813e-01,   5.00465187e-01],\n",
       "       [  2.15048700e-26,   4.99760314e-01,   5.00239686e-01],\n",
       "       [  9.56858997e-31,   4.99896998e-01,   5.00103002e-01],\n",
       "       [  6.93237732e-26,   4.98660544e-01,   5.01339456e-01],\n",
       "       [  1.59955810e-29,   4.99778861e-01,   5.00221139e-01],\n",
       "       [  2.64159368e-30,   4.99783269e-01,   5.00216731e-01],\n",
       "       [  8.41021063e-27,   4.99814199e-01,   5.00185801e-01],\n",
       "       [  2.64159368e-30,   4.99783269e-01,   5.00216731e-01],\n",
       "       [  2.32222459e-26,   4.99609119e-01,   5.00390881e-01],\n",
       "       [  1.18977396e-32,   4.99795974e-01,   5.00204026e-01],\n",
       "       [  1.61960124e-27,   4.99515707e-01,   5.00484293e-01],\n",
       "       [  6.18035054e-32,   4.99921751e-01,   5.00078249e-01],\n",
       "       [  5.36671421e-30,   4.99935569e-01,   5.00064431e-01],\n",
       "       [  9.68576881e-29,   4.99774363e-01,   5.00225637e-01],\n",
       "       [  1.59955810e-29,   4.99778861e-01,   5.00221139e-01],\n",
       "       [  3.74235227e-31,   4.99920160e-01,   5.00079840e-01],\n",
       "       [  4.30975096e-33,   4.99903037e-01,   5.00096963e-01],\n",
       "       [  2.64159368e-30,   4.99783269e-01,   5.00216731e-01],\n",
       "       [  2.35226967e-24,   4.99144318e-01,   5.00855682e-01],\n",
       "       [  5.93862236e-26,   4.99495818e-01,   5.00504182e-01],\n",
       "       [  3.59604218e-25,   4.99485569e-01,   5.00514431e-01],\n",
       "       [  9.80724033e-27,   4.99505862e-01,   5.00494138e-01],\n",
       "       [  3.99193477e-33,   4.99940557e-01,   5.00059443e-01],\n",
       "       [  2.64159368e-30,   4.99783269e-01,   5.00216731e-01],\n",
       "       [  1.11549784e-30,   4.99725992e-01,   5.00274008e-01],\n",
       "       [  4.04040202e-31,   4.99869769e-01,   5.00130231e-01],\n",
       "       [  3.78797314e-29,   4.99825091e-01,   5.00174909e-01],\n",
       "       [  6.33330617e-28,   4.99624542e-01,   5.00375458e-01],\n",
       "       [  1.61960124e-27,   4.99515707e-01,   5.00484293e-01],\n",
       "       [  8.97061355e-29,   4.99861659e-01,   5.00138341e-01],\n",
       "       [  2.44656667e-30,   4.99867120e-01,   5.00132880e-01],\n",
       "       [  3.83501692e-27,   4.99616908e-01,   5.00383092e-01],\n",
       "       [  1.53937628e-23,   4.98577340e-01,   5.01422660e-01],\n",
       "       [  2.47670378e-28,   4.99708933e-01,   5.00291067e-01],\n",
       "       [  5.86500327e-28,   4.99769774e-01,   5.00230226e-01],\n",
       "       [  2.47670378e-28,   4.99708933e-01,   5.00291067e-01],\n",
       "       [  9.68576881e-29,   4.99774363e-01,   5.00225637e-01],\n",
       "       [  1.09153975e-22,   4.96155827e-01,   5.03844173e-01],\n",
       "       [  6.33330617e-28,   4.99624542e-01,   5.00375458e-01],\n",
       "       [  3.64756720e-40,   4.99950412e-01,   5.00049588e-01],\n",
       "       [  3.00535048e-34,   4.99879849e-01,   5.00120151e-01],\n",
       "       [  2.93395317e-38,   4.99974970e-01,   5.00025030e-01],\n",
       "       [  6.51395955e-36,   4.99973410e-01,   5.00026590e-01],\n",
       "       [  3.16740105e-38,   4.99959169e-01,   5.00040831e-01],\n",
       "       [  4.10821286e-41,   4.99995793e-01,   5.00004207e-01],\n",
       "       [  4.71069051e-31,   4.99653588e-01,   5.00346412e-01],\n",
       "       [  9.12102594e-39,   4.99995531e-01,   5.00004469e-01],\n",
       "       [  9.96482115e-37,   4.99984025e-01,   5.00015975e-01],\n",
       "       [  1.42662704e-40,   4.99961563e-01,   5.00038437e-01],\n",
       "       [  1.26904113e-34,   4.99848088e-01,   5.00151912e-01],\n",
       "       [  4.59713384e-35,   4.99927808e-01,   5.00072192e-01],\n",
       "       [  1.25378862e-36,   4.99930659e-01,   5.00069341e-01],\n",
       "       [  3.24486863e-34,   4.99804027e-01,   5.00195973e-01],\n",
       "       [  4.03545684e-36,   4.99611887e-01,   5.00388113e-01],\n",
       "       [  1.46149259e-36,   4.99815515e-01,   5.00184485e-01],\n",
       "       [  1.66546275e-35,   4.99965696e-01,   5.00034304e-01],\n",
       "       [  6.78457566e-42,   4.99995877e-01,   5.00004123e-01],\n",
       "       [  4.38236442e-43,   4.99996868e-01,   5.00003132e-01],\n",
       "       [  2.41721156e-32,   4.99939347e-01,   5.00060653e-01],\n",
       "       [  3.41949202e-38,   4.99933396e-01,   5.00066604e-01],\n",
       "       [  8.29716308e-34,   4.99747194e-01,   5.00252806e-01],\n",
       "       [  3.80553192e-41,   4.99997421e-01,   5.00002579e-01],\n",
       "       [  4.65309016e-33,   4.99841844e-01,   5.00158156e-01],\n",
       "       [  1.91793530e-37,   4.99958338e-01,   5.00041662e-01],\n",
       "       [  1.52439544e-37,   4.99990402e-01,   5.00009598e-01],\n",
       "       [  1.18977396e-32,   4.99795974e-01,   5.00204026e-01],\n",
       "       [  4.65309016e-33,   4.99841844e-01,   5.00158156e-01],\n",
       "       [  4.90374203e-37,   4.99946252e-01,   5.00053748e-01],\n",
       "       [  5.58931174e-36,   4.99990008e-01,   5.00009992e-01],\n",
       "       [  2.51748736e-38,   4.99990594e-01,   5.00009406e-01],\n",
       "       [  6.36015111e-40,   4.99994462e-01,   5.00005538e-01],\n",
       "       [  2.07058444e-37,   4.99932041e-01,   5.00067959e-01],\n",
       "       [  9.45408824e-33,   4.99952987e-01,   5.00047013e-01],\n",
       "       [  2.04936370e-34,   4.99989597e-01,   5.00010403e-01],\n",
       "       [  8.00187881e-40,   4.99975958e-01,   5.00024042e-01],\n",
       "       [  3.69176677e-38,   4.99891358e-01,   5.00108642e-01],\n",
       "       [  1.66546275e-35,   4.99965696e-01,   5.00034304e-01],\n",
       "       [  1.18977396e-32,   4.99795974e-01,   5.00204026e-01],\n",
       "       [  3.20571535e-36,   4.99910542e-01,   5.00089458e-01],\n",
       "       [  3.69176677e-38,   4.99891358e-01,   5.00108642e-01],\n",
       "       [  9.55584970e-36,   4.99693001e-01,   5.00306999e-01],\n",
       "       [  3.00535048e-34,   4.99879849e-01,   5.00120151e-01],\n",
       "       [  5.23084888e-39,   4.99959983e-01,   5.00040017e-01],\n",
       "       [  6.09680353e-39,   4.99893525e-01,   5.00106475e-01],\n",
       "       [  3.73702700e-36,   4.99762012e-01,   5.00237988e-01],\n",
       "       [  7.68437508e-34,   4.99844997e-01,   5.00155003e-01],\n",
       "       [  4.96321252e-35,   4.99882244e-01,   5.00117756e-01],\n",
       "       [  5.71580544e-37,   4.99856994e-01,   5.00143006e-01],\n",
       "       [  7.11738274e-34,   4.99904971e-01,   5.00095029e-01]])"
      ]
     },
     "execution_count": 39,
     "metadata": {},
     "output_type": "execute_result"
    }
   ],
   "source": [
    "predict = logr.predict_proba(X)\n",
    "predict"
   ]
  },
  {
   "cell_type": "markdown",
   "metadata": {},
   "source": []
  },
  {
   "cell_type": "code",
   "execution_count": null,
   "metadata": {
    "collapsed": true
   },
   "outputs": [],
   "source": []
  },
  {
   "cell_type": "code",
   "execution_count": null,
   "metadata": {
    "collapsed": true
   },
   "outputs": [],
   "source": []
  },
  {
   "cell_type": "code",
   "execution_count": null,
   "metadata": {
    "collapsed": true
   },
   "outputs": [],
   "source": []
  },
  {
   "cell_type": "code",
   "execution_count": null,
   "metadata": {
    "collapsed": true
   },
   "outputs": [],
   "source": []
  }
 ],
 "metadata": {
  "kernelspec": {
   "display_name": "Python 3",
   "language": "python",
   "name": "python3"
  },
  "language_info": {
   "codemirror_mode": {
    "name": "ipython",
    "version": 3
   },
   "file_extension": ".py",
   "mimetype": "text/x-python",
   "name": "python",
   "nbconvert_exporter": "python",
   "pygments_lexer": "ipython3",
   "version": "3.6.3"
  }
 },
 "nbformat": 4,
 "nbformat_minor": 2
}
