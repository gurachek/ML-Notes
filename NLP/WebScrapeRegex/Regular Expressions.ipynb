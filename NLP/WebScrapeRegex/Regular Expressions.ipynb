{
 "cells": [
  {
   "cell_type": "code",
   "execution_count": 1,
   "metadata": {
    "collapsed": true
   },
   "outputs": [],
   "source": [
    "import re"
   ]
  },
  {
   "cell_type": "markdown",
   "metadata": {},
   "source": [
    "## Basic Patterns\n",
    " - .(period) matches any single character except '\\n'\n",
    " - '\\w' matches a word character: letter, digit or underbar\n",
    " - '\\W' matches any non-word character"
   ]
  },
  {
   "cell_type": "code",
   "execution_count": 27,
   "metadata": {},
   "outputs": [
    {
     "name": "stdout",
     "output_type": "stream",
     "text": [
      "string\n"
     ]
    }
   ],
   "source": [
    "string = \"Th7s is a string about Peanut Butter. \\n Next time I talk to you, email me \\n harrisonjansma@yahoo.com\"\n",
    "\n",
    "#re.search(pattern, string) returns a match object.\n",
    "match = re.search(r'\\w\\w\\w\\w\\w\\w', string)\n",
    "\n",
    "#the match.group() is the found match\n",
    "print(match.group())\n",
    "\n",
    "#returns the first string object with 5 word characters in a row"
   ]
  },
  {
   "cell_type": "markdown",
   "metadata": {},
   "source": [
    "- '\\s' matches a single whitespace character. space\n",
    "- '\\S' any non-whitespace character"
   ]
  },
  {
   "cell_type": "code",
   "execution_count": 24,
   "metadata": {},
   "outputs": [
    {
     "name": "stdout",
     "output_type": "stream",
     "text": [
      "is a \n"
     ]
    }
   ],
   "source": [
    "#word-word-space-word-space\n",
    "match = re.search(r'\\w\\w\\s\\w\\s', string)\n",
    "print(match.group())"
   ]
  },
  {
   "cell_type": "markdown",
   "metadata": {},
   "source": [
    "- \\t, \\n, \\r - tab, newline, return"
   ]
  },
  {
   "cell_type": "code",
   "execution_count": 28,
   "metadata": {},
   "outputs": [
    {
     "name": "stdout",
     "output_type": "stream",
     "text": [
      "\n",
      " Nex\n"
     ]
    }
   ],
   "source": [
    "#finds first new line instance\n",
    "match = re.search('\\n\\s\\w\\w\\w', string)\n",
    "print(match.group())"
   ]
  },
  {
   "cell_type": "markdown",
   "metadata": {},
   "source": [
    "- \\d decimal digit [0-9]"
   ]
  },
  {
   "cell_type": "code",
   "execution_count": 30,
   "metadata": {},
   "outputs": [
    {
     "name": "stdout",
     "output_type": "stream",
     "text": [
      "7\n"
     ]
    }
   ],
   "source": [
    "#first decimal\n",
    "match = re.search(r'\\d', string)\n",
    "print(match.group())"
   ]
  },
  {
   "cell_type": "markdown",
   "metadata": {},
   "source": [
    "## Repetition\n",
    "-   \\+ 1 or more occurences of the pattern to its left"
   ]
  },
  {
   "cell_type": "code",
   "execution_count": 32,
   "metadata": {},
   "outputs": [
    {
     "name": "stdout",
     "output_type": "stream",
     "text": [
      "Th7s\n"
     ]
    }
   ],
   "source": [
    "#repetition of word characters\n",
    "match = re.search(r'\\w+', string)\n",
    "print(match.group())"
   ]
  },
  {
   "cell_type": "markdown",
   "metadata": {},
   "source": [
    "- \\* --  0 or more occurences of the pattern to its left"
   ]
  },
  {
   "cell_type": "code",
   "execution_count": 33,
   "metadata": {},
   "outputs": [
    {
     "name": "stdout",
     "output_type": "stream",
     "text": [
      "chiiiiiiiiiiiiiiiiiiiiiii\n",
      "chiiiiiiiiiiiiiiiiiiiiiiicken\n"
     ]
    }
   ],
   "source": [
    "string = 'chiiiiiiiiiiiiiiiiiiiiiiicken nuggets'\n",
    "match = re.search(r'\\w\\wi+', string)\n",
    "print(match.group())\n",
    "\n",
    "match = re.search(r'\\w+', string)\n",
    "print(match.group())"
   ]
  },
  {
   "cell_type": "code",
   "execution_count": 34,
   "metadata": {},
   "outputs": [
    {
     "name": "stdout",
     "output_type": "stream",
     "text": [
      "harrisonjansma@jmail.com\n"
     ]
    }
   ],
   "source": [
    "# fromatting for finding an email with repetition symbols\n",
    "string = \" my name is harrison, and to email me use harrisonjansma@jmail.com\"\n",
    "match = re.search(r'\\w+@\\w+\\.\\w+', string)\n",
    "print(match.group())"
   ]
  },
  {
   "cell_type": "markdown",
   "metadata": {},
   "source": [
    "## Square Brackets\n",
    "Used to indicate a set of characters to match with\n",
    "- [abc] matches a, or b, or c\n"
   ]
  },
  {
   "cell_type": "markdown",
   "metadata": {},
   "source": [
    "## Group Extraction\n",
    "\n",
    "Surround the regex expression with parenthesis to make a seperate group object"
   ]
  },
  {
   "cell_type": "code",
   "execution_count": 43,
   "metadata": {},
   "outputs": [
    {
     "name": "stdout",
     "output_type": "stream",
     "text": [
      "harrison-jansma@yahoo.com\n",
      "harrison-jansma\n",
      "yahoo.com\n"
     ]
    }
   ],
   "source": [
    "string = 'harrison jansma is harrison-jansma@yahoo.com'\n",
    "match = re.search(r'([\\w.-]+)@([\\w.]+)', string)\n",
    "print(match.group())\n",
    "print(match.group(1))\n",
    "print(match.group(2))"
   ]
  },
  {
   "cell_type": "markdown",
   "metadata": {},
   "source": [
    "## findall"
   ]
  },
  {
   "cell_type": "code",
   "execution_count": 44,
   "metadata": {},
   "outputs": [
    {
     "name": "stdout",
     "output_type": "stream",
     "text": [
      "['harrison@yahoo.com', 'chimpanzee@yahoo.com', 'chicken@yahoo.com']\n"
     ]
    }
   ],
   "source": [
    "string = 'harrison@yahoo.com chicken nuggets chimpanzee@yahoo.com, turkish chicken@yahoo.com'\n",
    "\n",
    "emails = re.findall(r'\\w+@[\\w.]+', string)\n",
    "print(emails)"
   ]
  }
 ],
 "metadata": {
  "kernelspec": {
   "display_name": "Python [conda env:py36]",
   "language": "python",
   "name": "conda-env-py36-py"
  },
  "language_info": {
   "codemirror_mode": {
    "name": "ipython",
    "version": 3
   },
   "file_extension": ".py",
   "mimetype": "text/x-python",
   "name": "python",
   "nbconvert_exporter": "python",
   "pygments_lexer": "ipython3",
   "version": "3.6.5"
  }
 },
 "nbformat": 4,
 "nbformat_minor": 2
}
