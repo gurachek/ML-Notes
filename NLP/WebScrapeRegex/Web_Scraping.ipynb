{
 "cells": [
  {
   "cell_type": "markdown",
   "metadata": {},
   "source": [
    "# Scraping with BeautifulSoup\n",
    "\n",
    "https://www.dataquest.io/blog/web-scraping-beautifulsoup/"
   ]
  },
  {
   "cell_type": "code",
   "execution_count": 1,
   "metadata": {},
   "outputs": [
    {
     "name": "stdout",
     "output_type": "stream",
     "text": [
      "<!DOCTYPE html>\n",
      "<html>\n",
      "<head>\n",
      "\n",
      "    <meta charset=\"\n"
     ]
    }
   ],
   "source": [
    "from requests import get\n",
    "\n",
    "url = 'https://www.dataquest.io/blog/web-scraping-beautifulsoup/'\n",
    "\n",
    "response = get(url)\n",
    "print(response.text[:50])"
   ]
  },
  {
   "cell_type": "code",
   "execution_count": 4,
   "metadata": {},
   "outputs": [
    {
     "data": {
      "text/plain": [
       "bs4.BeautifulSoup"
      ]
     },
     "execution_count": 4,
     "metadata": {},
     "output_type": "execute_result"
    }
   ],
   "source": [
    "from bs4 import BeautifulSoup\n",
    "response_soup = BeautifulSoup(response.text, 'html5lib')\n",
    "type(response_soup)"
   ]
  },
  {
   "cell_type": "code",
   "execution_count": 5,
   "metadata": {},
   "outputs": [
    {
     "name": "stdout",
     "output_type": "stream",
     "text": [
      "1\n"
     ]
    }
   ],
   "source": [
    "#find all <div> containers with kg-card-markdown class\n",
    "text_container = response_soup.find_all('div', class_ = 'kg-card-markdown')\n",
    "print(len(text_container))"
   ]
  },
  {
   "cell_type": "markdown",
   "metadata": {},
   "source": [
    "Dot notation and find will give back the first element that is called for."
   ]
  },
  {
   "cell_type": "code",
   "execution_count": 18,
   "metadata": {
    "scrolled": true
   },
   "outputs": [
    {
     "name": "stdout",
     "output_type": "stream",
     "text": [
      "7\n",
      "To source data for data science projects, you'll often rely on SQL and NoSQL databases, APIs, or ready-made CSV data sets. \n",
      "\n",
      "To source data for data science projects, you'll often rely on SQL and NoSQL databases, APIs, or ready-made CSV data sets.\n"
     ]
    }
   ],
   "source": [
    "web_text = text_container[0]\n",
    "\n",
    "#finds the first <p> container\n",
    "paragraphs = web_text.find('p')\n",
    "print(len(paragraphs))\n",
    "print(paragraphs.text, '\\n')\n",
    "\n",
    "#finds the first <p> container\n",
    "print(web_text.p.text)"
   ]
  },
  {
   "cell_type": "markdown",
   "metadata": {},
   "source": [
    "Find a specific thing by using its attributes."
   ]
  },
  {
   "cell_type": "code",
   "execution_count": 28,
   "metadata": {},
   "outputs": [
    {
     "name": "stdout",
     "output_type": "stream",
     "text": [
      "1\n",
      "<img class=\"full-width\" src=\"/blog/content/images/year_name.png\"/>\n",
      "\n",
      " <img class=\"full-width\" src=\"/blog/content/images/year_name.png\"/>\n"
     ]
    }
   ],
   "source": [
    "# finding a specific picture the first arg is the container name\n",
    "# the second are its attributes\n",
    "images = web_text.find_all('img', {'class':'full-width', 'src': '/blog/content/images/year_name.png'})\n",
    "print(len(images))\n",
    "print(images[0])\n",
    "\n",
    "image2 = web_text.find('img', {'class':'full-width', 'src':'/blog/content/images/year_name.png'})\n",
    "print('\\n', image2)"
   ]
  }
 ],
 "metadata": {
  "kernelspec": {
   "display_name": "Python [conda env:py36]",
   "language": "python",
   "name": "conda-env-py36-py"
  },
  "language_info": {
   "codemirror_mode": {
    "name": "ipython",
    "version": 3
   },
   "file_extension": ".py",
   "mimetype": "text/x-python",
   "name": "python",
   "nbconvert_exporter": "python",
   "pygments_lexer": "ipython3",
   "version": "3.6.5"
  }
 },
 "nbformat": 4,
 "nbformat_minor": 2
}
