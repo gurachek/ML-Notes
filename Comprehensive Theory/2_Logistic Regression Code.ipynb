{
 "cells": [
  {
   "cell_type": "markdown",
   "metadata": {},
   "source": [
    "# Logistic Regression"
   ]
  },
  {
   "cell_type": "code",
   "execution_count": 1,
   "metadata": {
    "collapsed": true
   },
   "outputs": [],
   "source": [
    "import matplotlib.pyplot as plt\n",
    "%matplotlib inline\n",
    "from IPython.core.display import HTML\n",
    "\n",
    "HTML(\"\"\"\n",
    "<style>\n",
    " {\n",
    "    display: table-cell;\n",
    "    text-align: center;\n",
    "   .output_png vertical-align: middle;\n",
    "}\n",
    "</style>\n",
    "\"\"\")\n",
    "import pandas as pd\n",
    "import numpy as np\n",
    "df = pd.read_csv('https://spark-public.s3.amazonaws.com/dataanalysis/loansData.csv')\n",
    "\n",
    "\n",
    "# Remove % sign from DtI Ratio and interest rate\n",
    "df['Debt.To.Income.Ratio'] = df['Debt.To.Income.Ratio'].apply(lambda x: x[:-1]).astype('float64')\n",
    "df['Interest.Rate'] = df['Interest.Rate'].apply(lambda x: x[:-1]).astype('float64')\n",
    "\n",
    "#Bucket categorical variables as float. Float type will allow easy removal of outliers\n",
    "from sklearn.preprocessing import LabelEncoder\n",
    "le = LabelEncoder()\n",
    "df.State = le.fit_transform(df.State).astype('float64')\n",
    "df['Home.Ownership'] = le.fit_transform(df['Home.Ownership']).astype('float64')\n",
    "\n",
    "\n",
    "#extract float val from string\n",
    "def numonly(string):\n",
    "    res = ''\n",
    "    for x in string:\n",
    "        if x.isdigit():\n",
    "            res = res+x\n",
    "    return int(res)\n",
    "df.loc[:,'Loan.Length'] = df['Loan.Length'].apply(numonly).astype('float64')\n",
    "\n",
    "#average te FICO Range/ convert to float\n",
    "def noline(string):\n",
    "    x = string.split('-')\n",
    "    c = 0\n",
    "    for y in x:\n",
    "        y=int(y)\n",
    "        c+=y\n",
    "    return c/2\n",
    "df.loc[:,'FICO.Range'] = df['FICO.Range'].apply(noline).astype('float64')\n",
    "\n",
    "\n",
    "#delete superfluous features\n",
    "del df['Loan.Purpose']\n",
    "del df['Employment.Length']\n",
    "\n",
    "\n",
    "#drop NaN values and remove outliers\n",
    "df = df.dropna()\n",
    "from scipy import stats\n",
    "df = df[(np.abs(stats.zscore(df)) < 3).all(axis=1)]"
   ]
  },
  {
   "cell_type": "code",
   "execution_count": 2,
   "metadata": {},
   "outputs": [
    {
     "data": {
      "text/html": [
       "<div>\n",
       "<style>\n",
       "    .dataframe thead tr:only-child th {\n",
       "        text-align: right;\n",
       "    }\n",
       "\n",
       "    .dataframe thead th {\n",
       "        text-align: left;\n",
       "    }\n",
       "\n",
       "    .dataframe tbody tr th {\n",
       "        vertical-align: top;\n",
       "    }\n",
       "</style>\n",
       "<table border=\"1\" class=\"dataframe\">\n",
       "  <thead>\n",
       "    <tr style=\"text-align: right;\">\n",
       "      <th></th>\n",
       "      <th>Amount.Requested</th>\n",
       "      <th>Amount.Funded.By.Investors</th>\n",
       "      <th>Interest.Rate</th>\n",
       "      <th>Loan.Length</th>\n",
       "      <th>Debt.To.Income.Ratio</th>\n",
       "      <th>State</th>\n",
       "      <th>Home.Ownership</th>\n",
       "      <th>Monthly.Income</th>\n",
       "      <th>FICO.Range</th>\n",
       "      <th>Open.CREDIT.Lines</th>\n",
       "      <th>Revolving.CREDIT.Balance</th>\n",
       "      <th>Inquiries.in.the.Last.6.Months</th>\n",
       "    </tr>\n",
       "  </thead>\n",
       "  <tbody>\n",
       "    <tr>\n",
       "      <th>81174</th>\n",
       "      <td>20000</td>\n",
       "      <td>20000.0</td>\n",
       "      <td>8.90</td>\n",
       "      <td>36.0</td>\n",
       "      <td>14.90</td>\n",
       "      <td>36.0</td>\n",
       "      <td>0.0</td>\n",
       "      <td>6541.67</td>\n",
       "      <td>737.0</td>\n",
       "      <td>14.0</td>\n",
       "      <td>14272.0</td>\n",
       "      <td>2.0</td>\n",
       "    </tr>\n",
       "    <tr>\n",
       "      <th>99592</th>\n",
       "      <td>19200</td>\n",
       "      <td>19200.0</td>\n",
       "      <td>12.12</td>\n",
       "      <td>36.0</td>\n",
       "      <td>28.36</td>\n",
       "      <td>38.0</td>\n",
       "      <td>0.0</td>\n",
       "      <td>4583.33</td>\n",
       "      <td>717.0</td>\n",
       "      <td>12.0</td>\n",
       "      <td>11140.0</td>\n",
       "      <td>1.0</td>\n",
       "    </tr>\n",
       "    <tr>\n",
       "      <th>80059</th>\n",
       "      <td>35000</td>\n",
       "      <td>35000.0</td>\n",
       "      <td>21.98</td>\n",
       "      <td>60.0</td>\n",
       "      <td>23.81</td>\n",
       "      <td>4.0</td>\n",
       "      <td>0.0</td>\n",
       "      <td>11500.00</td>\n",
       "      <td>692.0</td>\n",
       "      <td>14.0</td>\n",
       "      <td>21977.0</td>\n",
       "      <td>1.0</td>\n",
       "    </tr>\n",
       "    <tr>\n",
       "      <th>15825</th>\n",
       "      <td>10000</td>\n",
       "      <td>9975.0</td>\n",
       "      <td>9.99</td>\n",
       "      <td>36.0</td>\n",
       "      <td>14.30</td>\n",
       "      <td>15.0</td>\n",
       "      <td>0.0</td>\n",
       "      <td>3833.33</td>\n",
       "      <td>697.0</td>\n",
       "      <td>10.0</td>\n",
       "      <td>9346.0</td>\n",
       "      <td>0.0</td>\n",
       "    </tr>\n",
       "    <tr>\n",
       "      <th>33182</th>\n",
       "      <td>12000</td>\n",
       "      <td>12000.0</td>\n",
       "      <td>11.71</td>\n",
       "      <td>36.0</td>\n",
       "      <td>18.78</td>\n",
       "      <td>27.0</td>\n",
       "      <td>4.0</td>\n",
       "      <td>3195.00</td>\n",
       "      <td>697.0</td>\n",
       "      <td>11.0</td>\n",
       "      <td>14469.0</td>\n",
       "      <td>0.0</td>\n",
       "    </tr>\n",
       "  </tbody>\n",
       "</table>\n",
       "</div>"
      ],
      "text/plain": [
       "       Amount.Requested  Amount.Funded.By.Investors  Interest.Rate  \\\n",
       "81174             20000                     20000.0           8.90   \n",
       "99592             19200                     19200.0          12.12   \n",
       "80059             35000                     35000.0          21.98   \n",
       "15825             10000                      9975.0           9.99   \n",
       "33182             12000                     12000.0          11.71   \n",
       "\n",
       "       Loan.Length  Debt.To.Income.Ratio  State  Home.Ownership  \\\n",
       "81174         36.0                 14.90   36.0             0.0   \n",
       "99592         36.0                 28.36   38.0             0.0   \n",
       "80059         60.0                 23.81    4.0             0.0   \n",
       "15825         36.0                 14.30   15.0             0.0   \n",
       "33182         36.0                 18.78   27.0             4.0   \n",
       "\n",
       "       Monthly.Income  FICO.Range  Open.CREDIT.Lines  \\\n",
       "81174         6541.67       737.0               14.0   \n",
       "99592         4583.33       717.0               12.0   \n",
       "80059        11500.00       692.0               14.0   \n",
       "15825         3833.33       697.0               10.0   \n",
       "33182         3195.00       697.0               11.0   \n",
       "\n",
       "       Revolving.CREDIT.Balance  Inquiries.in.the.Last.6.Months  \n",
       "81174                   14272.0                             2.0  \n",
       "99592                   11140.0                             1.0  \n",
       "80059                   21977.0                             1.0  \n",
       "15825                    9346.0                             0.0  \n",
       "33182                   14469.0                             0.0  "
      ]
     },
     "execution_count": 2,
     "metadata": {},
     "output_type": "execute_result"
    }
   ],
   "source": [
    "df.head()"
   ]
  },
  {
   "cell_type": "markdown",
   "metadata": {},
   "source": [
    "### Derive the probablility that the interest rate is less than 14%"
   ]
  },
  {
   "cell_type": "code",
   "execution_count": 3,
   "metadata": {},
   "outputs": [
    {
     "data": {
      "text/html": [
       "<div>\n",
       "<style>\n",
       "    .dataframe thead tr:only-child th {\n",
       "        text-align: right;\n",
       "    }\n",
       "\n",
       "    .dataframe thead th {\n",
       "        text-align: left;\n",
       "    }\n",
       "\n",
       "    .dataframe tbody tr th {\n",
       "        vertical-align: top;\n",
       "    }\n",
       "</style>\n",
       "<table border=\"1\" class=\"dataframe\">\n",
       "  <thead>\n",
       "    <tr style=\"text-align: right;\">\n",
       "      <th></th>\n",
       "      <th>Interest.Rate</th>\n",
       "      <th>FICO.Range</th>\n",
       "      <th>Loan.Length</th>\n",
       "      <th>Monthly.Income</th>\n",
       "      <th>Amount.Requested</th>\n",
       "      <th>Claff</th>\n",
       "    </tr>\n",
       "  </thead>\n",
       "  <tbody>\n",
       "    <tr>\n",
       "      <th>81174</th>\n",
       "      <td>8.90</td>\n",
       "      <td>737.0</td>\n",
       "      <td>36.0</td>\n",
       "      <td>6541.67</td>\n",
       "      <td>20000</td>\n",
       "      <td>True</td>\n",
       "    </tr>\n",
       "    <tr>\n",
       "      <th>99592</th>\n",
       "      <td>12.12</td>\n",
       "      <td>717.0</td>\n",
       "      <td>36.0</td>\n",
       "      <td>4583.33</td>\n",
       "      <td>19200</td>\n",
       "      <td>True</td>\n",
       "    </tr>\n",
       "    <tr>\n",
       "      <th>80059</th>\n",
       "      <td>21.98</td>\n",
       "      <td>692.0</td>\n",
       "      <td>60.0</td>\n",
       "      <td>11500.00</td>\n",
       "      <td>35000</td>\n",
       "      <td>False</td>\n",
       "    </tr>\n",
       "    <tr>\n",
       "      <th>15825</th>\n",
       "      <td>9.99</td>\n",
       "      <td>697.0</td>\n",
       "      <td>36.0</td>\n",
       "      <td>3833.33</td>\n",
       "      <td>10000</td>\n",
       "      <td>True</td>\n",
       "    </tr>\n",
       "    <tr>\n",
       "      <th>33182</th>\n",
       "      <td>11.71</td>\n",
       "      <td>697.0</td>\n",
       "      <td>36.0</td>\n",
       "      <td>3195.00</td>\n",
       "      <td>12000</td>\n",
       "      <td>True</td>\n",
       "    </tr>\n",
       "  </tbody>\n",
       "</table>\n",
       "</div>"
      ],
      "text/plain": [
       "       Interest.Rate  FICO.Range  Loan.Length  Monthly.Income  \\\n",
       "81174           8.90       737.0         36.0         6541.67   \n",
       "99592          12.12       717.0         36.0         4583.33   \n",
       "80059          21.98       692.0         60.0        11500.00   \n",
       "15825           9.99       697.0         36.0         3833.33   \n",
       "33182          11.71       697.0         36.0         3195.00   \n",
       "\n",
       "       Amount.Requested  Claff  \n",
       "81174             20000   True  \n",
       "99592             19200   True  \n",
       "80059             35000  False  \n",
       "15825             10000   True  \n",
       "33182             12000   True  "
      ]
     },
     "execution_count": 3,
     "metadata": {},
     "output_type": "execute_result"
    }
   ],
   "source": [
    "imp = df.loc[:,['Interest.Rate', 'FICO.Range', 'Loan.Length', 'Monthly.Income', 'Amount.Requested']]\n",
    "imp[\"Claff\"] =imp['Interest.Rate']<=14\n",
    "imp.head()"
   ]
  },
  {
   "cell_type": "markdown",
   "metadata": {},
   "source": [
    "## Stats Models API\n",
    "works like scikit learn but provides more information.\n",
    "\n",
    "has a useful .predict(X) and .summary() method"
   ]
  },
  {
   "cell_type": "markdown",
   "metadata": {},
   "source": [
    "### Quick Scatter"
   ]
  },
  {
   "cell_type": "code",
   "execution_count": 4,
   "metadata": {},
   "outputs": [
    {
     "data": {
      "text/plain": [
       "<matplotlib.collections.PathCollection at 0x24c2de559e8>"
      ]
     },
     "execution_count": 4,
     "metadata": {},
     "output_type": "execute_result"
    },
    {
     "data": {
      "image/png": "[encoded data removed]",
      "text/plain": [
       "<matplotlib.figure.Figure at 0x24c2a2b8b38>"
      ]
     },
     "metadata": {},
     "output_type": "display_data"
    }
   ],
   "source": [
    "plt.scatter(imp['FICO.Range'], imp['Claff'])"
   ]
  },
  {
   "cell_type": "code",
   "execution_count": 5,
   "metadata": {},
   "outputs": [
    {
     "data": {
      "text/plain": [
       "<matplotlib.collections.PathCollection at 0x24c2ded9588>"
      ]
     },
     "execution_count": 5,
     "metadata": {},
     "output_type": "execute_result"
    },
    {
     "data": {
      "image/png": "[encoded data removed]",
      "text/plain": [
       "<matplotlib.figure.Figure at 0x24c2c0c1f28>"
      ]
     },
     "metadata": {},
     "output_type": "display_data"
    }
   ],
   "source": [
    "plt.scatter(imp['Amount.Requested'], imp['Claff'])"
   ]
  },
  {
   "cell_type": "markdown",
   "metadata": {},
   "source": [
    "## The Model"
   ]
  },
  {
   "cell_type": "code",
   "execution_count": 6,
   "metadata": {},
   "outputs": [
    {
     "name": "stderr",
     "output_type": "stream",
     "text": [
      "C:\\Users\\Harrison\\Anaconda3\\lib\\site-packages\\statsmodels\\compat\\pandas.py:56: FutureWarning: The pandas.core.datetools module is deprecated and will be removed in a future version. Please use the pandas.tseries module instead.\n",
      "  from pandas.core import datetools\n"
     ]
    },
    {
     "name": "stdout",
     "output_type": "stream",
     "text": [
      "Optimization terminated successfully.\n",
      "         Current function value: 0.373146\n",
      "         Iterations 8\n"
     ]
    }
   ],
   "source": [
    "import statsmodels.api as sm\n",
    "imp['intercept']=1\n",
    "ind_cols = ['FICO.Range','Amount.Requested', 'intercept']\n",
    "logit = sm.Logit(imp['Claff'], imp[ind_cols])\n",
    "results = logit.fit()"
   ]
  },
  {
   "cell_type": "code",
   "execution_count": 7,
   "metadata": {},
   "outputs": [
    {
     "data": {
      "text/plain": [
       "FICO.Range           0.085017\n",
       "Amount.Requested    -0.000168\n",
       "intercept          -56.944965\n",
       "dtype: float64"
      ]
     },
     "execution_count": 7,
     "metadata": {},
     "output_type": "execute_result"
    }
   ],
   "source": [
    "results.params"
   ]
  },
  {
   "cell_type": "markdown",
   "metadata": {},
   "source": [
    "### $z = -56.944 + 0.0850*FicoScore -0.000168*LoanAmount$\n",
    "\n",
    "\n",
    "Probability that loan has an interest rate less than 14%\n",
    "\n",
    "# $p(z) = \\frac{1}{1 + e^{-56.945 + 0.085*FicoScore + -0.000168*LoanAmount}}$"
   ]
  },
  {
   "cell_type": "code",
   "execution_count": 8,
   "metadata": {},
   "outputs": [
    {
     "data": {
      "text/html": [
       "<table class=\"simpletable\">\n",
       "<caption>Logit Regression Results</caption>\n",
       "<tr>\n",
       "  <th>Dep. Variable:</th>       <td>Claff</td>      <th>  No. Observations:  </th>  <td>  2376</td> \n",
       "</tr>\n",
       "<tr>\n",
       "  <th>Model:</th>               <td>Logit</td>      <th>  Df Residuals:      </th>  <td>  2373</td> \n",
       "</tr>\n",
       "<tr>\n",
       "  <th>Method:</th>               <td>MLE</td>       <th>  Df Model:          </th>  <td>     2</td> \n",
       "</tr>\n",
       "<tr>\n",
       "  <th>Date:</th>          <td>Sat, 24 Mar 2018</td> <th>  Pseudo R-squ.:     </th>  <td>0.4489</td> \n",
       "</tr>\n",
       "<tr>\n",
       "  <th>Time:</th>              <td>19:41:03</td>     <th>  Log-Likelihood:    </th> <td> -886.59</td>\n",
       "</tr>\n",
       "<tr>\n",
       "  <th>converged:</th>           <td>True</td>       <th>  LL-Null:           </th> <td> -1608.9</td>\n",
       "</tr>\n",
       "<tr>\n",
       "  <th> </th>                      <td> </td>        <th>  LLR p-value:       </th>  <td> 0.000</td> \n",
       "</tr>\n",
       "</table>\n",
       "<table class=\"simpletable\">\n",
       "<tr>\n",
       "          <td></td>            <th>coef</th>     <th>std err</th>      <th>z</th>      <th>P>|z|</th>  <th>[0.025</th>    <th>0.975]</th>  \n",
       "</tr>\n",
       "<tr>\n",
       "  <th>FICO.Range</th>       <td>    0.0850</td> <td>    0.004</td> <td>   23.076</td> <td> 0.000</td> <td>    0.078</td> <td>    0.092</td>\n",
       "</tr>\n",
       "<tr>\n",
       "  <th>Amount.Requested</th> <td>   -0.0002</td> <td> 1.02e-05</td> <td>  -16.507</td> <td> 0.000</td> <td>   -0.000</td> <td>   -0.000</td>\n",
       "</tr>\n",
       "<tr>\n",
       "  <th>intercept</th>        <td>  -56.9450</td> <td>    2.486</td> <td>  -22.907</td> <td> 0.000</td> <td>  -61.817</td> <td>  -52.073</td>\n",
       "</tr>\n",
       "</table>"
      ],
      "text/plain": [
       "<class 'statsmodels.iolib.summary.Summary'>\n",
       "\"\"\"\n",
       "                           Logit Regression Results                           \n",
       "==============================================================================\n",
       "Dep. Variable:                  Claff   No. Observations:                 2376\n",
       "Model:                          Logit   Df Residuals:                     2373\n",
       "Method:                           MLE   Df Model:                            2\n",
       "Date:                Sat, 24 Mar 2018   Pseudo R-squ.:                  0.4489\n",
       "Time:                        19:41:03   Log-Likelihood:                -886.59\n",
       "converged:                       True   LL-Null:                       -1608.9\n",
       "                                        LLR p-value:                     0.000\n",
       "====================================================================================\n",
       "                       coef    std err          z      P>|z|      [0.025      0.975]\n",
       "------------------------------------------------------------------------------------\n",
       "FICO.Range           0.0850      0.004     23.076      0.000       0.078       0.092\n",
       "Amount.Requested    -0.0002   1.02e-05    -16.507      0.000      -0.000      -0.000\n",
       "intercept          -56.9450      2.486    -22.907      0.000     -61.817     -52.073\n",
       "====================================================================================\n",
       "\"\"\""
      ]
     },
     "execution_count": 8,
     "metadata": {},
     "output_type": "execute_result"
    }
   ],
   "source": [
    "results.summary()"
   ]
  },
  {
   "cell_type": "markdown",
   "metadata": {},
   "source": [
    "## SciKit Learn"
   ]
  },
  {
   "cell_type": "code",
   "execution_count": 9,
   "metadata": {},
   "outputs": [
    {
     "data": {
      "text/plain": [
       "<matplotlib.collections.PathCollection at 0x24c2ecc3f60>"
      ]
     },
     "execution_count": 9,
     "metadata": {},
     "output_type": "execute_result"
    },
    {
     "data": {
      "image/png": "[encoded data removed]",
      "text/plain": [
       "<matplotlib.figure.Figure at 0x24c2e9d5860>"
      ]
     },
     "metadata": {},
     "output_type": "display_data"
    }
   ],
   "source": [
    "from sklearn.linear_model import LinearRegression\n",
    "linreg = LinearRegression()\n",
    "linreg.fit(imp['FICO.Range'].values.reshape(-1,1), imp.Claff)\n",
    "y_pred = linreg.predict(imp['FICO.Range'].values.reshape(-1,1))\n",
    "plt.plot(imp['FICO.Range'], y_pred)\n",
    "plt.scatter(imp['FICO.Range'], imp['Claff'])"
   ]
  },
  {
   "cell_type": "code",
   "execution_count": 10,
   "metadata": {},
   "outputs": [
    {
     "data": {
      "text/plain": [
       "<matplotlib.collections.PathCollection at 0x24c2ed3e588>"
      ]
     },
     "execution_count": 10,
     "metadata": {},
     "output_type": "execute_result"
    },
    {
     "data": {
      "image/png": "[encoded data removed]",
      "text/plain": [
       "<matplotlib.figure.Figure at 0x24c2e9c5d30>"
      ]
     },
     "metadata": {},
     "output_type": "display_data"
    }
   ],
   "source": [
    "from sklearn.linear_model import LogisticRegression\n",
    "log = LogisticRegression()\n",
    "log.fit(imp['FICO.Range'].values.reshape(-1,1), imp.Claff)\n",
    "y_pred = log.predict_proba(imp['FICO.Range'].values.reshape(-1,1))\n",
    "plt.plot(imp['FICO.Range'], y_pred)\n",
    "plt.scatter(imp['FICO.Range'], imp['Claff'])"
   ]
  },
  {
   "cell_type": "markdown",
   "metadata": {},
   "source": [
    "# Iris Dataset"
   ]
  },
  {
   "cell_type": "code",
   "execution_count": 38,
   "metadata": {},
   "outputs": [
    {
     "data": {
      "image/png": "[encoded data removed]",
      "text/plain": [
       "<matplotlib.figure.Figure at 0x24c30a8fcc0>"
      ]
     },
     "metadata": {},
     "output_type": "display_data"
    }
   ],
   "source": [
    "from sklearn.datasets import load_iris\n",
    "import seaborn as sns\n",
    "\n",
    "iris = load_iris()\n",
    "X = iris.data[:,2:4]\n",
    "y = iris.target\n",
    "plt.scatter(X[:-50,0],X[:-50,1], c = y[:-50])\n",
    "sns.despine()"
   ]
  },
  {
   "cell_type": "code",
   "execution_count": 35,
   "metadata": {},
   "outputs": [
    {
     "data": {
      "image/png": "[encoded data removed]",
      "text/plain": [
       "<matplotlib.figure.Figure at 0x24c3087c5c0>"
      ]
     },
     "metadata": {},
     "output_type": "display_data"
    }
   ],
   "source": [
    "plt.scatter(X[:-50,0], y[:-50], c= y[:-50])\n",
    "sns.despine()"
   ]
  },
  {
   "cell_type": "code",
   "execution_count": null,
   "metadata": {
    "collapsed": true
   },
   "outputs": [],
   "source": []
  },
  {
   "cell_type": "code",
   "execution_count": null,
   "metadata": {
    "collapsed": true
   },
   "outputs": [],
   "source": []
  },
  {
   "cell_type": "code",
   "execution_count": 30,
   "metadata": {},
   "outputs": [
    {
     "data": {
      "text/plain": [
       "<matplotlib.collections.PathCollection at 0x24c307d54e0>"
      ]
     },
     "execution_count": 30,
     "metadata": {},
     "output_type": "execute_result"
    },
    {
     "data": {
      "image/png": "[encoded data removed]",
      "text/plain": [
       "<matplotlib.figure.Figure at 0x24c3077b0b8>"
      ]
     },
     "metadata": {},
     "output_type": "display_data"
    }
   ],
   "source": [
    "logit = LogisticRegression()\n",
    "logit.fit(X[:-50,0].reshape(-1,1), y[:-50])\n",
    "pred = logit.predict_proba(np.linspace(0,5,100).reshape(-1,1))\n",
    "plt.plot(X[:-50,0], pred)\n",
    "plt.scatter(X[:-50,0], y[:-50], c= y[:-50])"
   ]
  },
  {
   "cell_type": "code",
   "execution_count": null,
   "metadata": {
    "collapsed": true
   },
   "outputs": [],
   "source": []
  },
  {
   "cell_type": "code",
   "execution_count": null,
   "metadata": {
    "collapsed": true
   },
   "outputs": [],
   "source": []
  },
  {
   "cell_type": "code",
   "execution_count": null,
   "metadata": {
    "collapsed": true
   },
   "outputs": [],
   "source": []
  }
 ],
 "metadata": {
  "kernelspec": {
   "display_name": "Python 3",
   "language": "python",
   "name": "python3"
  },
  "language_info": {
   "codemirror_mode": {
    "name": "ipython",
    "version": 3
   },
   "file_extension": ".py",
   "mimetype": "text/x-python",
   "name": "python",
   "nbconvert_exporter": "python",
   "pygments_lexer": "ipython3",
   "version": "3.6.3"
  }
 },
 "nbformat": 4,
 "nbformat_minor": 2
}
