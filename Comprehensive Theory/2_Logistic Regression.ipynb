{
 "cells": [
  {
   "cell_type": "markdown",
   "metadata": {
    "collapsed": true
   },
   "source": [
    "# Logistic Regression"
   ]
  },
  {
   "cell_type": "markdown",
   "metadata": {},
   "source": [
    "Logistic Regression is the classification old scho0l (tried and true). Its fast, interpretable, non required feature scaling,  no hyperparameters, easy to regularize, outputs predicted probablilities.\n",
    "\n",
    "P(x) = $\\frac{1}{1 + e^{b_0 + b_1x}}$\n",
    "\n",
    "\n",
    "Simple linear function put into the logit function to get the distribution you want. Models binary outcomes\n",
    "\n"
   ]
  },
  {
   "cell_type": "markdown",
   "metadata": {},
   "source": [
    "## Threshold Functions for Logistic Regressions\n",
    "\n",
    "#### The Logit Function\n",
    "\n",
    "logit functio is the log of the Odds Ratio. Plot a set of events on the x axis and the logit value for that event on the y axis.\n",
    "\n",
    "$logit(p) = log(\\frac{p}{1-p})$\n",
    "\n",
    "\n",
    "Now fit a linear regression to the model.\n",
    "\n",
    "$logit(p) = log( \\frac{p}{1-p} ) = b_0 + b_1X$\n",
    "\n",
    "\n",
    "\n",
    "We want to express log odds as a linear function of score.\n",
    "\n",
    "$p(X) = \\frac{1}{1 + e^{b_0 + b_1X}}$"
   ]
  },
  {
   "cell_type": "markdown",
   "metadata": {},
   "source": [
    "## Probablility Ratio\n",
    "takes the domain [0,1] and maps it to the positive real axis.\n",
    "\n",
    "$\\frac{p}{1-p}$"
   ]
  },
  {
   "cell_type": "code",
   "execution_count": 5,
   "metadata": {
    "scrolled": true
   },
   "outputs": [
    {
     "data": {
      "text/plain": [
       "[<matplotlib.lines.Line2D at 0x29a811defd0>]"
      ]
     },
     "execution_count": 5,
     "metadata": {},
     "output_type": "execute_result"
    },
    {
     "data": {
      "image/png": "[encoded data removed]",
      "text/plain": [
       "<matplotlib.figure.Figure at 0x29afcaee518>"
      ]
     },
     "metadata": {},
     "output_type": "display_data"
    }
   ],
   "source": [
    "import numpy as np\n",
    "import matplotlib.pyplot as plt\n",
    "%matplotlib inline\n",
    "\n",
    "x = np.linspace(0.01, 1, 100, endpoint = False)\n",
    "\n",
    "def y(p):\n",
    "    return p/(1-p)\n",
    "\n",
    "y = np.vectorize(y)\n",
    "plt.plot(x,y(x))"
   ]
  },
  {
   "cell_type": "markdown",
   "metadata": {},
   "source": [
    "## Logit Function\n",
    "takes the positive real axis and maps it to (0,1)\n",
    "\n",
    "$logit(p) = log( \\frac{p}{1-p} ) $"
   ]
  },
  {
   "cell_type": "code",
   "execution_count": 10,
   "metadata": {},
   "outputs": [
    {
     "data": {
      "text/plain": [
       "[<matplotlib.lines.Line2D at 0x29a8132d710>]"
      ]
     },
     "execution_count": 10,
     "metadata": {},
     "output_type": "execute_result"
    },
    {
     "data": {
      "image/png": "[encoded data removed]",
      "text/plain": [
       "<matplotlib.figure.Figure at 0x29a81286048>"
      ]
     },
     "metadata": {},
     "output_type": "display_data"
    }
   ],
   "source": [
    "logit = np.log(y(x))\n",
    "plt.plot(logit, x)"
   ]
  },
  {
   "cell_type": "markdown",
   "metadata": {},
   "source": [
    "## Logistic Function\n",
    "\n",
    "The logistic function is the inverse of the logit function and lets us predict conditional probablility that a certaain sample belongs to class 1.\n",
    "\n",
    "\n",
    "$p(X) = \\frac{1}{1 + e^{b_0 + b_1X}}$"
   ]
  },
  {
   "cell_type": "markdown",
   "metadata": {},
   "source": [
    "# Logistic Regression Geometric Intuition\n",
    "\n",
    "https://florianhartl.com/logistic-regression-geometric-intuition.html\n",
    "\n",
    "How does logistic regression compare to SVM in its geometric intuition.\n",
    "\n",
    "https://florianhartl.com/wp-content/ql-cache/quicklatex.com-9f9a1ad357b6ac489bbf2a8a4e37008f_l3.png\n",
    "\n",
    "\" the algorithm essentially adds a new dimension for our dependent variable \\boldsymbol{\\text{y}} and fits a logistic function g(z) to the arising two-dimensional data in such a way that it separates the samples as good as possible within the range of 0<=g(z)<=1. \"\n",
    "\n"
   ]
  },
  {
   "cell_type": "markdown",
   "metadata": {},
   "source": [
    "# Logistic Regression and Gradient Descent"
   ]
  },
  {
   "cell_type": "markdown",
   "metadata": {},
   "source": []
  },
  {
   "cell_type": "markdown",
   "metadata": {},
   "source": []
  },
  {
   "cell_type": "markdown",
   "metadata": {},
   "source": []
  },
  {
   "cell_type": "markdown",
   "metadata": {},
   "source": []
  }
 ],
 "metadata": {
  "kernelspec": {
   "display_name": "Python 3",
   "language": "python",
   "name": "python3"
  },
  "language_info": {
   "codemirror_mode": {
    "name": "ipython",
    "version": 3
   },
   "file_extension": ".py",
   "mimetype": "text/x-python",
   "name": "python",
   "nbconvert_exporter": "python",
   "pygments_lexer": "ipython3",
   "version": "3.6.3"
  }
 },
 "nbformat": 4,
 "nbformat_minor": 2
}
