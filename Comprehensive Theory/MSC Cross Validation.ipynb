{
 "cells": [
  {
   "cell_type": "markdown",
   "metadata": {},
   "source": [
    "# Cross Validation"
   ]
  },
  {
   "cell_type": "markdown",
   "metadata": {},
   "source": [
    "## K-Fold Cross-Validation\n",
    "Split the training data into K subsets of equal  size. Iterate over the folds where each fold serves as the test set 1 time, and the training set k-1 times. Average testing performance across k test is used as the metric. \n",
    "\n",
    "Reduces variance of the testing process by averaging scores. More reliable out of sample performance. Can be used for parameter tuning, model selection, and feature selection. Computationally expensive and can lead to overfitting if too many things are compared at once.\n"
   ]
  },
  {
   "cell_type": "code",
   "execution_count": 1,
   "metadata": {
    "collapsed": true
   },
   "outputs": [],
   "source": [
    "from sklearn.datasets import load_iris\n",
    "from sklearn.neighbors import KNeighborsClassifier\n",
    "from sklearn.model_selection import cross_val_score\n",
    "import matplotlib.pyplot as plt\n",
    "%matplotlib inline"
   ]
  },
  {
   "cell_type": "code",
   "execution_count": 2,
   "metadata": {
    "collapsed": true
   },
   "outputs": [],
   "source": [
    "iris = load_iris()\n",
    "X = iris.data\n",
    "y = iris.target"
   ]
  },
  {
   "cell_type": "markdown",
   "metadata": {},
   "source": [
    "### cross_val_score\n",
    "Simple K fold Cross Validation"
   ]
  },
  {
   "cell_type": "code",
   "execution_count": 3,
   "metadata": {},
   "outputs": [
    {
     "name": "stdout",
     "output_type": "stream",
     "text": [
      "[ 1.          0.93333333  1.          1.          0.86666667  0.93333333\n",
      "  0.93333333  1.          1.          1.        ]\n",
      "0.966666666667\n"
     ]
    }
   ],
   "source": [
    "knn = KNeighborsClassifier()\n",
    "scores = cross_val_score(knn, X, y,cv = 10, scoring = 'accuracy')\n",
    "print(scores)\n",
    "print(scores.mean())"
   ]
  },
  {
   "cell_type": "markdown",
   "metadata": {},
   "source": [
    "### GridSearchCV\n",
    "Define a grid of parameters that will be searched usin k fold cross val. Input a dictionary with chosen parameters to iterate over, performs k fold on each potential parameter."
   ]
  },
  {
   "cell_type": "markdown",
   "metadata": {},
   "source": [
    "sklearn.model_selection.GridSearchCV(estimator, param_grid, scoring=None, fit_params=None, n_jobs=1, iid=True, refit=True, cv=None, verbose=0, pre_dispatch=‘2*n_jobs’, error_score=’raise’, return_train_score=’warn’)\n",
    "\n",
    "estimator - the classifier/regressor that you want to test hyperparameters on.\n",
    "\n",
    "param_grid - a dictionary whose keys are the name of the hyperparameters and values are a list of potential parameter values.\n",
    "\n",
    "Scoring = method to score.\n",
    "\n",
    "fit_params - parameters to pass to the fit method\n",
    "\n",
    "n_jobs - set to 1 by default to test each parameter once, parameters can be searched in parallel with \"-1\"\n",
    "\n",
    "cv  - cross validation strattegy, by default set to 3 fold cv. input an integer for n fold validation\n",
    "\n",
    "return_train_score - \"true\" saves the results of the cross vallidation\n",
    "\n",
    "\n",
    "\n",
    "#### Internal Values and Methods\n",
    "    cv_results_ - a dictionary of masked numpya arrays that can be imported into a pandas dataframe.\n",
    "\n",
    "    best_estimator_ - estimator that was chosen by the search\n",
    "\n",
    "    best_score_ - best mean cross validated score\n",
    "\n",
    "    best_params_ \n",
    "\n",
    "\n",
    "Once fit is called, the object becomes the best scoring classifier regressor"
   ]
  },
  {
   "cell_type": "code",
   "execution_count": 4,
   "metadata": {
    "collapsed": true
   },
   "outputs": [],
   "source": [
    "from sklearn.model_selection import GridSearchCV\n",
    "import pandas as pd"
   ]
  },
  {
   "cell_type": "code",
   "execution_count": 5,
   "metadata": {},
   "outputs": [
    {
     "data": {
      "text/html": [
       "<div>\n",
       "<style>\n",
       "    .dataframe thead tr:only-child th {\n",
       "        text-align: right;\n",
       "    }\n",
       "\n",
       "    .dataframe thead th {\n",
       "        text-align: left;\n",
       "    }\n",
       "\n",
       "    .dataframe tbody tr th {\n",
       "        vertical-align: top;\n",
       "    }\n",
       "</style>\n",
       "<table border=\"1\" class=\"dataframe\">\n",
       "  <thead>\n",
       "    <tr style=\"text-align: right;\">\n",
       "      <th></th>\n",
       "      <th>mean_fit_time</th>\n",
       "      <th>mean_score_time</th>\n",
       "      <th>mean_test_score</th>\n",
       "      <th>mean_train_score</th>\n",
       "      <th>param_n_neighbors</th>\n",
       "      <th>params</th>\n",
       "      <th>rank_test_score</th>\n",
       "      <th>split0_test_score</th>\n",
       "      <th>split0_train_score</th>\n",
       "      <th>split1_test_score</th>\n",
       "      <th>...</th>\n",
       "      <th>split7_test_score</th>\n",
       "      <th>split7_train_score</th>\n",
       "      <th>split8_test_score</th>\n",
       "      <th>split8_train_score</th>\n",
       "      <th>split9_test_score</th>\n",
       "      <th>split9_train_score</th>\n",
       "      <th>std_fit_time</th>\n",
       "      <th>std_score_time</th>\n",
       "      <th>std_test_score</th>\n",
       "      <th>std_train_score</th>\n",
       "    </tr>\n",
       "  </thead>\n",
       "  <tbody>\n",
       "    <tr>\n",
       "      <th>0</th>\n",
       "      <td>0.001652</td>\n",
       "      <td>0.002003</td>\n",
       "      <td>0.960000</td>\n",
       "      <td>1.000000</td>\n",
       "      <td>1</td>\n",
       "      <td>{'n_neighbors': 1}</td>\n",
       "      <td>24</td>\n",
       "      <td>1.0</td>\n",
       "      <td>1.000000</td>\n",
       "      <td>0.933333</td>\n",
       "      <td>...</td>\n",
       "      <td>1.000000</td>\n",
       "      <td>1.000000</td>\n",
       "      <td>1.0</td>\n",
       "      <td>1.000000</td>\n",
       "      <td>1.0</td>\n",
       "      <td>1.000000</td>\n",
       "      <td>0.000635</td>\n",
       "      <td>4.475739e-04</td>\n",
       "      <td>0.053333</td>\n",
       "      <td>0.000000</td>\n",
       "    </tr>\n",
       "    <tr>\n",
       "      <th>1</th>\n",
       "      <td>0.001401</td>\n",
       "      <td>0.002001</td>\n",
       "      <td>0.953333</td>\n",
       "      <td>0.978519</td>\n",
       "      <td>2</td>\n",
       "      <td>{'n_neighbors': 2}</td>\n",
       "      <td>27</td>\n",
       "      <td>1.0</td>\n",
       "      <td>0.970370</td>\n",
       "      <td>0.933333</td>\n",
       "      <td>...</td>\n",
       "      <td>0.933333</td>\n",
       "      <td>0.977778</td>\n",
       "      <td>1.0</td>\n",
       "      <td>0.977778</td>\n",
       "      <td>1.0</td>\n",
       "      <td>0.977778</td>\n",
       "      <td>0.000491</td>\n",
       "      <td>8.730809e-07</td>\n",
       "      <td>0.052068</td>\n",
       "      <td>0.005185</td>\n",
       "    </tr>\n",
       "    <tr>\n",
       "      <th>2</th>\n",
       "      <td>0.001402</td>\n",
       "      <td>0.001801</td>\n",
       "      <td>0.966667</td>\n",
       "      <td>0.960741</td>\n",
       "      <td>3</td>\n",
       "      <td>{'n_neighbors': 3}</td>\n",
       "      <td>12</td>\n",
       "      <td>1.0</td>\n",
       "      <td>0.955556</td>\n",
       "      <td>0.933333</td>\n",
       "      <td>...</td>\n",
       "      <td>1.000000</td>\n",
       "      <td>0.955556</td>\n",
       "      <td>1.0</td>\n",
       "      <td>0.955556</td>\n",
       "      <td>1.0</td>\n",
       "      <td>0.955556</td>\n",
       "      <td>0.000201</td>\n",
       "      <td>2.452137e-04</td>\n",
       "      <td>0.044721</td>\n",
       "      <td>0.007444</td>\n",
       "    </tr>\n",
       "    <tr>\n",
       "      <th>3</th>\n",
       "      <td>0.001152</td>\n",
       "      <td>0.001801</td>\n",
       "      <td>0.966667</td>\n",
       "      <td>0.963704</td>\n",
       "      <td>4</td>\n",
       "      <td>{'n_neighbors': 4}</td>\n",
       "      <td>12</td>\n",
       "      <td>1.0</td>\n",
       "      <td>0.955556</td>\n",
       "      <td>0.933333</td>\n",
       "      <td>...</td>\n",
       "      <td>1.000000</td>\n",
       "      <td>0.962963</td>\n",
       "      <td>1.0</td>\n",
       "      <td>0.955556</td>\n",
       "      <td>1.0</td>\n",
       "      <td>0.970370</td>\n",
       "      <td>0.000229</td>\n",
       "      <td>2.452045e-04</td>\n",
       "      <td>0.044721</td>\n",
       "      <td>0.006988</td>\n",
       "    </tr>\n",
       "    <tr>\n",
       "      <th>4</th>\n",
       "      <td>0.000951</td>\n",
       "      <td>0.001501</td>\n",
       "      <td>0.966667</td>\n",
       "      <td>0.968889</td>\n",
       "      <td>5</td>\n",
       "      <td>{'n_neighbors': 5}</td>\n",
       "      <td>12</td>\n",
       "      <td>1.0</td>\n",
       "      <td>0.962963</td>\n",
       "      <td>0.933333</td>\n",
       "      <td>...</td>\n",
       "      <td>1.000000</td>\n",
       "      <td>0.962963</td>\n",
       "      <td>1.0</td>\n",
       "      <td>0.962963</td>\n",
       "      <td>1.0</td>\n",
       "      <td>0.970370</td>\n",
       "      <td>0.000150</td>\n",
       "      <td>2.198111e-07</td>\n",
       "      <td>0.044721</td>\n",
       "      <td>0.007258</td>\n",
       "    </tr>\n",
       "  </tbody>\n",
       "</table>\n",
       "<p>5 rows × 31 columns</p>\n",
       "</div>"
      ],
      "text/plain": [
       "   mean_fit_time  mean_score_time  mean_test_score  mean_train_score  \\\n",
       "0       0.001652         0.002003         0.960000          1.000000   \n",
       "1       0.001401         0.002001         0.953333          0.978519   \n",
       "2       0.001402         0.001801         0.966667          0.960741   \n",
       "3       0.001152         0.001801         0.966667          0.963704   \n",
       "4       0.000951         0.001501         0.966667          0.968889   \n",
       "\n",
       "  param_n_neighbors              params  rank_test_score  split0_test_score  \\\n",
       "0                 1  {'n_neighbors': 1}               24                1.0   \n",
       "1                 2  {'n_neighbors': 2}               27                1.0   \n",
       "2                 3  {'n_neighbors': 3}               12                1.0   \n",
       "3                 4  {'n_neighbors': 4}               12                1.0   \n",
       "4                 5  {'n_neighbors': 5}               12                1.0   \n",
       "\n",
       "   split0_train_score  split1_test_score       ...         split7_test_score  \\\n",
       "0            1.000000           0.933333       ...                  1.000000   \n",
       "1            0.970370           0.933333       ...                  0.933333   \n",
       "2            0.955556           0.933333       ...                  1.000000   \n",
       "3            0.955556           0.933333       ...                  1.000000   \n",
       "4            0.962963           0.933333       ...                  1.000000   \n",
       "\n",
       "   split7_train_score  split8_test_score  split8_train_score  \\\n",
       "0            1.000000                1.0            1.000000   \n",
       "1            0.977778                1.0            0.977778   \n",
       "2            0.955556                1.0            0.955556   \n",
       "3            0.962963                1.0            0.955556   \n",
       "4            0.962963                1.0            0.962963   \n",
       "\n",
       "   split9_test_score  split9_train_score  std_fit_time  std_score_time  \\\n",
       "0                1.0            1.000000      0.000635    4.475739e-04   \n",
       "1                1.0            0.977778      0.000491    8.730809e-07   \n",
       "2                1.0            0.955556      0.000201    2.452137e-04   \n",
       "3                1.0            0.970370      0.000229    2.452045e-04   \n",
       "4                1.0            0.970370      0.000150    2.198111e-07   \n",
       "\n",
       "   std_test_score  std_train_score  \n",
       "0        0.053333         0.000000  \n",
       "1        0.052068         0.005185  \n",
       "2        0.044721         0.007444  \n",
       "3        0.044721         0.006988  \n",
       "4        0.044721         0.007258  \n",
       "\n",
       "[5 rows x 31 columns]"
      ]
     },
     "execution_count": 5,
     "metadata": {},
     "output_type": "execute_result"
    }
   ],
   "source": [
    "grid_input = {'n_neighbors':list(range(1,31))}\n",
    "grid = GridSearchCV(knn, grid_input, cv = 10, scoring = 'accuracy', return_train_score = True)\n",
    "grid.fit(X,y)\n",
    "res = pd.DataFrame(grid.cv_results_)\n",
    "res.head()"
   ]
  },
  {
   "cell_type": "code",
   "execution_count": 6,
   "metadata": {},
   "outputs": [
    {
     "data": {
      "text/plain": [
       "Text(0.5,1,'KNN Performance on Iris DataSet')"
      ]
     },
     "execution_count": 6,
     "metadata": {},
     "output_type": "execute_result"
    },
    {
     "data": {
      "image/png": "[encoded data removed]",
      "text/plain": [
       "<matplotlib.figure.Figure at 0x2076e50ef60>"
      ]
     },
     "metadata": {},
     "output_type": "display_data"
    }
   ],
   "source": [
    "plt.plot( res['param_n_neighbors'], res['mean_test_score'], color = 'green')\n",
    "plt.xlabel('n_neighbors')\n",
    "plt.ylabel('Test Accuracy %')\n",
    "plt.title('KNN Performance on Iris DataSet')\n"
   ]
  },
  {
   "cell_type": "code",
   "execution_count": 7,
   "metadata": {},
   "outputs": [
    {
     "data": {
      "text/plain": [
       "Text(0.5,1,'KNN Performance on Iris DataSet')"
      ]
     },
     "execution_count": 7,
     "metadata": {},
     "output_type": "execute_result"
    },
    {
     "data": {
      "image/png": "[encoded data removed]",
      "text/plain": [
       "<matplotlib.figure.Figure at 0x2076e50eeb8>"
      ]
     },
     "metadata": {},
     "output_type": "display_data"
    }
   ],
   "source": [
    "plt.plot( res['param_n_neighbors'], res['mean_fit_time'], color = 'orange')\n",
    "plt.xlabel('n_neighbors')\n",
    "plt.ylabel('fit time sec')\n",
    "plt.title('KNN Performance on Iris DataSet')\n",
    "\n"
   ]
  },
  {
   "cell_type": "code",
   "execution_count": 8,
   "metadata": {},
   "outputs": [
    {
     "name": "stdout",
     "output_type": "stream",
     "text": [
      "0.98 \n",
      " {'n_neighbors': 13} \n",
      " KNeighborsClassifier(algorithm='auto', leaf_size=30, metric='minkowski',\n",
      "           metric_params=None, n_jobs=1, n_neighbors=13, p=2,\n",
      "           weights='uniform')\n"
     ]
    }
   ],
   "source": [
    "print(grid.best_score_, '\\n',\n",
    "      grid.best_params_, '\\n',\n",
    "      grid.best_estimator_)"
   ]
  },
  {
   "cell_type": "markdown",
   "metadata": {},
   "source": [
    "### Searching Multiple Parameters"
   ]
  },
  {
   "cell_type": "code",
   "execution_count": 9,
   "metadata": {
    "collapsed": true
   },
   "outputs": [],
   "source": [
    "from sklearn.tree import DecisionTreeClassifier\n",
    "tree = DecisionTreeClassifier()"
   ]
  },
  {
   "cell_type": "markdown",
   "metadata": {},
   "source": [
    "#### Make your parameter list.\n"
   ]
  },
  {
   "cell_type": "code",
   "execution_count": 10,
   "metadata": {},
   "outputs": [
    {
     "data": {
      "text/plain": [
       "{'max_depth': [1, 2, 3, 4, 5], 'splitter': ['best', 'random']}"
      ]
     },
     "execution_count": 10,
     "metadata": {},
     "output_type": "execute_result"
    }
   ],
   "source": [
    "splitter = ['best','random']\n",
    "max_depth = list(range(1,6))\n",
    "grid_input = dict(splitter = splitter, max_depth = max_depth)\n",
    "grid_input"
   ]
  },
  {
   "cell_type": "code",
   "execution_count": 11,
   "metadata": {},
   "outputs": [
    {
     "data": {
      "text/plain": [
       "GridSearchCV(cv=5, error_score='raise',\n",
       "       estimator=DecisionTreeClassifier(class_weight=None, criterion='gini', max_depth=None,\n",
       "            max_features=None, max_leaf_nodes=None,\n",
       "            min_impurity_decrease=0.0, min_impurity_split=None,\n",
       "            min_samples_leaf=1, min_samples_split=2,\n",
       "            min_weight_fraction_leaf=0.0, presort=False, random_state=None,\n",
       "            splitter='best'),\n",
       "       fit_params=None, iid=True, n_jobs=1,\n",
       "       param_grid={'splitter': ['best', 'random'], 'max_depth': [1, 2, 3, 4, 5]},\n",
       "       pre_dispatch='2*n_jobs', refit=True, return_train_score=True,\n",
       "       scoring='accuracy', verbose=0)"
      ]
     },
     "execution_count": 11,
     "metadata": {},
     "output_type": "execute_result"
    }
   ],
   "source": [
    "grid2 = GridSearchCV(tree, grid_input, scoring = 'accuracy', cv = 5, return_train_score = True)\n",
    "grid2.fit(X,y)"
   ]
  },
  {
   "cell_type": "code",
   "execution_count": 12,
   "metadata": {},
   "outputs": [
    {
     "data": {
      "text/html": [
       "<div>\n",
       "<style>\n",
       "    .dataframe thead tr:only-child th {\n",
       "        text-align: right;\n",
       "    }\n",
       "\n",
       "    .dataframe thead th {\n",
       "        text-align: left;\n",
       "    }\n",
       "\n",
       "    .dataframe tbody tr th {\n",
       "        vertical-align: top;\n",
       "    }\n",
       "</style>\n",
       "<table border=\"1\" class=\"dataframe\">\n",
       "  <thead>\n",
       "    <tr style=\"text-align: right;\">\n",
       "      <th></th>\n",
       "      <th>mean_fit_time</th>\n",
       "      <th>mean_score_time</th>\n",
       "      <th>mean_test_score</th>\n",
       "      <th>mean_train_score</th>\n",
       "      <th>param_max_depth</th>\n",
       "      <th>param_splitter</th>\n",
       "      <th>params</th>\n",
       "      <th>rank_test_score</th>\n",
       "      <th>split0_test_score</th>\n",
       "      <th>split0_train_score</th>\n",
       "      <th>...</th>\n",
       "      <th>split2_test_score</th>\n",
       "      <th>split2_train_score</th>\n",
       "      <th>split3_test_score</th>\n",
       "      <th>split3_train_score</th>\n",
       "      <th>split4_test_score</th>\n",
       "      <th>split4_train_score</th>\n",
       "      <th>std_fit_time</th>\n",
       "      <th>std_score_time</th>\n",
       "      <th>std_test_score</th>\n",
       "      <th>std_train_score</th>\n",
       "    </tr>\n",
       "  </thead>\n",
       "  <tbody>\n",
       "    <tr>\n",
       "      <th>0</th>\n",
       "      <td>0.001402</td>\n",
       "      <td>0.001001</td>\n",
       "      <td>0.666667</td>\n",
       "      <td>0.666667</td>\n",
       "      <td>1</td>\n",
       "      <td>best</td>\n",
       "      <td>{'max_depth': 1, 'splitter': 'best'}</td>\n",
       "      <td>9</td>\n",
       "      <td>0.666667</td>\n",
       "      <td>0.666667</td>\n",
       "      <td>...</td>\n",
       "      <td>0.666667</td>\n",
       "      <td>0.666667</td>\n",
       "      <td>0.666667</td>\n",
       "      <td>0.666667</td>\n",
       "      <td>0.666667</td>\n",
       "      <td>0.666667</td>\n",
       "      <td>0.000492</td>\n",
       "      <td>0.000001</td>\n",
       "      <td>0.000000</td>\n",
       "      <td>0.000000</td>\n",
       "    </tr>\n",
       "    <tr>\n",
       "      <th>1</th>\n",
       "      <td>0.001015</td>\n",
       "      <td>0.000805</td>\n",
       "      <td>0.660000</td>\n",
       "      <td>0.651667</td>\n",
       "      <td>1</td>\n",
       "      <td>random</td>\n",
       "      <td>{'max_depth': 1, 'splitter': 'random'}</td>\n",
       "      <td>10</td>\n",
       "      <td>0.666667</td>\n",
       "      <td>0.666667</td>\n",
       "      <td>...</td>\n",
       "      <td>0.633333</td>\n",
       "      <td>0.633333</td>\n",
       "      <td>0.666667</td>\n",
       "      <td>0.666667</td>\n",
       "      <td>0.666667</td>\n",
       "      <td>0.625000</td>\n",
       "      <td>0.000013</td>\n",
       "      <td>0.000238</td>\n",
       "      <td>0.013333</td>\n",
       "      <td>0.018559</td>\n",
       "    </tr>\n",
       "    <tr>\n",
       "      <th>2</th>\n",
       "      <td>0.001010</td>\n",
       "      <td>0.000902</td>\n",
       "      <td>0.933333</td>\n",
       "      <td>0.961667</td>\n",
       "      <td>2</td>\n",
       "      <td>best</td>\n",
       "      <td>{'max_depth': 2, 'splitter': 'best'}</td>\n",
       "      <td>7</td>\n",
       "      <td>0.933333</td>\n",
       "      <td>0.958333</td>\n",
       "      <td>...</td>\n",
       "      <td>0.900000</td>\n",
       "      <td>0.975000</td>\n",
       "      <td>0.866667</td>\n",
       "      <td>0.966667</td>\n",
       "      <td>1.000000</td>\n",
       "      <td>0.950000</td>\n",
       "      <td>0.000013</td>\n",
       "      <td>0.000199</td>\n",
       "      <td>0.047140</td>\n",
       "      <td>0.008498</td>\n",
       "    </tr>\n",
       "    <tr>\n",
       "      <th>3</th>\n",
       "      <td>0.000805</td>\n",
       "      <td>0.000400</td>\n",
       "      <td>0.780000</td>\n",
       "      <td>0.803333</td>\n",
       "      <td>2</td>\n",
       "      <td>random</td>\n",
       "      <td>{'max_depth': 2, 'splitter': 'random'}</td>\n",
       "      <td>8</td>\n",
       "      <td>0.800000</td>\n",
       "      <td>0.866667</td>\n",
       "      <td>...</td>\n",
       "      <td>0.766667</td>\n",
       "      <td>0.833333</td>\n",
       "      <td>0.933333</td>\n",
       "      <td>0.966667</td>\n",
       "      <td>0.733333</td>\n",
       "      <td>0.683333</td>\n",
       "      <td>0.000403</td>\n",
       "      <td>0.000490</td>\n",
       "      <td>0.088443</td>\n",
       "      <td>0.113725</td>\n",
       "    </tr>\n",
       "    <tr>\n",
       "      <th>4</th>\n",
       "      <td>0.001201</td>\n",
       "      <td>0.000801</td>\n",
       "      <td>0.973333</td>\n",
       "      <td>0.973333</td>\n",
       "      <td>3</td>\n",
       "      <td>best</td>\n",
       "      <td>{'max_depth': 3, 'splitter': 'best'}</td>\n",
       "      <td>1</td>\n",
       "      <td>0.966667</td>\n",
       "      <td>0.958333</td>\n",
       "      <td>...</td>\n",
       "      <td>0.933333</td>\n",
       "      <td>0.991667</td>\n",
       "      <td>1.000000</td>\n",
       "      <td>0.975000</td>\n",
       "      <td>1.000000</td>\n",
       "      <td>0.966667</td>\n",
       "      <td>0.000400</td>\n",
       "      <td>0.000400</td>\n",
       "      <td>0.024944</td>\n",
       "      <td>0.011055</td>\n",
       "    </tr>\n",
       "  </tbody>\n",
       "</table>\n",
       "<p>5 rows × 22 columns</p>\n",
       "</div>"
      ],
      "text/plain": [
       "   mean_fit_time  mean_score_time  mean_test_score  mean_train_score  \\\n",
       "0       0.001402         0.001001         0.666667          0.666667   \n",
       "1       0.001015         0.000805         0.660000          0.651667   \n",
       "2       0.001010         0.000902         0.933333          0.961667   \n",
       "3       0.000805         0.000400         0.780000          0.803333   \n",
       "4       0.001201         0.000801         0.973333          0.973333   \n",
       "\n",
       "  param_max_depth param_splitter                                  params  \\\n",
       "0               1           best    {'max_depth': 1, 'splitter': 'best'}   \n",
       "1               1         random  {'max_depth': 1, 'splitter': 'random'}   \n",
       "2               2           best    {'max_depth': 2, 'splitter': 'best'}   \n",
       "3               2         random  {'max_depth': 2, 'splitter': 'random'}   \n",
       "4               3           best    {'max_depth': 3, 'splitter': 'best'}   \n",
       "\n",
       "   rank_test_score  split0_test_score  split0_train_score       ...         \\\n",
       "0                9           0.666667            0.666667       ...          \n",
       "1               10           0.666667            0.666667       ...          \n",
       "2                7           0.933333            0.958333       ...          \n",
       "3                8           0.800000            0.866667       ...          \n",
       "4                1           0.966667            0.958333       ...          \n",
       "\n",
       "   split2_test_score  split2_train_score  split3_test_score  \\\n",
       "0           0.666667            0.666667           0.666667   \n",
       "1           0.633333            0.633333           0.666667   \n",
       "2           0.900000            0.975000           0.866667   \n",
       "3           0.766667            0.833333           0.933333   \n",
       "4           0.933333            0.991667           1.000000   \n",
       "\n",
       "   split3_train_score  split4_test_score  split4_train_score  std_fit_time  \\\n",
       "0            0.666667           0.666667            0.666667      0.000492   \n",
       "1            0.666667           0.666667            0.625000      0.000013   \n",
       "2            0.966667           1.000000            0.950000      0.000013   \n",
       "3            0.966667           0.733333            0.683333      0.000403   \n",
       "4            0.975000           1.000000            0.966667      0.000400   \n",
       "\n",
       "   std_score_time  std_test_score  std_train_score  \n",
       "0        0.000001        0.000000         0.000000  \n",
       "1        0.000238        0.013333         0.018559  \n",
       "2        0.000199        0.047140         0.008498  \n",
       "3        0.000490        0.088443         0.113725  \n",
       "4        0.000400        0.024944         0.011055  \n",
       "\n",
       "[5 rows x 22 columns]"
      ]
     },
     "execution_count": 12,
     "metadata": {},
     "output_type": "execute_result"
    }
   ],
   "source": [
    "res2 = pd.DataFrame(grid2.cv_results_)\n",
    "res2.head()"
   ]
  },
  {
   "cell_type": "code",
   "execution_count": 13,
   "metadata": {},
   "outputs": [
    {
     "data": {
      "text/plain": [
       "param_splitter\n",
       "best      AxesSubplot(0.125,0.125;0.775x0.755)\n",
       "random    AxesSubplot(0.125,0.125;0.775x0.755)\n",
       "dtype: object"
      ]
     },
     "execution_count": 13,
     "metadata": {},
     "output_type": "execute_result"
    },
    {
     "data": {
      "image/png": "[encoded data removed]",
      "text/plain": [
       "<matplotlib.figure.Figure at 0x2076ec8a710>"
      ]
     },
     "metadata": {},
     "output_type": "display_data"
    },
    {
     "data": {
      "image/png": "[encoded data removed]",
      "text/plain": [
       "<matplotlib.figure.Figure at 0x2076ece5b70>"
      ]
     },
     "metadata": {},
     "output_type": "display_data"
    }
   ],
   "source": [
    "plotinput = res2.groupby('param_splitter')\n",
    "plotinput.plot( x = 'param_max_depth', y = 'mean_test_score',color='green' )"
   ]
  },
  {
   "cell_type": "code",
   "execution_count": 14,
   "metadata": {},
   "outputs": [
    {
     "name": "stdout",
     "output_type": "stream",
     "text": [
      "0.973333333333 \n",
      " {'max_depth': 3, 'splitter': 'best'} \n",
      " DecisionTreeClassifier(class_weight=None, criterion='gini', max_depth=3,\n",
      "            max_features=None, max_leaf_nodes=None,\n",
      "            min_impurity_decrease=0.0, min_impurity_split=None,\n",
      "            min_samples_leaf=1, min_samples_split=2,\n",
      "            min_weight_fraction_leaf=0.0, presort=False, random_state=None,\n",
      "            splitter='best')\n"
     ]
    }
   ],
   "source": [
    "print(grid2.best_score_, '\\n',\n",
    "      grid2.best_params_, '\\n',\n",
    "      grid2.best_estimator_)"
   ]
  },
  {
   "cell_type": "markdown",
   "metadata": {},
   "source": [
    "### RandomizedSearchCV\n",
    "\n",
    "Minimizes computational expense by searching a subset of the parameters"
   ]
  },
  {
   "cell_type": "code",
   "execution_count": 15,
   "metadata": {
    "collapsed": true
   },
   "outputs": [],
   "source": [
    "from sklearn.model_selection import RandomizedSearchCV\n",
    "#... same method as before"
   ]
  },
  {
   "cell_type": "markdown",
   "metadata": {},
   "source": [
    "## Confusion Matrix\n",
    "\n",
    "True Positives (TP): we correctly predicted that they do have diabetes\n",
    "True Negatives (TN): we correctly predicted that they don't have diabetes\n",
    "False Positives (FP): we incorrectly predicted that they do have diabetes (a \"Type I error\")\n",
    "False Negatives (FN): we incorrectly predicted that they don't have diabetes (a \"Type II error\")\n",
    "\n",
    "\n",
    "Left: Actual\n",
    "\n",
    "Top: Predicted"
   ]
  },
  {
   "cell_type": "code",
   "execution_count": 16,
   "metadata": {},
   "outputs": [
    {
     "data": {
      "text/plain": [
       "array([[50,  0,  0],\n",
       "       [ 0, 47,  3],\n",
       "       [ 0,  1, 49]], dtype=int64)"
      ]
     },
     "execution_count": 16,
     "metadata": {},
     "output_type": "execute_result"
    }
   ],
   "source": [
    "from sklearn.metrics import confusion_matrix\n",
    "pred = grid2.predict(X)\n",
    "confusion_matrix(y, pred)"
   ]
  },
  {
   "cell_type": "code",
   "execution_count": 19,
   "metadata": {},
   "outputs": [
    {
     "data": {
      "text/plain": [
       "0.97333333333333338"
      ]
     },
     "execution_count": 19,
     "metadata": {},
     "output_type": "execute_result"
    }
   ],
   "source": [
    "import sklearn.metrics\n",
    "sklearn.metrics.accuracy_score(y, pred)"
   ]
  }
 ],
 "metadata": {
  "kernelspec": {
   "display_name": "Python 3",
   "language": "python",
   "name": "python3"
  },
  "language_info": {
   "codemirror_mode": {
    "name": "ipython",
    "version": 3
   },
   "file_extension": ".py",
   "mimetype": "text/x-python",
   "name": "python",
   "nbconvert_exporter": "python",
   "pygments_lexer": "ipython3",
   "version": "3.6.3"
  }
 },
 "nbformat": 4,
 "nbformat_minor": 2
}
