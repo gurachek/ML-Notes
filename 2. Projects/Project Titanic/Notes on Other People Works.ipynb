{
 "cells": [
  {
   "cell_type": "markdown",
   "metadata": {},
   "source": [
    "#  Titanic Worksets"
   ]
  },
  {
   "cell_type": "markdown",
   "metadata": {},
   "source": [
    "http://nbviewer.jupyter.org/github/agconti/kaggle-titanic/blob/master/Titanic.ipynb\n",
    "\n",
    "## Steps:\n",
    "\n",
    "### 0. Problem Definition \n",
    "\n",
    "### 1. Preparing Data\n",
    "- Data Selection -  import dataset as pandas dataframe.\n",
    "- Preprocessing - Use the info attribute to look for Null values. Clean data: remove TICKET and CABIN since they have many NaN, next drop all null values from the remainining dataframe with the .dropna() method. \n",
    "\n",
    "\n",
    "### 2. Feature Engineering\n",
    "- Feature Importance (Data Analysis) - Plot the distribution of gender and survival. The gender and survival grouped by class status.\n",
    "\n",
    "### 3. Model Data\n",
    "- Logistic Regression\n",
    "\n",
    "\n",
    "\n",
    "\n",
    "\n",
    "\n",
    "\n",
    "\n",
    "\n",
    "\n",
    "\n",
    "\n",
    "\n",
    "\n",
    "\n",
    "\n",
    "\n",
    "\n",
    "\n",
    "\n",
    "\n",
    "\n",
    "\n",
    "\n",
    "\n",
    "\n",
    "\n"
   ]
  }
 ],
 "metadata": {
  "kernelspec": {
   "display_name": "Python 3",
   "language": "python",
   "name": "python3"
  },
  "language_info": {
   "codemirror_mode": {
    "name": "ipython",
    "version": 3
   },
   "file_extension": ".py",
   "mimetype": "text/x-python",
   "name": "python",
   "nbconvert_exporter": "python",
   "pygments_lexer": "ipython3",
   "version": "3.6.3"
  }
 },
 "nbformat": 4,
 "nbformat_minor": 2
}
