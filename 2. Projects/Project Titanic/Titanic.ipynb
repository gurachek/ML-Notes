{
 "cells": [
  {
   "cell_type": "markdown",
   "metadata": {},
   "source": [
    "# Titanic Classifier\n",
    "\n",
    "As the starting project for most machine learning practioners, this project aims to make a classifier that predicts whether individuals on the titanic lived or died based on certain personal characteristics. (age, sex, siblings, etc.)"
   ]
  },
  {
   "cell_type": "markdown",
   "metadata": {},
   "source": [
    "# Preprocessing\n",
    "\n",
    "Import the titanic dataset and clean it."
   ]
  },
  {
   "cell_type": "code",
   "execution_count": 1,
   "metadata": {
    "collapsed": true
   },
   "outputs": [],
   "source": [
    "import numpy as np\n",
    "import pandas as pd \n",
    "import matplotlib.pyplot as plt\n",
    "import seaborn as sns\n",
    "%matplotlib inline\n",
    "import os\n"
   ]
  },
  {
   "cell_type": "code",
   "execution_count": 2,
   "metadata": {},
   "outputs": [
    {
     "data": {
      "text/html": [
       "<div>\n",
       "<style>\n",
       "    .dataframe thead tr:only-child th {\n",
       "        text-align: right;\n",
       "    }\n",
       "\n",
       "    .dataframe thead th {\n",
       "        text-align: left;\n",
       "    }\n",
       "\n",
       "    .dataframe tbody tr th {\n",
       "        vertical-align: top;\n",
       "    }\n",
       "</style>\n",
       "<table border=\"1\" class=\"dataframe\">\n",
       "  <thead>\n",
       "    <tr style=\"text-align: right;\">\n",
       "      <th></th>\n",
       "      <th>Survived</th>\n",
       "      <th>Pclass</th>\n",
       "      <th>Sex</th>\n",
       "      <th>Age</th>\n",
       "      <th>SibSp</th>\n",
       "      <th>Parch</th>\n",
       "      <th>Fare</th>\n",
       "      <th>Embarked</th>\n",
       "    </tr>\n",
       "    <tr>\n",
       "      <th>PassengerId</th>\n",
       "      <th></th>\n",
       "      <th></th>\n",
       "      <th></th>\n",
       "      <th></th>\n",
       "      <th></th>\n",
       "      <th></th>\n",
       "      <th></th>\n",
       "      <th></th>\n",
       "    </tr>\n",
       "  </thead>\n",
       "  <tbody>\n",
       "    <tr>\n",
       "      <th>1</th>\n",
       "      <td>0</td>\n",
       "      <td>3</td>\n",
       "      <td>1</td>\n",
       "      <td>22</td>\n",
       "      <td>1</td>\n",
       "      <td>0</td>\n",
       "      <td>7.2500</td>\n",
       "      <td>2</td>\n",
       "    </tr>\n",
       "    <tr>\n",
       "      <th>2</th>\n",
       "      <td>1</td>\n",
       "      <td>1</td>\n",
       "      <td>0</td>\n",
       "      <td>38</td>\n",
       "      <td>1</td>\n",
       "      <td>0</td>\n",
       "      <td>71.2833</td>\n",
       "      <td>0</td>\n",
       "    </tr>\n",
       "    <tr>\n",
       "      <th>3</th>\n",
       "      <td>1</td>\n",
       "      <td>3</td>\n",
       "      <td>0</td>\n",
       "      <td>26</td>\n",
       "      <td>0</td>\n",
       "      <td>0</td>\n",
       "      <td>7.9250</td>\n",
       "      <td>2</td>\n",
       "    </tr>\n",
       "    <tr>\n",
       "      <th>4</th>\n",
       "      <td>1</td>\n",
       "      <td>1</td>\n",
       "      <td>0</td>\n",
       "      <td>35</td>\n",
       "      <td>1</td>\n",
       "      <td>0</td>\n",
       "      <td>53.1000</td>\n",
       "      <td>2</td>\n",
       "    </tr>\n",
       "    <tr>\n",
       "      <th>5</th>\n",
       "      <td>0</td>\n",
       "      <td>3</td>\n",
       "      <td>1</td>\n",
       "      <td>35</td>\n",
       "      <td>0</td>\n",
       "      <td>0</td>\n",
       "      <td>8.0500</td>\n",
       "      <td>2</td>\n",
       "    </tr>\n",
       "  </tbody>\n",
       "</table>\n",
       "</div>"
      ],
      "text/plain": [
       "             Survived  Pclass  Sex  Age  SibSp  Parch     Fare  Embarked\n",
       "PassengerId                                                             \n",
       "1                   0       3    1   22      1      0   7.2500         2\n",
       "2                   1       1    0   38      1      0  71.2833         0\n",
       "3                   1       3    0   26      0      0   7.9250         2\n",
       "4                   1       1    0   35      1      0  53.1000         2\n",
       "5                   0       3    1   35      0      0   8.0500         2"
      ]
     },
     "execution_count": 2,
     "metadata": {},
     "output_type": "execute_result"
    }
   ],
   "source": [
    "#Remove irrelevent features, fill NaN, reset index, set dtypes\n",
    "titanic = pd.read_csv('titanic_train.csv')\n",
    "del titanic['Name']\n",
    "del titanic['Cabin']\n",
    "del titanic['Ticket']\n",
    "titanic = titanic.set_index('PassengerId')\n",
    "titanic = titanic.dropna()\n",
    "titanic.Age = titanic.Age.astype('int64')\n",
    "\n",
    "titanic.head()\n",
    "\n",
    "\"\"\"\n",
    "#method to perform onehotencoding within pandas\n",
    "titanicdumm = pd.get_dummies(titanic)\n",
    "titanicdumm.head()\n",
    "\n",
    "x= pd.cut(titanic.Fare, [0,15,31,150, 600], labels = [0, 1, 2, 3])\n",
    "x = pd.get_dummies(x)\n",
    "x.columns  = ['poor','middle', 'rich', 'moneybags']\n",
    "frames = [titanicdumm, x]\n",
    "titanic = pd.concat(frames, axis = 1)\n",
    "del titanic['Fare']\n",
    "titanic.head()\"\"\"\n",
    "\n",
    "#Change categorical variables to integers\n",
    "from sklearn.preprocessing import LabelEncoder\n",
    "le = LabelEncoder()\n",
    "titanic.Sex = le.fit_transform(titanic.Sex)\n",
    "titanic.Embarked = le.fit_transform(titanic.Embarked)\n",
    "titanic.head()"
   ]
  },
  {
   "cell_type": "markdown",
   "metadata": {},
   "source": [
    "Lets do some preliminary visualization to get a feel for our data. We are looking out for linear dependencies and possible feature interactions."
   ]
  },
  {
   "cell_type": "markdown",
   "metadata": {},
   "source": [
    "# Data Analysis"
   ]
  },
  {
   "cell_type": "code",
   "execution_count": 3,
   "metadata": {
    "collapsed": true
   },
   "outputs": [],
   "source": [
    "df = titanic.drop(['Pclass','Parch','Fare'], axis = 1)"
   ]
  },
  {
   "cell_type": "code",
   "execution_count": 4,
   "metadata": {},
   "outputs": [
    {
     "data": {
      "text/plain": [
       "<seaborn.axisgrid.PairGrid at 0x218d0593cc0>"
      ]
     },
     "execution_count": 4,
     "metadata": {},
     "output_type": "execute_result"
    },
    {
     "data": {
      "image/png": "[encoded data removed]",
      "text/plain": [
       "<matplotlib.figure.Figure at 0x218d0593c18>"
      ]
     },
     "metadata": {},
     "output_type": "display_data"
    }
   ],
   "source": [
    "sns.pairplot(df)"
   ]
  },
  {
   "cell_type": "markdown",
   "metadata": {
    "collapsed": true
   },
   "source": [
    "### Things to look at:\n",
    "\n",
    "Look at the distribution of age... a lot of babies."
   ]
  },
  {
   "cell_type": "code",
   "execution_count": 5,
   "metadata": {
    "collapsed": true
   },
   "outputs": [],
   "source": [
    "dead_subframe = df[df.Survived == 0]\n",
    "\n",
    "fig = plt.figure(figsize = (20, 15))\n",
    "sns.set_style('dark')\n",
    "\n",
    "ax1 = plt.subplot2grid((3,2),(0,0))\n",
    "sns.barplot(x = df.Survived.value_counts().index, y = df.Survived.value_counts(), alpha = 0.67, color ='pink')\n",
    "plt.title('Distribution of Survival')\n",
    "\n",
    "\n",
    "sns.barplot(x = df.Survived.value_counts().index, y = df.Survived.value_counts(), alpha = 0.67)\n",
    "plt.title('Distribution of Survival')\n",
    "ax1.set_xticklabels(['Dead', 'Alive'], fontsize=10)\n",
    "\n",
    "\n",
    "ax2 = plt.subplot2grid((3,2),(0,1))\n",
    "sns.distplot(df.Age, )\n",
    "plt.title('Distribution of Passengers by Age')\n",
    "\n",
    "ax3 = plt.subplot2grid((3,2), (1,0))\n",
    "sns.barplot(x = df.SibSp.value_counts().iloc[:2].index, y = df.SibSp.value_counts().iloc[:2], label = 'alive', color = 'blue', alpha = 0.5 )\n",
    "    \n",
    "sns.barplot(x = dead_subframe.SibSp.value_counts().iloc[:2].index, y = dead_subframe.SibSp.value_counts().iloc[:2],label = 'dead', color = 'black')\n",
    "plt.title('Survival Classification by Sibling-Spouse (0-1)')\n",
    "ax3.legend( loc=\"best\", frameon=True)\n",
    "plt.xlabel('# of Siblings and Spouses')\n",
    "\n",
    "\n",
    "\n",
    "ax4 = plt.subplot2grid((3,2), (1,1))\n",
    "sns.barplot(x = df.SibSp.value_counts().iloc[2:].index, y = df.SibSp.value_counts().iloc[2:], label = 'alive', color = 'blue', alpha = 0.5 )\n",
    "    \n",
    "sns.barplot(x = dead_subframe.SibSp.value_counts().iloc[2:].index, y = dead_subframe.SibSp.value_counts().iloc[2:],label = 'dead', color = 'black')\n",
    "plt.title('Survival Classification by Sibling-Spouse (2-5)')\n",
    "ax4.legend( loc=\"best\", frameon=True)\n",
    "plt.xlabel('# of Siblings and Spouses')\n",
    "\n",
    "\n",
    "plt.show()"
   ]
  },
  {
   "cell_type": "code",
   "execution_count": 7,
   "metadata": {
    "scrolled": true
   },
   "outputs": [
    {
     "data": {
      "image/png": "[encoded data removed]",
      "text/plain": [
       "<matplotlib.figure.Figure at 0x218d1a10f60>"
      ]
     },
     "metadata": {},
     "output_type": "display_data"
    }
   ],
   "source": [
    "fig = plt.figure(figsize = (10,5))\n",
    "ax = plt.subplot()\n",
    "sns.barplot(x = df.Sex.value_counts().index, y = df.Sex.value_counts(), alpha = 0.67,label = 'alive', color = 'green' )\n",
    "plt.title('Distribution of Survival')\n",
    "\n",
    "\n",
    "sns.barplot(x = dead_subframe.Sex.value_counts().index, y = dead_subframe.Sex.value_counts(), alpha = 0.67, label = 'dead',color = 'black')\n",
    "plt.title('Survival Men vs Women')\n",
    "ax.set_xticklabels(['Woman', 'Man'], fontsize=10)\n",
    "ax.legend(loc = 'best')\n",
    "plt.show()"
   ]
  },
  {
   "cell_type": "markdown",
   "metadata": {},
   "source": [
    "# Logisitic Regression\n",
    "\n",
    "### Dump all the data into a logistic regression classifier"
   ]
  },
  {
   "cell_type": "code",
   "execution_count": 8,
   "metadata": {},
   "outputs": [
    {
     "name": "stdout",
     "output_type": "stream",
     "text": [
      "Logistic Regression Out of Sample Accuracy: 78.1311431624 %\n"
     ]
    }
   ],
   "source": [
    "#Use all features in train test split\n",
    "from sklearn.model_selection import cross_val_score\n",
    "from sklearn.model_selection import train_test_split\n",
    "X = titanic.iloc[:,1:]\n",
    "y = titanic.iloc[:,0]\n",
    "X, X_test, y, y_test = train_test_split(X, y, test_size = 0.1)\n",
    "\n",
    "#instantiate logistic regressor and fit to training data. Accuracy_score is testing measure.\n",
    "from sklearn.linear_model import LogisticRegression\n",
    "log  = LogisticRegression(random_state = 0)\n",
    "c= cross_val_score(log, X, y, cv = 10).mean()\n",
    "print('Logistic Regression Out of Sample Accuracy:', c*100, '%')"
   ]
  },
  {
   "cell_type": "markdown",
   "metadata": {},
   "source": [
    "### Will changing feature inputs boost accuracy?\n",
    "\n",
    "Use random choice of 2 or 3 features, score the fitted model, and ouput the results.\n",
    "\n"
   ]
  },
  {
   "cell_type": "code",
   "execution_count": 9,
   "metadata": {},
   "outputs": [
    {
     "name": "stdout",
     "output_type": "stream",
     "text": [
      "Other winners: ['Parch' 'Pclass' 'SibSp'] at 0.693857982295\n",
      "Other winners: ['Age' 'Fare' 'Sex'] at 0.78289720696\n",
      "Other winners: ['Parch' 'Pclass' 'Sex'] at 0.784460470085\n",
      "The heighest scoring 3 feature combo:  ['Parch' 'Pclass' 'Sex'] 0.784460470085\n"
     ]
    }
   ],
   "source": [
    "all_features = list(range(0,7))\n",
    "res = 0\n",
    "cols = None\n",
    "#10 models of 3 features each.\n",
    "for _ in range(0,10):\n",
    "    x = list(np.random.choice(all_features, 3, replace = False))\n",
    "    l = LogisticRegression()\n",
    "    t=  cross_val_score(l, X.iloc[:, x], y, cv = 10).mean()\n",
    "    if t > res:\n",
    "        res = t\n",
    "        cols = X.iloc[:,x].columns.values\n",
    "    if t == res:\n",
    "        print('Other winners:', X.iloc[:,x].columns.values, 'at', t)\n",
    "        \n",
    "print(\"The heighest scoring 3 feature combo: \", cols, res)"
   ]
  },
  {
   "cell_type": "code",
   "execution_count": 10,
   "metadata": {},
   "outputs": [
    {
     "name": "stdout",
     "output_type": "stream",
     "text": [
      "Other winners: ['Fare' 'SibSp'] at 0.662458409646\n",
      "Other winners: ['Sex' 'Embarked'] at 0.784460470085\n",
      "Other winners: ['Sex' 'Parch'] at 0.784460470085\n",
      "Other winners: ['Sex' 'Parch'] at 0.784460470085\n",
      "Other winners: ['Sex' 'Age'] at 0.784460470085\n",
      "Other winners: ['Sex' 'Embarked'] at 0.784460470085\n",
      "Other winners: ['Sex' 'Pclass'] at 0.784460470085\n",
      "Other winners: ['Sex' 'Pclass'] at 0.784460470085\n",
      "The heighest scoring 2 feature combo:  ['Sex' 'Embarked'] 0.784460470085\n"
     ]
    }
   ],
   "source": [
    "res = 0\n",
    "cols = None\n",
    "#30 models of 2 features each.\n",
    "for _ in range(0,30):\n",
    "    x = list(np.random.choice(all_features, 2, replace = False))\n",
    "    l = LogisticRegression()\n",
    "    t=  cross_val_score(l, X.iloc[:,x], y, cv = 10).mean()\n",
    "    if t > res:\n",
    "        res = t\n",
    "        cols = X.iloc[:,x].columns.values\n",
    "    if t == res:\n",
    "        print('Other winners:', X.iloc[:,x].columns.values, 'at', t)\n",
    "        \n",
    "print(\"The heighest scoring 2 feature combo: \", cols, res)"
   ]
  },
  {
   "cell_type": "markdown",
   "metadata": {},
   "source": [
    "## Final Logistic Regression\n",
    "\n",
    "I will choose a logistic regression with the features [Sex, Sibsp]. Mainly because: they scored well consistently, its a simple model, and it can be visualized."
   ]
  },
  {
   "cell_type": "code",
   "execution_count": 11,
   "metadata": {},
   "outputs": [
    {
     "data": {
      "text/plain": [
       "0.73611111111111116"
      ]
     },
     "execution_count": 11,
     "metadata": {},
     "output_type": "execute_result"
    }
   ],
   "source": [
    "logistic_classifier = LogisticRegression()\n",
    "logistic_classifier.fit(X.loc[:,['Sex','SibSp']], y)\n",
    "logistic_classifier.score(X_test.loc[:,['Sex', 'SibSp']], y_test)"
   ]
  },
  {
   "cell_type": "markdown",
   "metadata": {},
   "source": [
    "## Visualized\n",
    "Here is the decision boundary for our linear classifier."
   ]
  },
  {
   "cell_type": "code",
   "execution_count": 12,
   "metadata": {},
   "outputs": [
    {
     "data": {
      "image/png": "[encoded data removed]",
      "text/plain": [
       "<matplotlib.figure.Figure at 0x218d199d7b8>"
      ]
     },
     "metadata": {},
     "output_type": "display_data"
    }
   ],
   "source": [
    "os.chdir('C:\\\\Users\\\\Harrison\\\\Documents\\\\GitHub\\\\ML-Notes')\n",
    "from VisualFuncs import Visual_Logistic\n",
    "Visual_Logistic(X.iloc[:,[1,3]], y, logistic_classifier)"
   ]
  },
  {
   "cell_type": "markdown",
   "metadata": {},
   "source": [
    "## With LDA\n",
    "Can we improve the model by Linear Discriminant Analysis at the cost of interpretability?\n",
    "Probably not since we are dealing with a bunch of categorical data, but it is good practice, so lets do it.\n"
   ]
  },
  {
   "cell_type": "code",
   "execution_count": 13,
   "metadata": {},
   "outputs": [
    {
     "name": "stdout",
     "output_type": "stream",
     "text": [
      "old score:  0.781311431624\n",
      "new score:  0.792250457875\n"
     ]
    }
   ],
   "source": [
    "from sklearn.discriminant_analysis import LinearDiscriminantAnalysis\n",
    "\n",
    "lda = LinearDiscriminantAnalysis()\n",
    "lda.fit(X, y)\n",
    "X_lda = lda.transform(X)\n",
    "\n",
    "\n",
    "\n",
    "l = LogisticRegression(random_state = 0)\n",
    "\n",
    "b= cross_val_score(l, X_lda, y, cv = 10).mean()\n",
    "\n",
    "print('old score: ', c)\n",
    "print('new score: ', b)\n"
   ]
  },
  {
   "cell_type": "markdown",
   "metadata": {},
   "source": [
    "Cool"
   ]
  },
  {
   "cell_type": "markdown",
   "metadata": {},
   "source": [
    "# Decision Trees"
   ]
  },
  {
   "cell_type": "code",
   "execution_count": 14,
   "metadata": {},
   "outputs": [
    {
     "name": "stdout",
     "output_type": "stream",
     "text": [
      "Decision Tree Accuracy on Train Set 75.3063949939 %\n"
     ]
    }
   ],
   "source": [
    "from sklearn.tree import DecisionTreeClassifier\n",
    "\n",
    "tree = DecisionTreeClassifier(random_state = 0)\n",
    "a = cross_val_score(tree, X, y, cv = 10).mean()\n",
    "print ('Decision Tree Accuracy on Train Set', a*100, '%')"
   ]
  },
  {
   "cell_type": "code",
   "execution_count": 15,
   "metadata": {},
   "outputs": [
    {
     "name": "stdout",
     "output_type": "stream",
     "text": [
      "Other winners: ['Fare' 'Parch' 'Sex'] at 0.770399496337\n",
      "The heighest scoring 3 feature combo:  ['Fare' 'Parch' 'Sex'] 0.770399496337\n"
     ]
    }
   ],
   "source": [
    "res = 0\n",
    "cols = None\n",
    "#10 models of 3 features each.\n",
    "for _ in range(0,10):\n",
    "    x = list(np.random.choice(all_features, 3, replace = False))\n",
    "    l = DecisionTreeClassifier()\n",
    "    t=  cross_val_score(l, X.iloc[:,x], y, cv = 10).mean()\n",
    "    if t > res:\n",
    "        res = t\n",
    "        cols = X.iloc[:,x].columns.values\n",
    "    if t == res:\n",
    "        print('Other winners:', X.iloc[:,x].columns.values, 'at', t)\n",
    "        \n",
    "print(\"The heighest scoring 3 feature combo: \", cols, res)"
   ]
  },
  {
   "cell_type": "code",
   "execution_count": 16,
   "metadata": {},
   "outputs": [
    {
     "name": "stdout",
     "output_type": "stream",
     "text": [
      "Other winners: ['SibSp' 'Embarked'] at 0.595412851038\n",
      "Other winners: ['Fare' 'Sex'] at 0.776673534799\n",
      "Other winners: ['Fare' 'Sex'] at 0.776673534799\n",
      "Other winners: ['Pclass' 'Sex'] at 0.792346611722\n",
      "The heighest scoring 2 feature combo:  ['Pclass' 'Sex'] 0.792346611722\n"
     ]
    }
   ],
   "source": [
    "res = 0\n",
    "cols = None\n",
    "#30 models of 2 features each.\n",
    "for _ in range(0,30):\n",
    "    x = list(np.random.choice(all_features, 2, replace = False))\n",
    "    l = DecisionTreeClassifier()\n",
    "    t=  cross_val_score(l, X.iloc[:,x], y, cv = 10).mean()\n",
    "    if t > res:\n",
    "        res = t\n",
    "        cols = X.iloc[:,x].columns.values\n",
    "    if t == res:\n",
    "        print('Other winners:', X.iloc[:,x].columns.values, 'at', t)\n",
    "        \n",
    "print(\"The heighest scoring 2 feature combo: \", cols, res)"
   ]
  },
  {
   "cell_type": "markdown",
   "metadata": {},
   "source": [
    "## Final Decision Tree Classifier\n",
    "\n",
    "Sex and Pclass"
   ]
  },
  {
   "cell_type": "code",
   "execution_count": 17,
   "metadata": {},
   "outputs": [
    {
     "name": "stdout",
     "output_type": "stream",
     "text": [
      "Decision Tree Out of Sample Accuracy: 77.7777777778 %\n"
     ]
    }
   ],
   "source": [
    "tree = DecisionTreeClassifier(random_state = 0)\n",
    "tree.fit(X.loc[:,['Sex', 'Pclass']], y)\n",
    "c = tree.score(X_test.loc[:,['Sex', 'Pclass']], y_test)\n",
    "print('Decision Tree Out of Sample Accuracy:', c*100, '%')\n",
    "\n",
    "\n"
   ]
  },
  {
   "cell_type": "code",
   "execution_count": 18,
   "metadata": {},
   "outputs": [
    {
     "ename": "KeyError",
     "evalue": "None",
     "output_type": "error",
     "traceback": [
      "\u001b[1;31m---------------------------------------------------------------------------\u001b[0m",
      "\u001b[1;31mTypeError\u001b[0m                                 Traceback (most recent call last)",
      "\u001b[1;32mpandas\\_libs\\index.pyx\u001b[0m in \u001b[0;36mpandas._libs.index.IndexEngine.get_loc\u001b[1;34m()\u001b[0m\n",
      "\u001b[1;32mpandas\\_libs\\hashtable_class_helper.pxi\u001b[0m in \u001b[0;36mpandas._libs.hashtable.Int64HashTable.get_item\u001b[1;34m()\u001b[0m\n",
      "\u001b[1;31mTypeError\u001b[0m: an integer is required",
      "\nDuring handling of the above exception, another exception occurred:\n",
      "\u001b[1;31mKeyError\u001b[0m                                  Traceback (most recent call last)",
      "\u001b[1;32m<ipython-input-18-92cb532a1e5e>\u001b[0m in \u001b[0;36m<module>\u001b[1;34m()\u001b[0m\n\u001b[0;32m      1\u001b[0m \u001b[1;32mfrom\u001b[0m \u001b[0mVisualFuncs\u001b[0m \u001b[1;32mimport\u001b[0m \u001b[0mVDR\u001b[0m\u001b[1;33m\u001b[0m\u001b[0m\n\u001b[1;32m----> 2\u001b[1;33m \u001b[0mVDR\u001b[0m\u001b[1;33m(\u001b[0m\u001b[0mX\u001b[0m\u001b[1;33m.\u001b[0m\u001b[0mvalues\u001b[0m\u001b[1;33m,\u001b[0m \u001b[0my\u001b[0m\u001b[1;33m,\u001b[0m \u001b[0mtree\u001b[0m\u001b[1;33m)\u001b[0m\u001b[1;33m\u001b[0m\u001b[0m\n\u001b[0m",
      "\u001b[1;32m~\\Documents\\GitHub\\ML-Notes\\VisualFuncs.py\u001b[0m in \u001b[0;36mVDR\u001b[1;34m(X, y, classifier, test_idx, resolution)\u001b[0m\n\u001b[0;32m    106\u001b[0m \u001b[1;33m\u001b[0m\u001b[0m\n\u001b[0;32m    107\u001b[0m    \u001b[1;31m# plot all samples\u001b[0m\u001b[1;33m\u001b[0m\u001b[1;33m\u001b[0m\u001b[0m\n\u001b[1;32m--> 108\u001b[1;33m    \u001b[0mX_test\u001b[0m\u001b[1;33m,\u001b[0m \u001b[0my_test\u001b[0m \u001b[1;33m=\u001b[0m \u001b[0mX\u001b[0m\u001b[1;33m[\u001b[0m\u001b[0mtest_idx\u001b[0m\u001b[1;33m,\u001b[0m \u001b[1;33m:\u001b[0m\u001b[1;33m]\u001b[0m\u001b[1;33m,\u001b[0m \u001b[0my\u001b[0m\u001b[1;33m[\u001b[0m\u001b[0mtest_idx\u001b[0m\u001b[1;33m]\u001b[0m\u001b[1;33m\u001b[0m\u001b[0m\n\u001b[0m\u001b[0;32m    109\u001b[0m    \u001b[1;32mfor\u001b[0m \u001b[0midx\u001b[0m\u001b[1;33m,\u001b[0m \u001b[0mcl\u001b[0m \u001b[1;32min\u001b[0m \u001b[0menumerate\u001b[0m\u001b[1;33m(\u001b[0m\u001b[0mnp\u001b[0m\u001b[1;33m.\u001b[0m\u001b[0munique\u001b[0m\u001b[1;33m(\u001b[0m\u001b[0my\u001b[0m\u001b[1;33m)\u001b[0m\u001b[1;33m)\u001b[0m\u001b[1;33m:\u001b[0m\u001b[1;33m\u001b[0m\u001b[0m\n\u001b[0;32m    110\u001b[0m       plt.scatter(x=X[y == cl, 0], y=X[y == cl, 1],\n",
      "\u001b[1;32m~\\Anaconda3\\lib\\site-packages\\pandas\\core\\series.py\u001b[0m in \u001b[0;36m__getitem__\u001b[1;34m(self, key)\u001b[0m\n\u001b[0;32m    599\u001b[0m         \u001b[0mkey\u001b[0m \u001b[1;33m=\u001b[0m \u001b[0mcom\u001b[0m\u001b[1;33m.\u001b[0m\u001b[0m_apply_if_callable\u001b[0m\u001b[1;33m(\u001b[0m\u001b[0mkey\u001b[0m\u001b[1;33m,\u001b[0m \u001b[0mself\u001b[0m\u001b[1;33m)\u001b[0m\u001b[1;33m\u001b[0m\u001b[0m\n\u001b[0;32m    600\u001b[0m         \u001b[1;32mtry\u001b[0m\u001b[1;33m:\u001b[0m\u001b[1;33m\u001b[0m\u001b[0m\n\u001b[1;32m--> 601\u001b[1;33m             \u001b[0mresult\u001b[0m \u001b[1;33m=\u001b[0m \u001b[0mself\u001b[0m\u001b[1;33m.\u001b[0m\u001b[0mindex\u001b[0m\u001b[1;33m.\u001b[0m\u001b[0mget_value\u001b[0m\u001b[1;33m(\u001b[0m\u001b[0mself\u001b[0m\u001b[1;33m,\u001b[0m \u001b[0mkey\u001b[0m\u001b[1;33m)\u001b[0m\u001b[1;33m\u001b[0m\u001b[0m\n\u001b[0m\u001b[0;32m    602\u001b[0m \u001b[1;33m\u001b[0m\u001b[0m\n\u001b[0;32m    603\u001b[0m             \u001b[1;32mif\u001b[0m \u001b[1;32mnot\u001b[0m \u001b[0mis_scalar\u001b[0m\u001b[1;33m(\u001b[0m\u001b[0mresult\u001b[0m\u001b[1;33m)\u001b[0m\u001b[1;33m:\u001b[0m\u001b[1;33m\u001b[0m\u001b[0m\n",
      "\u001b[1;32m~\\Anaconda3\\lib\\site-packages\\pandas\\core\\indexes\\base.py\u001b[0m in \u001b[0;36mget_value\u001b[1;34m(self, series, key)\u001b[0m\n\u001b[0;32m   2475\u001b[0m         \u001b[1;32mtry\u001b[0m\u001b[1;33m:\u001b[0m\u001b[1;33m\u001b[0m\u001b[0m\n\u001b[0;32m   2476\u001b[0m             return self._engine.get_value(s, k,\n\u001b[1;32m-> 2477\u001b[1;33m                                           tz=getattr(series.dtype, 'tz', None))\n\u001b[0m\u001b[0;32m   2478\u001b[0m         \u001b[1;32mexcept\u001b[0m \u001b[0mKeyError\u001b[0m \u001b[1;32mas\u001b[0m \u001b[0me1\u001b[0m\u001b[1;33m:\u001b[0m\u001b[1;33m\u001b[0m\u001b[0m\n\u001b[0;32m   2479\u001b[0m             \u001b[1;32mif\u001b[0m \u001b[0mlen\u001b[0m\u001b[1;33m(\u001b[0m\u001b[0mself\u001b[0m\u001b[1;33m)\u001b[0m \u001b[1;33m>\u001b[0m \u001b[1;36m0\u001b[0m \u001b[1;32mand\u001b[0m \u001b[0mself\u001b[0m\u001b[1;33m.\u001b[0m\u001b[0minferred_type\u001b[0m \u001b[1;32min\u001b[0m \u001b[1;33m[\u001b[0m\u001b[1;34m'integer'\u001b[0m\u001b[1;33m,\u001b[0m \u001b[1;34m'boolean'\u001b[0m\u001b[1;33m]\u001b[0m\u001b[1;33m:\u001b[0m\u001b[1;33m\u001b[0m\u001b[0m\n",
      "\u001b[1;32mpandas\\_libs\\index.pyx\u001b[0m in \u001b[0;36mpandas._libs.index.IndexEngine.get_value\u001b[1;34m()\u001b[0m\n",
      "\u001b[1;32mpandas\\_libs\\index.pyx\u001b[0m in \u001b[0;36mpandas._libs.index.IndexEngine.get_value\u001b[1;34m()\u001b[0m\n",
      "\u001b[1;32mpandas\\_libs\\index.pyx\u001b[0m in \u001b[0;36mpandas._libs.index.IndexEngine.get_loc\u001b[1;34m()\u001b[0m\n",
      "\u001b[1;31mKeyError\u001b[0m: None"
     ]
    },
    {
     "data": {
      "image/png": "[encoded data removed]",
      "text/plain": [
       "<matplotlib.figure.Figure at 0x218d22f1b38>"
      ]
     },
     "metadata": {},
     "output_type": "display_data"
    }
   ],
   "source": [
    "from VisualFuncs import VDR\n",
    "VDR(X.values, y, tree)"
   ]
  }
 ],
 "metadata": {
  "kernelspec": {
   "display_name": "Python 3",
   "language": "python",
   "name": "python3"
  },
  "language_info": {
   "codemirror_mode": {
    "name": "ipython",
    "version": 3
   },
   "file_extension": ".py",
   "mimetype": "text/x-python",
   "name": "python",
   "nbconvert_exporter": "python",
   "pygments_lexer": "ipython3",
   "version": "3.6.3"
  }
 },
 "nbformat": 4,
 "nbformat_minor": 2
}
