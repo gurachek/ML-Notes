{
 "cells": [
  {
   "cell_type": "markdown",
   "metadata": {},
   "source": [
    "# Getting Started with Video\n",
    "\n",
    "<a href = \"http://opencv-python-tutroals.readthedocs.io/en/latest/py_tutorials/py_gui/py_video_display/py_video_display.html\"> Link for this tutorial </a>\n",
    "\n",
    "- learn to read video, display video, save video\n",
    "\n",
    "Use the following functions <code>cv2.VideoCapture()</code> and <code>cv2.VideoWriter()</code>"
   ]
  },
  {
   "cell_type": "code",
   "execution_count": 4,
   "metadata": {},
   "outputs": [],
   "source": [
    "import cv2\n",
    "import numpy as np"
   ]
  },
  {
   "cell_type": "markdown",
   "metadata": {},
   "source": [
    "<code>cv2.VideoCapture()</code> can have a first argument of a video file, or 0 for the primary device camera"
   ]
  },
  {
   "cell_type": "code",
   "execution_count": 6,
   "metadata": {},
   "outputs": [],
   "source": [
    "#references the main camera 0\n",
    "cap = cv2.VideoCapture(0)\n",
    "\n",
    "while(True):\n",
    "    #capture frame by frame\n",
    "    ret, frame = cap.read()\n",
    "    \n",
    "    #operation on frame\n",
    "    frame = cv2.vct\n",
    "    \n",
    "    #display results\n",
    "    cv2.imshow(\"frame\", frame)\n",
    "    if cv2.waitKey(1) & 0xFF == ord('q'):\n",
    "        break\n",
    "        \n",
    "cap.release()\n",
    "cv2.destroyAllWindows()"
   ]
  },
  {
   "cell_type": "markdown",
   "metadata": {},
   "source": [
    "<code>cap.read()</code> returns a bool whether the frame is read correctly. it also outputs the frame in question.\n",
    "\n",
    "You can also access some of the features of this video using cap.get(propId) method where propId is a number from 0 to 18.\n",
    "For example, I can check the frame width and height by <code>cap.get(3)</code> and <code>cap.get(4)</code>. <a href=\"http://docs.opencv.org/modules/highgui/doc/reading_and_writing_images_and_video.html#videocapture-get\"> List of video properties </a>\n",
    "\n",
    " It gives me 640x480 by default. But I want to modify it to 320x240. Just use ret = cap.set(3,320) and ret = cap.set(4,240)."
   ]
  },
  {
   "cell_type": "markdown",
   "metadata": {},
   "source": [
    "## Playing a Video from File\n",
    "\n",
    "You can check if the VideoCapture is initialized by referencing <code>cap.isOpened()</code>\n",
    "\n",
    "Change the camera index in <code>VideoCapture(\"vidFile\")</code>"
   ]
  },
  {
   "cell_type": "code",
   "execution_count": 2,
   "metadata": {},
   "outputs": [],
   "source": [
    "import os\n",
    "vid_dir = \"D://Backup//Pictures//Freshman Fall-20171113T025036Z-002//Freshman Fall//School Year\"\n",
    "os.chdir(vid_dir)\n",
    "vid_path = vid_dir + \"//\" + os.listdir()[0]"
   ]
  },
  {
   "cell_type": "code",
   "execution_count": 17,
   "metadata": {},
   "outputs": [],
   "source": [
    "cap = cv2.VideoCapture(vid_path)\n",
    "while(cap.isOpened()):\n",
    "    ret, frame  = cap.read()\n",
    "    \n",
    "    cv2.imshow(\"frame\", frame)\n",
    "    if cv2.waitKey(1) & 0xFF == ord('q'):\n",
    "        break\n",
    "cap.release()\n",
    "cv2.destroyAllWindows()"
   ]
  },
  {
   "cell_type": "markdown",
   "metadata": {},
   "source": [
    "## Saving a Video\n",
    "\n",
    "We capture a video, process it frame-by-frame and save the video with <code>cv2.VideoWriter(\"fileName\")</code>\n",
    "\n",
    "We also Need: \n",
    "\n",
    "- FourCC specifying video codec\n",
    "- FPS\n",
    "- framesize\n",
    "- isColor"
   ]
  },
  {
   "cell_type": "code",
   "execution_count": 5,
   "metadata": {},
   "outputs": [],
   "source": [
    "cap = cv2.VideoCapture(0)\n",
    "\n",
    "fourcc = cv2.VideoWriter_fourcc(*'DIVX')\n",
    "out = cv2.VideoWriter(\"output.avi\", fourcc, 20.0, (640,480))\n",
    "\n",
    "while(cap.isOpened()):\n",
    "    ret, frame = cap.read()\n",
    "    if ret ==True:\n",
    "        frame = cv2.flip(frame,0)\n",
    "        out.write(frame)\n",
    "        \n",
    "        cv2.imshow(\"frame\", frame)\n",
    "        if cv2.waitKey(1) & 0xFF == ord('q'):\n",
    "            break\n",
    "    else:\n",
    "        break\n",
    "cap.release()\n",
    "out.release()\n",
    "cv2.destroyAllWindows()"
   ]
  },
  {
   "cell_type": "markdown",
   "metadata": {},
   "source": [
    "## More Complicated"
   ]
  },
  {
   "cell_type": "code",
   "execution_count": 6,
   "metadata": {},
   "outputs": [],
   "source": [
    "def getModel(model = \"spectral\"):\n",
    "    if model == \"spectral\":\n",
    "        salience = cv2.saliency.StaticSaliencySpectralResidual_create()\n",
    "    if model == \"fine\":\n",
    "        salience = cv2.saliency.StaticSaliencyFineGrained_create()\n",
    "    return salience\n",
    "\n",
    "def output(img, model = \"spectral\"):\n",
    "    sal = getModel(model = model)\n",
    "    im = img\n",
    "    (success, salMap) = sal.computeSaliency(im)\n",
    "    \n",
    "    \n",
    "    \"\"\"\n",
    "    Salience Map is a floating point greyscale image (1 channel) with values ranging from [0,1] with values closer \n",
    "    to 1 being more salient\n",
    "    \"\"\"\n",
    "    if success:\n",
    "        thresh = cv2.threshold(salMap, 0, 255,\n",
    "                          cv2.THRESH_BINARY +cv2.THRESH_OTSU)[1]\n",
    "        return thresh\n",
    "    else:\n",
    "        return None"
   ]
  },
  {
   "cell_type": "code",
   "execution_count": null,
   "metadata": {},
   "outputs": [],
   "source": [
    "path = \"C://users//harri//desktop\"\n",
    "os.chdir(path)\n",
    "\n",
    "\n",
    "cap = VideoCapture(0)\n",
    "\n",
    "fourcc = cv2.VideoWriter_fourcc(*'DIVX')\n",
    "out = cv2.VideoWriter(\"salience.avi\",fourcc,20.0, (640,480))\n",
    "\n",
    "while(cap.isOpened()):\n",
    "    ret, frame = cap.read()\n",
    "    if ret == True:\n",
    "        frame = output(frame, model = \"fine\")\n",
    "        out.write(frame)\n",
    "        "
   ]
  }
 ],
 "metadata": {
  "kernelspec": {
   "display_name": "Python [conda env:cv]",
   "language": "python",
   "name": "conda-env-cv-py"
  },
  "language_info": {
   "codemirror_mode": {
    "name": "ipython",
    "version": 3
   },
   "file_extension": ".py",
   "mimetype": "text/x-python",
   "name": "python",
   "nbconvert_exporter": "python",
   "pygments_lexer": "ipython3",
   "version": "3.6.6"
  }
 },
 "nbformat": 4,
 "nbformat_minor": 2
}
