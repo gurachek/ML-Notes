{
 "cells": [
  {
   "cell_type": "markdown",
   "metadata": {},
   "source": [
    "# Titanic Classifier\n",
    "\n",
    "As the starting project for most machine learning practioners, this project aims to make a classifier that predicts whether individuals on the titanic lived or died based on certain personal characteristics. (age, sex, siblings, etc.)"
   ]
  },
  {
   "cell_type": "markdown",
   "metadata": {},
   "source": [
    "# Preprocessing\n",
    "\n",
    "Import the titanic dataset and clean it."
   ]
  },
  {
   "cell_type": "code",
   "execution_count": 1,
   "metadata": {
    "collapsed": true
   },
   "outputs": [],
   "source": [
    "import numpy as np\n",
    "import pandas as pd \n",
    "import matplotlib.pyplot as plt\n",
    "import seaborn as sns\n",
    "%matplotlib inline\n",
    "import os\n"
   ]
  },
  {
   "cell_type": "code",
   "execution_count": 2,
   "metadata": {},
   "outputs": [
    {
     "data": {
      "text/html": [
       "<div>\n",
       "<style>\n",
       "    .dataframe thead tr:only-child th {\n",
       "        text-align: right;\n",
       "    }\n",
       "\n",
       "    .dataframe thead th {\n",
       "        text-align: left;\n",
       "    }\n",
       "\n",
       "    .dataframe tbody tr th {\n",
       "        vertical-align: top;\n",
       "    }\n",
       "</style>\n",
       "<table border=\"1\" class=\"dataframe\">\n",
       "  <thead>\n",
       "    <tr style=\"text-align: right;\">\n",
       "      <th></th>\n",
       "      <th>Survived</th>\n",
       "      <th>Pclass</th>\n",
       "      <th>Sex</th>\n",
       "      <th>Age</th>\n",
       "      <th>SibSp</th>\n",
       "      <th>Parch</th>\n",
       "      <th>Fare</th>\n",
       "      <th>Embarked</th>\n",
       "    </tr>\n",
       "    <tr>\n",
       "      <th>PassengerId</th>\n",
       "      <th></th>\n",
       "      <th></th>\n",
       "      <th></th>\n",
       "      <th></th>\n",
       "      <th></th>\n",
       "      <th></th>\n",
       "      <th></th>\n",
       "      <th></th>\n",
       "    </tr>\n",
       "  </thead>\n",
       "  <tbody>\n",
       "    <tr>\n",
       "      <th>1</th>\n",
       "      <td>0</td>\n",
       "      <td>3</td>\n",
       "      <td>1</td>\n",
       "      <td>22</td>\n",
       "      <td>1</td>\n",
       "      <td>0</td>\n",
       "      <td>7.2500</td>\n",
       "      <td>3</td>\n",
       "    </tr>\n",
       "    <tr>\n",
       "      <th>2</th>\n",
       "      <td>1</td>\n",
       "      <td>1</td>\n",
       "      <td>0</td>\n",
       "      <td>38</td>\n",
       "      <td>1</td>\n",
       "      <td>0</td>\n",
       "      <td>71.2833</td>\n",
       "      <td>1</td>\n",
       "    </tr>\n",
       "    <tr>\n",
       "      <th>3</th>\n",
       "      <td>1</td>\n",
       "      <td>3</td>\n",
       "      <td>0</td>\n",
       "      <td>26</td>\n",
       "      <td>0</td>\n",
       "      <td>0</td>\n",
       "      <td>7.9250</td>\n",
       "      <td>3</td>\n",
       "    </tr>\n",
       "    <tr>\n",
       "      <th>4</th>\n",
       "      <td>1</td>\n",
       "      <td>1</td>\n",
       "      <td>0</td>\n",
       "      <td>35</td>\n",
       "      <td>1</td>\n",
       "      <td>0</td>\n",
       "      <td>53.1000</td>\n",
       "      <td>3</td>\n",
       "    </tr>\n",
       "    <tr>\n",
       "      <th>5</th>\n",
       "      <td>0</td>\n",
       "      <td>3</td>\n",
       "      <td>1</td>\n",
       "      <td>35</td>\n",
       "      <td>0</td>\n",
       "      <td>0</td>\n",
       "      <td>8.0500</td>\n",
       "      <td>3</td>\n",
       "    </tr>\n",
       "  </tbody>\n",
       "</table>\n",
       "</div>"
      ],
      "text/plain": [
       "             Survived  Pclass  Sex  Age  SibSp  Parch     Fare  Embarked\n",
       "PassengerId                                                             \n",
       "1                   0       3    1   22      1      0   7.2500         3\n",
       "2                   1       1    0   38      1      0  71.2833         1\n",
       "3                   1       3    0   26      0      0   7.9250         3\n",
       "4                   1       1    0   35      1      0  53.1000         3\n",
       "5                   0       3    1   35      0      0   8.0500         3"
      ]
     },
     "execution_count": 2,
     "metadata": {},
     "output_type": "execute_result"
    }
   ],
   "source": [
    "#Remove irrelevent features, fill NaN, reset index, set dtypes\n",
    "titanic = pd.read_csv('titanic_train.csv')\n",
    "del titanic['Name']\n",
    "del titanic['Cabin']\n",
    "del titanic['Ticket']\n",
    "titanic = titanic.set_index('PassengerId')\n",
    "titanic = titanic.fillna('0')\n",
    "titanic.Age = titanic.Age.astype('int64')\n",
    "titanic.head()\n",
    "\n",
    "\"\"\"\n",
    "#method to perform onehotencoding within pandas\n",
    "titanicdumm = pd.get_dummies(titanic)\n",
    "titanicdumm.head()\n",
    "\n",
    "x= pd.cut(titanic.Fare, [0,15,31,150, 600], labels = [0, 1, 2, 3])\n",
    "x = pd.get_dummies(x)\n",
    "x.columns  = ['poor','middle', 'rich', 'moneybags']\n",
    "frames = [titanicdumm, x]\n",
    "titanic = pd.concat(frames, axis = 1)\n",
    "del titanic['Fare']\n",
    "titanic.head()\"\"\"\n",
    "\n",
    "#Change categorical variables to integers\n",
    "from sklearn.preprocessing import LabelEncoder\n",
    "le = LabelEncoder()\n",
    "titanic.Sex = le.fit_transform(titanic.Sex)\n",
    "titanic.Embarked = le.fit_transform(titanic.Embarked)\n",
    "titanic.head()"
   ]
  },
  {
   "cell_type": "markdown",
   "metadata": {},
   "source": [
    "Lets do some preliminary visualization to get a feel for our data. We are looking out for linear dependencies and possible feature interactions."
   ]
  },
  {
   "cell_type": "markdown",
   "metadata": {},
   "source": [
    "# Data Analysis"
   ]
  },
  {
   "cell_type": "code",
   "execution_count": 3,
   "metadata": {
    "collapsed": true
   },
   "outputs": [],
   "source": [
    "df = titanic.drop(['Pclass','Parch','Fare'], axis = 1)"
   ]
  },
  {
   "cell_type": "code",
   "execution_count": 4,
   "metadata": {},
   "outputs": [
    {
     "data": {
      "text/plain": [
       "<seaborn.axisgrid.PairGrid at 0x183640365f8>"
      ]
     },
     "execution_count": 4,
     "metadata": {},
     "output_type": "execute_result"
    },
    {
     "data": {
      "image/png": "[encoded data removed]",
      "text/plain": [
       "<matplotlib.figure.Figure at 0x18364036278>"
      ]
     },
     "metadata": {},
     "output_type": "display_data"
    }
   ],
   "source": [
    "sns.pairplot(df)"
   ]
  },
  {
   "cell_type": "markdown",
   "metadata": {
    "collapsed": true
   },
   "source": [
    "### Things to look at:\n",
    "\n",
    "Look at the distribution of age... a lot of babies."
   ]
  },
  {
   "cell_type": "code",
   "execution_count": 5,
   "metadata": {},
   "outputs": [
    {
     "data": {
      "text/plain": [
       "<matplotlib.axes._subplots.AxesSubplot at 0x18368d34208>"
      ]
     },
     "execution_count": 5,
     "metadata": {},
     "output_type": "execute_result"
    },
    {
     "data": {
      "image/png": "[encoded data removed]",
      "text/plain": [
       "<matplotlib.figure.Figure at 0x18364036390>"
      ]
     },
     "metadata": {},
     "output_type": "display_data"
    }
   ],
   "source": [
    "sns.distplot(df['Age'])"
   ]
  },
  {
   "cell_type": "markdown",
   "metadata": {},
   "source": [
    "# Logisitic Regression\n",
    "\n",
    "### Dump all the data into a logistic regression classifier"
   ]
  },
  {
   "cell_type": "code",
   "execution_count": 6,
   "metadata": {},
   "outputs": [
    {
     "name": "stdout",
     "output_type": "stream",
     "text": [
      "Logistic Regression Out of Sample Accuracy: 78.2849468667 %\n"
     ]
    }
   ],
   "source": [
    "#Use all features in train test split\n",
    "from sklearn.model_selection import cross_val_score\n",
    "from sklearn.model_selection import train_test_split\n",
    "X = titanic.iloc[:,1:]\n",
    "y = titanic.iloc[:,0]\n",
    "X, X_test, y, y_test = train_test_split(X, y, test_size = 0.1)\n",
    "\n",
    "#instantiate logistic regressor and fit to training data. Accuracy_score is testing measure.\n",
    "from sklearn.linear_model import LogisticRegression\n",
    "log  = LogisticRegression(random_state =0)\n",
    "c= cross_val_score(log, X, y, cv = 10).mean()\n",
    "print('Logistic Regression Out of Sample Accuracy:', c*100, '%')"
   ]
  },
  {
   "cell_type": "markdown",
   "metadata": {},
   "source": [
    "### Will changing feature inputs boost accuracy?\n",
    "\n",
    "Use random choice of 2 or 3 features, score the fitted model, and ouput the results.\n",
    "\n"
   ]
  },
  {
   "cell_type": "code",
   "execution_count": 7,
   "metadata": {},
   "outputs": [
    {
     "name": "stdout",
     "output_type": "stream",
     "text": [
      "Other winners: ['Sex' 'Fare' 'Parch'] at 0.782849468667\n",
      "Other winners: ['Sex' 'Embarked' 'Pclass'] at 0.782849468667\n",
      "Other winners: ['Pclass' 'Embarked' 'Fare'] at 0.782849468667\n",
      "Other winners: ['Fare' 'Age' 'Pclass'] at 0.782849468667\n",
      "Other winners: ['Embarked' 'Sex' 'Pclass'] at 0.782849468667\n",
      "Other winners: ['Age' 'SibSp' 'Pclass'] at 0.782849468667\n",
      "Other winners: ['SibSp' 'Age' 'Pclass'] at 0.782849468667\n",
      "Other winners: ['Sex' 'Pclass' 'Age'] at 0.782849468667\n",
      "Other winners: ['Parch' 'Sex' 'Age'] at 0.782849468667\n",
      "Other winners: ['Sex' 'SibSp' 'Pclass'] at 0.782849468667\n",
      "The heighest scoring 3 feature combo:  ['Sex' 'Fare' 'Parch'] 0.782849468667\n"
     ]
    }
   ],
   "source": [
    "all_features = list(range(0,7))\n",
    "res = 0\n",
    "cols = None\n",
    "#10 models of 3 features each.\n",
    "for _ in range(0,10):\n",
    "    x = list(np.random.choice(all_features, 3, replace = False))\n",
    "    l = LogisticRegression()\n",
    "    t=  cross_val_score(l, X, y, cv = 10).mean()\n",
    "    if t > res:\n",
    "        res = t\n",
    "        cols = X.iloc[:,x].columns.values\n",
    "    if t == res:\n",
    "        print('Other winners:', X.iloc[:,x].columns.values, 'at', t)\n",
    "        \n",
    "print(\"The heighest scoring 3 feature combo: \", cols, res)"
   ]
  },
  {
   "cell_type": "code",
   "execution_count": 8,
   "metadata": {},
   "outputs": [
    {
     "name": "stdout",
     "output_type": "stream",
     "text": [
      "Other winners: ['Pclass' 'Fare'] at 0.782849468667\n",
      "Other winners: ['Age' 'SibSp'] at 0.782849468667\n",
      "Other winners: ['Embarked' 'Sex'] at 0.782849468667\n",
      "Other winners: ['Parch' 'Fare'] at 0.782849468667\n",
      "Other winners: ['Parch' 'Fare'] at 0.782849468667\n",
      "Other winners: ['Fare' 'Pclass'] at 0.782849468667\n",
      "Other winners: ['SibSp' 'Fare'] at 0.782849468667\n",
      "Other winners: ['Fare' 'Age'] at 0.782849468667\n",
      "Other winners: ['SibSp' 'Embarked'] at 0.782849468667\n",
      "Other winners: ['SibSp' 'Fare'] at 0.782849468667\n",
      "Other winners: ['Parch' 'Age'] at 0.782849468667\n",
      "Other winners: ['Embarked' 'Pclass'] at 0.782849468667\n",
      "Other winners: ['SibSp' 'Pclass'] at 0.782849468667\n",
      "Other winners: ['Fare' 'SibSp'] at 0.782849468667\n",
      "Other winners: ['Age' 'Embarked'] at 0.782849468667\n",
      "Other winners: ['Pclass' 'Parch'] at 0.782849468667\n",
      "Other winners: ['SibSp' 'Fare'] at 0.782849468667\n",
      "Other winners: ['Fare' 'Embarked'] at 0.782849468667\n",
      "Other winners: ['SibSp' 'Parch'] at 0.782849468667\n",
      "Other winners: ['Sex' 'Age'] at 0.782849468667\n",
      "Other winners: ['SibSp' 'Fare'] at 0.782849468667\n",
      "Other winners: ['Parch' 'Sex'] at 0.782849468667\n",
      "Other winners: ['Age' 'Parch'] at 0.782849468667\n",
      "Other winners: ['Embarked' 'Age'] at 0.782849468667\n",
      "Other winners: ['Pclass' 'Embarked'] at 0.782849468667\n",
      "Other winners: ['Pclass' 'Parch'] at 0.782849468667\n",
      "Other winners: ['Fare' 'Embarked'] at 0.782849468667\n",
      "Other winners: ['SibSp' 'Parch'] at 0.782849468667\n",
      "Other winners: ['Fare' 'SibSp'] at 0.782849468667\n",
      "Other winners: ['Parch' 'Embarked'] at 0.782849468667\n",
      "The heighest scoring 2 feature combo:  ['Pclass' 'Fare'] 0.782849468667\n"
     ]
    }
   ],
   "source": [
    "res = 0\n",
    "cols = None\n",
    "#30 models of 2 features each.\n",
    "for _ in range(0,30):\n",
    "    x = list(np.random.choice(all_features, 2, replace = False))\n",
    "    l = LogisticRegression()\n",
    "    t=  cross_val_score(l, X, y, cv = 10).mean()\n",
    "    if t > res:\n",
    "        res = t\n",
    "        cols = X.iloc[:,x].columns.values\n",
    "    if t == res:\n",
    "        print('Other winners:', X.iloc[:,x].columns.values, 'at', t)\n",
    "        \n",
    "print(\"The heighest scoring 2 feature combo: \", cols, res)"
   ]
  },
  {
   "cell_type": "markdown",
   "metadata": {},
   "source": [
    "## Final Logistic Regression\n",
    "\n",
    "I will choose a logistic regression with the features [Sex, Sibsp]. Mainly because: they scored well consistently, its a simple model, and it can be visualized."
   ]
  },
  {
   "cell_type": "code",
   "execution_count": 9,
   "metadata": {},
   "outputs": [
    {
     "data": {
      "text/plain": [
       "0.77777777777777779"
      ]
     },
     "execution_count": 9,
     "metadata": {},
     "output_type": "execute_result"
    }
   ],
   "source": [
    "logistic_classifier = LogisticRegression()\n",
    "logistic_classifier.fit(X.iloc[:,[1,3]],y)\n",
    "logistic_classifier.score(X_test.iloc[:,[1,3]], y_test)"
   ]
  },
  {
   "cell_type": "markdown",
   "metadata": {},
   "source": [
    "## Visualized\n",
    "Here is the decision boundary for our linear classifier."
   ]
  },
  {
   "cell_type": "code",
   "execution_count": 10,
   "metadata": {},
   "outputs": [
    {
     "data": {
      "image/png": "[encoded data removed]",
      "text/plain": [
       "<matplotlib.figure.Figure at 0x1836923fc88>"
      ]
     },
     "metadata": {},
     "output_type": "display_data"
    }
   ],
   "source": [
    "os.chdir('C:\\\\Users\\\\Harrison\\\\Documents\\\\GitHub\\\\ML-Notes')\n",
    "from VisualFuncs import Visual_Logistic\n",
    "Visual_Logistic(X.iloc[:,[1,3]], y, logistic_classifier)"
   ]
  },
  {
   "cell_type": "markdown",
   "metadata": {},
   "source": [
    "## With LDA\n",
    "Can we improve the model by Linear Discriminant Analysis at the cost of interpretability?\n",
    "Probably not since we are dealing with a bunch of categorical data, but it is good practice, so lets do it.\n"
   ]
  },
  {
   "cell_type": "code",
   "execution_count": 12,
   "metadata": {},
   "outputs": [
    {
     "name": "stdout",
     "output_type": "stream",
     "text": [
      "old score:  0.782849468667\n",
      "new score:  0.786630332865\n"
     ]
    }
   ],
   "source": [
    "from sklearn.discriminant_analysis import LinearDiscriminantAnalysis\n",
    "\n",
    "lda = LinearDiscriminantAnalysis()\n",
    "lda.fit(X, y)\n",
    "X_lda = lda.transform(X)\n",
    "\n",
    "\n",
    "\n",
    "l = LogisticRegression(random_state = 0)\n",
    "\n",
    "b= cross_val_score(l, X_lda, y, cv = 10).mean()\n",
    "\n",
    "print('old score: ', c)\n",
    "print('new score: ', b)\n"
   ]
  },
  {
   "cell_type": "markdown",
   "metadata": {},
   "source": [
    "Cool"
   ]
  },
  {
   "cell_type": "markdown",
   "metadata": {},
   "source": [
    "# Decision Trees"
   ]
  },
  {
   "cell_type": "code",
   "execution_count": 14,
   "metadata": {},
   "outputs": [
    {
     "name": "stdout",
     "output_type": "stream",
     "text": [
      "Decision Tree Accuracy on Train Set 78.8975621191 %\n"
     ]
    }
   ],
   "source": [
    "from sklearn.tree import DecisionTreeClassifier\n",
    "\n",
    "tree = DecisionTreeClassifier(random_state = 0)\n",
    "a = cross_val_score(tree, X, y, cv = 10).mean()\n",
    "print ('Decision Tree Accuracy on Train Set', a*100, '%')"
   ]
  },
  {
   "cell_type": "code",
   "execution_count": 15,
   "metadata": {},
   "outputs": [
    {
     "name": "stdout",
     "output_type": "stream",
     "text": [
      "Other winners: ['Sex' 'Embarked' 'Pclass'] at 0.782849468667\n",
      "Other winners: ['Pclass' 'Fare' 'SibSp'] at 0.782849468667\n",
      "Other winners: ['Pclass' 'Fare' 'Sex'] at 0.782849468667\n",
      "Other winners: ['Fare' 'Embarked' 'Pclass'] at 0.782849468667\n",
      "Other winners: ['Parch' 'Sex' 'SibSp'] at 0.782849468667\n",
      "Other winners: ['Embarked' 'Fare' 'SibSp'] at 0.782849468667\n",
      "Other winners: ['Age' 'Sex' 'SibSp'] at 0.782849468667\n",
      "Other winners: ['Embarked' 'Sex' 'Age'] at 0.782849468667\n",
      "Other winners: ['Embarked' 'SibSp' 'Parch'] at 0.782849468667\n",
      "Other winners: ['Age' 'Sex' 'SibSp'] at 0.782849468667\n",
      "The heighest scoring 3 feature combo:  ['Sex' 'Embarked' 'Pclass'] 0.782849468667\n"
     ]
    }
   ],
   "source": [
    "res = 0\n",
    "cols = None\n",
    "#10 models of 3 features each.\n",
    "for _ in range(0,10):\n",
    "    x = list(np.random.choice(all_features, 3, replace = False))\n",
    "    l = LogisticRegression()\n",
    "    t=  cross_val_score(l, X, y, cv = 10).mean()\n",
    "    if t > res:\n",
    "        res = t\n",
    "        cols = X.iloc[:,x].columns.values\n",
    "    if t == res:\n",
    "        print('Other winners:', X.iloc[:,x].columns.values, 'at', t)\n",
    "        \n",
    "print(\"The heighest scoring 3 feature combo: \", cols, res)"
   ]
  },
  {
   "cell_type": "code",
   "execution_count": null,
   "metadata": {
    "collapsed": true
   },
   "outputs": [],
   "source": []
  },
  {
   "cell_type": "markdown",
   "metadata": {},
   "source": [
    "#### Input = [Sex,  Age, SibSp]\n"
   ]
  },
  {
   "cell_type": "code",
   "execution_count": null,
   "metadata": {
    "collapsed": true
   },
   "outputs": [],
   "source": [
    "tree = DecisionTreeClassifier(random_state = 0)\n",
    "tree.fit(X_train.iloc[:,[0,1,2]], y_train)\n",
    "tree.score(X_test.iloc[:,[0,1,2]], y_test)\n"
   ]
  },
  {
   "cell_type": "markdown",
   "metadata": {},
   "source": [
    "Good boost! now lets try just Sex and SibSp\n",
    "\n",
    "#### Input = [Sex, SibSp]"
   ]
  },
  {
   "cell_type": "code",
   "execution_count": null,
   "metadata": {
    "collapsed": true
   },
   "outputs": [],
   "source": [
    "tree = DecisionTreeClassifier(max_depth=1,random_state = 0)\n",
    "tree.fit(X_train.iloc[:,[0,2]], y_train)\n",
    "tree.score(X_test.iloc[:,[0,2]], y_test)\n"
   ]
  },
  {
   "cell_type": "code",
   "execution_count": null,
   "metadata": {
    "collapsed": true
   },
   "outputs": [],
   "source": [
    "import os\n",
    "os.chdir('C:\\\\Users\\\\Harrison\\\\Documents\\\\GitHub\\\\ML-Notes\\\\Titanic')"
   ]
  },
  {
   "cell_type": "markdown",
   "metadata": {},
   "source": [
    "# K Fold Cross Validation"
   ]
  },
  {
   "cell_type": "code",
   "execution_count": null,
   "metadata": {
    "collapsed": true
   },
   "outputs": [],
   "source": [
    "from sklearn.model_selection import cross_val_score\n",
    "\n",
    "scores = cross_val_score(tree, X_test, y_test, cv = 4)\n",
    "\n",
    "print('tree score: ', scores.mean())"
   ]
  },
  {
   "cell_type": "code",
   "execution_count": null,
   "metadata": {
    "collapsed": true
   },
   "outputs": [],
   "source": []
  }
 ],
 "metadata": {
  "kernelspec": {
   "display_name": "Python 3",
   "language": "python",
   "name": "python3"
  },
  "language_info": {
   "codemirror_mode": {
    "name": "ipython",
    "version": 3
   },
   "file_extension": ".py",
   "mimetype": "text/x-python",
   "name": "python",
   "nbconvert_exporter": "python",
   "pygments_lexer": "ipython3",
   "version": "3.6.3"
  }
 },
 "nbformat": 4,
 "nbformat_minor": 2
}
