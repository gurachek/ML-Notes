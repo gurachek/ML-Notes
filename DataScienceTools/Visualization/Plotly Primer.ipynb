{
 "cells": [
  {
   "cell_type": "markdown",
   "metadata": {},
   "source": [
    "# Plotly\n",
    "\n",
    "https://plot.ly/python/\n"
   ]
  },
  {
   "cell_type": "markdown",
   "metadata": {},
   "source": [
    "## Getting Started\n",
    "\n",
    "https://plot.ly/python/getting-started/\n"
   ]
  },
  {
   "cell_type": "code",
   "execution_count": 1,
   "metadata": {},
   "outputs": [],
   "source": [
    "import plotly"
   ]
  },
  {
   "cell_type": "code",
   "execution_count": null,
   "metadata": {},
   "outputs": [],
   "source": [
    "import plotly.plotly as py\n",
    "from plotly import graph_objs as go\n",
    "\n",
    "trace0 = go.Scatter(\n",
    "    x=[1, 2, 3, 4],\n",
    "    y=[10, 15, 13, 17]\n",
    ")\n",
    "trace1 = go.Scatter(\n",
    "    x=[1, 2, 3, 4],\n",
    "    y=[16, 5, 11, 9]\n",
    ")\n",
    "data = Data([trace0, trace1])\n",
    "\n",
    "py.plot(data, filename = 'basic-line')"
   ]
  },
  {
   "cell_type": "markdown",
   "metadata": {},
   "source": [
    "### Plotting Graphs inside Jupyter Notebooks\n",
    "\n",
    "run the following code at the start of every jupyter notebook\n",
    "\n",
    "from plotly.offline import download_plotlyjs, init_notebook_mode, plot, iplot\n",
    "\n",
    "init_notebook_mode(connected=True)\n"
   ]
  },
  {
   "cell_type": "code",
   "execution_count": null,
   "metadata": {},
   "outputs": [],
   "source": [
    "from plotly.offline import download_plotlyjs, init_notebook_mode, plot, iplot\n",
    "init_notebook_mode(connected=True) "
   ]
  },
  {
   "cell_type": "code",
   "execution_count": null,
   "metadata": {},
   "outputs": [],
   "source": [
    "import numpy as np\n",
    "x = np.random.randn(2000)\n",
    "y = np.random.randn(2000)\n",
    "\n",
    "iplot([Histogram2dContour(x=x,\n",
    "                          y=y,\n",
    "                          contours = Contours(coloring = 'heatmap')), \n",
    "      Scatter(x= x,\n",
    "              y=y,\n",
    "              mode = 'markers',\n",
    "              marker = Marker(color = 'white', size = 3, opacity = 0.3))],\n",
    "            show_link = False,\n",
    "            )"
   ]
  },
  {
   "cell_type": "markdown",
   "metadata": {},
   "source": [
    "In conclusion we are going to mostly be using the plotly.offline tovisualize within jupyter notebooks for the next 6 months.\n",
    "\n",
    "\n",
    "The commands to remember:"
   ]
  },
  {
   "cell_type": "raw",
   "metadata": {},
   "source": [
    "import plotly.offline as offline\n",
    "offline.init_notebook_mode(connected=True)"
   ]
  },
  {
   "cell_type": "markdown",
   "metadata": {},
   "source": [
    "We need to find a way to insert these objects as static images.\n"
   ]
  },
  {
   "cell_type": "markdown",
   "metadata": {},
   "source": [
    "## Plotly User Guide\n",
    "\n",
    "https://plot.ly/python/user-guide/\n",
    "\n"
   ]
  },
  {
   "cell_type": "code",
   "execution_count": null,
   "metadata": {},
   "outputs": [],
   "source": [
    "import plotly.plotly as py\n",
    "import plotly.graph_objs as go\n",
    "\n",
    "trace1 = go.Scatter(x = [1,2,3],\n",
    "                   y = [4, 5, 6],\n",
    "                   marker ={'color' :'purple'},\n",
    "                   mode = 'text',\n",
    "                   text = ['one', 'two','three'],\n",
    "                   name = '2nd Online Graph')\n",
    "data  = go.Data([trace1])\n",
    "layout = go.Layout(title = '2nd Plot', \n",
    "                  xaxis = {'title':'x'},\n",
    "                  yaxis = {'title': 'y'})\n",
    "figure = go.Figure(data = data, layout = layout)\n",
    "py.iplot(figure, filename = '2ndplot')"
   ]
  },
  {
   "cell_type": "markdown",
   "metadata": {},
   "source": [
    "### Summary\n",
    "\n",
    "1. Make a graph object which includes your data, colors and symbol, and labels.\n",
    "2. create a data object\n",
    "3. customize your plot with the layout object\n",
    "4. combine data and layout objects into 1 figure object\n",
    "5. py.iplot the figure\n",
    "\n",
    "Figure objects can be updated with the .update command"
   ]
  },
  {
   "cell_type": "code",
   "execution_count": null,
   "metadata": {
    "scrolled": false
   },
   "outputs": [],
   "source": [
    "import pandas as pd\n",
    "df = pd.read_csv('https://raw.githubusercontent.com/yankev/test/master/life-expectancy-per-GDP-2007.csv')\n",
    "\n",
    "americas = df[(df.continent=='Americas')]\n",
    "europe = df[(df.continent=='Europe')]\n",
    "\n",
    "trace_comp = go.Scatter(x = americas.gdp_percap,\n",
    "                       y = americas.life_exp,\n",
    "                       mode = 'markers',\n",
    "                       marker = dict(size = 12, line = dict(width =1), color = 'navy'),\n",
    "                       name = 'Americas',\n",
    "                       text = americas.country)\n",
    "\n",
    "trace_comp1 = go.Scatter(x=europe.gdp_percap,\n",
    "                         y=europe.life_exp,\n",
    "                         mode='markers',\n",
    "                         marker=dict(size=12,\n",
    "                                     line=dict(width=1),\n",
    "                                     color=\"red\"),\n",
    "                         name='Europe',\n",
    "                         text=europe.country,)\n",
    "data_comp = [trace_comp, trace_comp1]\n",
    "layout = go.Layout(title = 'Life Expectancy v. Per Capita GDP, 2007',\n",
    "                  hovermode = 'closest',\n",
    "                   xaxis=dict(title='GDP per capita (2000 dollars)',\n",
    "                              ticklen=5,\n",
    "                              zeroline=False,\n",
    "                              gridwidth=2,),\n",
    "                   yaxis=dict(title='Life Expectancy (years)',\n",
    "                              ticklen=5,\n",
    "                              gridwidth=2),)\n",
    "fig = go.Figure(data = data_comp, layout = layout)\n",
    "py.iplot(fig, filename='life-expectancy-per-GDP-2007')"
   ]
  },
  {
   "cell_type": "markdown",
   "metadata": {},
   "source": [
    "## General Breakdown of a Graph Object\n",
    "\n",
    "\n",
    "name = string \n",
    "\n",
    "Sets the trace name appearing as the legend item and on hover\n",
    "\n",
    "\n",
    "x = list, numpy array or Pandas Series of numbers\n",
    "\n",
    "y= same^^^\n",
    "\n",
    "z = same ^^^ (for 3d objects)\n",
    "\n",
    "text = array of strings element associated with each data pairing, can be a single string to appear over all data\n",
    "\n",
    "mode = some combination of strings that specifies the drawing mode\n",
    "\n",
    "line = specifics of line (color width a lot of ways to customize colors.)\n",
    "\n",
    "marker = symbol size colorbar\n",
    "\n",
    "\n",
    "\n"
   ]
  },
  {
   "cell_type": "markdown",
   "metadata": {},
   "source": [
    "## Further Broken\n",
    "\n",
    "Two main modules to generate plotly graphs\n",
    "\n",
    "plotly.plotly-communicates with plotly servers\n",
    "\n",
    "plotly.offline - generate plots without servers\n",
    "\n",
    "plotly.graph_objs - generates graph objects\n",
    "\n"
   ]
  },
  {
   "cell_type": "markdown",
   "metadata": {},
   "source": [
    "## Data Object\n",
    "\n",
    "A list object in python that contains all of the traces that you want to plot. A trace is a collection of data and how we want it visualized/drawn/plotted. Traces are also objects that are specified as a type of plot.\n",
    "\n",
    "Make a trace specifying how a plot should be drawn -> put into data list object\n"
   ]
  },
  {
   "cell_type": "markdown",
   "metadata": {},
   "source": [
    "## Layout \n",
    "\n",
    "Defines the look of the plot. Title, axis title, spacing,\n",
    "\n",
    "#### Annotations with go.Annotation()"
   ]
  },
  {
   "cell_type": "markdown",
   "metadata": {},
   "source": [
    "## Figure\n",
    "\n",
    "go.Figure combines data and layout in one object to be plotted, mushes them both into a dictionary.\n"
   ]
  },
  {
   "cell_type": "markdown",
   "metadata": {},
   "source": [
    "#### Is Plotly worth the effort? Probably not, a better idea would be just to use Seaborns and look at some examples from their documentation"
   ]
  },
  {
   "cell_type": "code",
   "execution_count": null,
   "metadata": {
    "collapsed": true
   },
   "outputs": [],
   "source": []
  }
 ],
 "metadata": {
  "kernelspec": {
   "display_name": "Python [conda env:py36]",
   "language": "python",
   "name": "conda-env-py36-py"
  },
  "language_info": {
   "codemirror_mode": {
    "name": "ipython",
    "version": 3
   },
   "file_extension": ".py",
   "mimetype": "text/x-python",
   "name": "python",
   "nbconvert_exporter": "python",
   "pygments_lexer": "ipython3",
   "version": "3.6.5"
  }
 },
 "nbformat": 4,
 "nbformat_minor": 2
}
