{
 "cells": [
  {
   "cell_type": "markdown",
   "metadata": {},
   "source": [
    "# Playing with Sqlite3"
   ]
  },
  {
   "cell_type": "markdown",
   "metadata": {},
   "source": [
    "### Connecting to a Database"
   ]
  },
  {
   "cell_type": "code",
   "execution_count": 7,
   "metadata": {},
   "outputs": [],
   "source": [
    "#import the sqlite module\n",
    "import sqlite3 as sql\n",
    "\n",
    "#start with a connection object\n",
    "conn = sql.connect('example.db')\n",
    "\n",
    "# create a cursor object and use its execute method to run SQL commands\n",
    "c = conn.cursor()"
   ]
  },
  {
   "cell_type": "markdown",
   "metadata": {},
   "source": [
    "### Create a New Table in Database"
   ]
  },
  {
   "cell_type": "code",
   "execution_count": 2,
   "metadata": {},
   "outputs": [
    {
     "data": {
      "text/plain": [
       "<sqlite3.Cursor at 0x1a698b68c00>"
      ]
     },
     "execution_count": 2,
     "metadata": {},
     "output_type": "execute_result"
    }
   ],
   "source": [
    "#execute a sql command creating a table\n",
    "c.execute('''CREATE TABLE chicken (name text, dob text, salary real, favcolor text)\n",
    "''')"
   ]
  },
  {
   "cell_type": "markdown",
   "metadata": {},
   "source": [
    "### Insert values into a table, commit, and close"
   ]
  },
  {
   "cell_type": "code",
   "execution_count": 3,
   "metadata": {},
   "outputs": [],
   "source": [
    "#insert into table\n",
    "c.execute(\"\"\" INSERT INTO names VALUES ('harrison', '4/25/1995', 100000, 'blue')\"\"\")\n",
    "\n",
    "# Commit the changes\n",
    "conn.commit()\n",
    "\n",
    "#close the connection\n",
    "conn.close()"
   ]
  },
  {
   "cell_type": "code",
   "execution_count": 4,
   "metadata": {
    "collapsed": true
   },
   "outputs": [],
   "source": [
    "#reopen the connection to see if changes are still there\n",
    "conn2 = sql.connect(\"example.db\")\n",
    "c = conn2.cursor()"
   ]
  },
  {
   "cell_type": "markdown",
   "metadata": {},
   "source": [
    "### Using parameter substitution to specify multiple values.\n"
   ]
  },
  {
   "cell_type": "code",
   "execution_count": 3,
   "metadata": {},
   "outputs": [
    {
     "data": {
      "text/plain": [
       "[('harrison', '4/25/1995', 100000.0, 'blue'),\n",
       " ('harrison', '4/25/1995', 100000.0, 'blue'),\n",
       " ('harrison', '4/25/1995', 100000.0, 'blue'),\n",
       " ('harrison', '4/25/1995', 100000.0, 'blue')]"
      ]
     },
     "execution_count": 3,
     "metadata": {},
     "output_type": "execute_result"
    }
   ],
   "source": [
    "#use a python tuple object and insert into a SQL query\n",
    "names = (\"harrison\",)\n",
    "c.execute(\"SELECT * FROM names WHERE name=?\", names)\n",
    "#fetchall shows all, fetchone showsone\n",
    "c.fetchall()"
   ]
  },
  {
   "cell_type": "markdown",
   "metadata": {},
   "source": [
    "### Inserting with Parameter Substitutions\n",
    "\n",
    "Without this we would have to physically write the data in as text in the SQL query being passed to the cursor object."
   ]
  },
  {
   "cell_type": "code",
   "execution_count": 8,
   "metadata": {},
   "outputs": [
    {
     "name": "stdout",
     "output_type": "stream",
     "text": [
      "('huckle', '11/11/2016', 0.0, 'red')\n"
     ]
    }
   ],
   "source": [
    "#inserting many examples with parameter substitution\n",
    "inserts = [('huckle', '11/11/2016', 0, 'red'),\n",
    "('chicken', '629836', 182098, 'green')]\n",
    "\n",
    "#insert into the db with the cursor object\n",
    "c.executemany(\"INSERT INTO names VALUES (?,?,?,?)\", inserts)\n",
    "\n",
    "#finalizes the changes into the db\n",
    "conn2.commit()"
   ]
  },
  {
   "cell_type": "markdown",
   "metadata": {},
   "source": [
    "### Looping over rows in a table"
   ]
  },
  {
   "cell_type": "code",
   "execution_count": 12,
   "metadata": {
    "scrolled": true
   },
   "outputs": [
    {
     "name": "stdout",
     "output_type": "stream",
     "text": [
      "huckle has bad breath.\n",
      "harrison has bad breath.\n",
      "harrison has bad breath.\n",
      "harrison has bad breath.\n",
      "harrison has bad breath.\n",
      "chicken has bad breath.\n"
     ]
    }
   ],
   "source": [
    "#loop over rows in a database\n",
    "for row in c.execute(\"SELECT * FROM names ORDER BY salary\"):\n",
    "    print(row[0]+\" has bad breath.\")"
   ]
  },
  {
   "cell_type": "code",
   "execution_count": 20,
   "metadata": {},
   "outputs": [
    {
     "name": "stdout",
     "output_type": "stream",
     "text": [
      "100000.0\n",
      "Salary is: $ 10000000000.0 \n",
      "\n",
      "100000.0\n",
      "Salary is: $ 10000000000.0 \n",
      "\n",
      "100000.0\n",
      "Salary is: $ 10000000000.0 \n",
      "\n",
      "100000.0\n",
      "Salary is: $ 10000000000.0 \n",
      "\n"
     ]
    }
   ],
   "source": [
    "namequery = ('harrison',)\n",
    "for row in c.execute(\"select salary from names where name==?\", namequery):\n",
    "    print(row[0])\n",
    "    print(\"Salary is: $\", row[0]**2, '\\n')"
   ]
  },
  {
   "cell_type": "markdown",
   "metadata": {},
   "source": [
    "### Printing an Entire Table"
   ]
  },
  {
   "cell_type": "code",
   "execution_count": 8,
   "metadata": {},
   "outputs": [
    {
     "data": {
      "text/plain": [
       "[('harrison', '4/25/1995', 100000.0, 'blue'),\n",
       " ('harrison', '4/25/1995', 100000.0, 'blue'),\n",
       " ('harrison', '4/25/1995', 100000.0, 'blue'),\n",
       " ('harrison', '4/25/1995', 100000.0, 'blue'),\n",
       " ('huckle', '11/11/2016', 0.0, 'red'),\n",
       " ('chicken', '629836', 182098.0, 'green')]"
      ]
     },
     "execution_count": 8,
     "metadata": {},
     "output_type": "execute_result"
    }
   ],
   "source": [
    "#show all rows in a db\n",
    "c.execute(\"select * from names\")\n",
    "c.fetchall()"
   ]
  },
  {
   "cell_type": "code",
   "execution_count": 10,
   "metadata": {
    "collapsed": true
   },
   "outputs": [],
   "source": [
    "conn2.close()"
   ]
  },
  {
   "cell_type": "markdown",
   "metadata": {},
   "source": [
    "# SQL and Pandas\n",
    "\n",
    "Data is not synonymous with relational database. (Tables that look like excel files). We can have CSV files, plain text,  Parquet, and more.\n",
    "\n",
    "Pandas is particularly geared towards structured data\n",
    "\n",
    "### The anatomy of a SQL query\n",
    "\n",
    "SELECT ... FROM ... WHERE\n",
    "\n",
    "GROUP BY ... HAVING\n",
    "\n",
    "ORDER BY ..."
   ]
  },
  {
   "cell_type": "markdown",
   "metadata": {},
   "source": [
    "### Examples of Queries"
   ]
  },
  {
   "cell_type": "code",
   "execution_count": 11,
   "metadata": {},
   "outputs": [],
   "source": [
    "conn = sql.connect(\"example.db\")\n",
    "c = conn.cursor()"
   ]
  },
  {
   "cell_type": "code",
   "execution_count": 12,
   "metadata": {},
   "outputs": [
    {
     "data": {
      "text/plain": [
       "[('harrison', '4/25/1995', 100000.0, 'blue'),\n",
       " ('harrison', '4/25/1995', 100000.0, 'blue'),\n",
       " ('harrison', '4/25/1995', 100000.0, 'blue'),\n",
       " ('harrison', '4/25/1995', 100000.0, 'blue'),\n",
       " ('chicken', '629836', 182098.0, 'green')]"
      ]
     },
     "execution_count": 12,
     "metadata": {},
     "output_type": "execute_result"
    }
   ],
   "source": [
    "#using an or opperator to select multiple conditions\n",
    "c.execute(\"SELECT * FROM names WHERE name='harrison' OR favcolor='green'\")\n",
    "c.fetchall()"
   ]
  },
  {
   "cell_type": "code",
   "execution_count": 14,
   "metadata": {},
   "outputs": [
    {
     "data": {
      "text/plain": [
       "[('huckle', '11/11/2016', 0.0, 'red'),\n",
       " ('chicken', '629836', 182098.0, 'green')]"
      ]
     },
     "execution_count": 14,
     "metadata": {},
     "output_type": "execute_result"
    }
   ],
   "source": [
    "# using the WHERE IN combination to select multiple possible values\n",
    "c.execute(\"SELECT * FROM names WHERE favcolor IN ('green', 'red')\")\n",
    "c.fetchall()"
   ]
  },
  {
   "cell_type": "code",
   "execution_count": 15,
   "metadata": {},
   "outputs": [
    {
     "data": {
      "text/plain": [
       "[('chicken', '629836', 182098.0, 'green'),\n",
       " ('harrison', '4/25/1995', 100000.0, 'blue'),\n",
       " ('huckle', '11/11/2016', 0.0, 'red')]"
      ]
     },
     "execution_count": 15,
     "metadata": {},
     "output_type": "execute_result"
    }
   ],
   "source": [
    "# group table by a column\n",
    "c.execute(\"SELECT * FROM names GROUP BY name\")\n",
    "c.fetchall()"
   ]
  },
  {
   "cell_type": "code",
   "execution_count": 21,
   "metadata": {},
   "outputs": [
    {
     "data": {
      "text/plain": [
       "[('chicken', '629836', 182098.0, 'green'),\n",
       " ('harrison', '4/25/1995', 100000.0, 'blue'),\n",
       " ('huckle', '11/11/2016', 0.0, 'red')]"
      ]
     },
     "execution_count": 21,
     "metadata": {},
     "output_type": "execute_result"
    }
   ],
   "source": [
    "#group by column order by numeric column\n",
    "c.execute(\"SELECT * FROM names GROUP BY name ORDER BY salary DESC\")\n",
    "c.fetchall()"
   ]
  },
  {
   "cell_type": "markdown",
   "metadata": {},
   "source": [
    "### Aggregate Functions"
   ]
  },
  {
   "cell_type": "code",
   "execution_count": 21,
   "metadata": {},
   "outputs": [
    {
     "data": {
      "text/plain": [
       "[('chicken', '629836', 182098.0, 'green', 6)]"
      ]
     },
     "execution_count": 21,
     "metadata": {},
     "output_type": "execute_result"
    }
   ],
   "source": [
    "#uses agg function COUNT\n",
    "c.execute(\"SELECT *, COUNT(*) FROM names\")\n",
    "c.fetchall()"
   ]
  },
  {
   "cell_type": "code",
   "execution_count": 4,
   "metadata": {},
   "outputs": [
    {
     "data": {
      "text/plain": [
       "[(182098.0,)]"
      ]
     },
     "execution_count": 4,
     "metadata": {},
     "output_type": "execute_result"
    }
   ],
   "source": [
    "# max function\n",
    "c.execute(\"SELECT MAX(salary) FROM names\")\n",
    "c.fetchall()"
   ]
  },
  {
   "cell_type": "code",
   "execution_count": 5,
   "metadata": {},
   "outputs": [],
   "source": [
    "conn.close()"
   ]
  },
  {
   "cell_type": "markdown",
   "metadata": {},
   "source": [
    "### SQL Into Pandas"
   ]
  },
  {
   "cell_type": "code",
   "execution_count": 31,
   "metadata": {},
   "outputs": [
    {
     "data": {
      "text/html": [
       "<div>\n",
       "<style scoped>\n",
       "    .dataframe tbody tr th:only-of-type {\n",
       "        vertical-align: middle;\n",
       "    }\n",
       "\n",
       "    .dataframe tbody tr th {\n",
       "        vertical-align: top;\n",
       "    }\n",
       "\n",
       "    .dataframe thead th {\n",
       "        text-align: right;\n",
       "    }\n",
       "</style>\n",
       "<table border=\"1\" class=\"dataframe\">\n",
       "  <thead>\n",
       "    <tr style=\"text-align: right;\">\n",
       "      <th></th>\n",
       "      <th>name</th>\n",
       "      <th>dob</th>\n",
       "      <th>salary</th>\n",
       "      <th>favcolor</th>\n",
       "    </tr>\n",
       "  </thead>\n",
       "  <tbody>\n",
       "    <tr>\n",
       "      <th>0</th>\n",
       "      <td>harrison</td>\n",
       "      <td>4/25/1995</td>\n",
       "      <td>100000.0</td>\n",
       "      <td>blue</td>\n",
       "    </tr>\n",
       "    <tr>\n",
       "      <th>1</th>\n",
       "      <td>harrison</td>\n",
       "      <td>4/25/1995</td>\n",
       "      <td>100000.0</td>\n",
       "      <td>blue</td>\n",
       "    </tr>\n",
       "    <tr>\n",
       "      <th>2</th>\n",
       "      <td>harrison</td>\n",
       "      <td>4/25/1995</td>\n",
       "      <td>100000.0</td>\n",
       "      <td>blue</td>\n",
       "    </tr>\n",
       "    <tr>\n",
       "      <th>3</th>\n",
       "      <td>harrison</td>\n",
       "      <td>4/25/1995</td>\n",
       "      <td>100000.0</td>\n",
       "      <td>blue</td>\n",
       "    </tr>\n",
       "    <tr>\n",
       "      <th>4</th>\n",
       "      <td>huckle</td>\n",
       "      <td>11/11/2016</td>\n",
       "      <td>0.0</td>\n",
       "      <td>red</td>\n",
       "    </tr>\n",
       "    <tr>\n",
       "      <th>5</th>\n",
       "      <td>chicken</td>\n",
       "      <td>629836</td>\n",
       "      <td>182098.0</td>\n",
       "      <td>green</td>\n",
       "    </tr>\n",
       "  </tbody>\n",
       "</table>\n",
       "</div>"
      ],
      "text/plain": [
       "       name         dob    salary favcolor\n",
       "0  harrison   4/25/1995  100000.0     blue\n",
       "1  harrison   4/25/1995  100000.0     blue\n",
       "2  harrison   4/25/1995  100000.0     blue\n",
       "3  harrison   4/25/1995  100000.0     blue\n",
       "4    huckle  11/11/2016       0.0      red\n",
       "5   chicken      629836  182098.0    green"
      ]
     },
     "execution_count": 31,
     "metadata": {},
     "output_type": "execute_result"
    }
   ],
   "source": [
    "import pandas as pd\n",
    "\n",
    "# first connect to the database\n",
    "conn = sql.connect('example.db')\n",
    "\n",
    "#read the sql command with the connection object into the db\n",
    "df = pd.read_sql('select * from names', conn)\n",
    "\n",
    "#display the database we imported into pandas\n",
    "df"
   ]
  }
 ],
 "metadata": {
  "kernelspec": {
   "display_name": "Python 3",
   "language": "python",
   "name": "python3"
  },
  "language_info": {
   "codemirror_mode": {
    "name": "ipython",
    "version": 3
   },
   "file_extension": ".py",
   "mimetype": "text/x-python",
   "name": "python",
   "nbconvert_exporter": "python",
   "pygments_lexer": "ipython3",
   "version": "3.6.5"
  }
 },
 "nbformat": 4,
 "nbformat_minor": 2
}
